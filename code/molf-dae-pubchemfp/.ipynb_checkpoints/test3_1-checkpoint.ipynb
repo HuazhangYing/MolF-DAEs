{
 "cells": [
  {
   "cell_type": "code",
   "execution_count": 1,
   "id": "4b20dc0c-6dd5-40ff-b582-f694ec06d023",
   "metadata": {},
   "outputs": [],
   "source": [
    "from molmap.model import RegressionEstimator, MultiClassEstimator, MultiLabelEstimator\n",
    "from sklearn.preprocessing import StandardScaler, MinMaxScaler\n",
    "from molmap import dataset\n",
    "from sklearn.utils import shuffle \n",
    "import matplotlib.pyplot as plt\n",
    "import numpy as np\n",
    "import pandas as pd\n",
    "from molmap import MolMap\n",
    "from molmap import feature\n",
    "# 打开molmap的环境，molmap.model;molmap等宏包会自动导入到这个环境中。\n",
    "# from tensorflow.keras.datasets import mnist\n",
    "import tensorflow as tf\n",
    "import os\n",
    "from tensorflow.keras.layers import Input,Dense, Conv2D, Conv2DTranspose, MaxPooling2D, Flatten, UpSampling2D, Reshape\n",
    "from tensorflow.keras.models import Model,Sequential\n",
    "from joblib import load,dump #导入模型 \n",
    "import matplotlib.pyplot as plt\n",
    "%matplotlib inline"
   ]
  },
  {
   "cell_type": "code",
   "execution_count": 2,
   "id": "d2984057-0790-415c-ab94-092f9996e5d1",
   "metadata": {},
   "outputs": [],
   "source": [
    "gpuid = \"6\"\n",
    "os.environ[\"CUDA_VISIBLE_DEVICES\"] = gpuid\n",
    "physical_gpus = tf.config.list_physical_devices('GPU')\n",
    "tf.config.experimental.set_memory_growth(physical_gpus[0], True)"
   ]
  },
  {
   "cell_type": "code",
   "execution_count": 3,
   "id": "b9e5d40e-007f-4bb4-a7b0-4966b8074728",
   "metadata": {},
   "outputs": [],
   "source": [
    "X1 = load('/raid/wx_home/learning/2_190w_model_new/pubchem_melucule3.data2')"
   ]
  },
  {
   "cell_type": "code",
   "execution_count": 4,
   "id": "39621641-5c3c-4a0d-bad7-82778a07c6f3",
   "metadata": {},
   "outputs": [],
   "source": [
    "X2 = X1[:10]"
   ]
  },
  {
   "cell_type": "code",
   "execution_count": 5,
   "id": "1024913b-6c28-4507-968c-dfd06dda1911",
   "metadata": {},
   "outputs": [
    {
     "data": {
      "image/png": "[encoded data removed]",
      "text/plain": [
       "<Figure size 1440x576 with 10 Axes>"
      ]
     },
     "metadata": {
      "needs_background": "light"
     },
     "output_type": "display_data"
    }
   ],
   "source": [
    "fig = plt.figure(figsize = (20,8))\n",
    "for i in range(10):\n",
    "    ax = plt.subplot(2,5,i+1)\n",
    "    ax.imshow(X2[i])"
   ]
  },
  {
   "cell_type": "code",
   "execution_count": 6,
   "id": "4003a0d1-d6d4-416c-ad1b-a5cc0b064c6d",
   "metadata": {},
   "outputs": [],
   "source": [
    "class Encoder(Model):\n",
    "    def __init__(self):\n",
    "        super().__init__()\n",
    "        self.flatten = Flatten()\n",
    "        self.d1 = Dense(1024, activation='relu')\n",
    "        self.d2 = Dense(512, activation='relu')\n",
    "        self.d3 = Dense(128, activation='relu')\n",
    "        self.d4 = Dense(64, activation='relu')\n",
    "        self.d5 = Dense(32, activation='relu')\n",
    "        self.d6 = Dense(3, activation='relu')\n",
    "        \n",
    "    def call(self,x):\n",
    "        x = self.flatten(x)\n",
    "        x = self.d1(x)\n",
    "        x = self.d2(x)\n",
    "        x = self.d3(x)\n",
    "        x = self.d4(x)\n",
    "        x = self.d5(x)\n",
    "        return self.d6(x)       \n",
    "    \n",
    "    \n",
    "class Decoder(Model):\n",
    "    def __init__(self):\n",
    "        super().__init__()\n",
    "        self.d7 = Dense(32, activation='relu')\n",
    "        self.d8 = Dense(64, activation='relu')\n",
    "        self.d9 = Dense(128, activation='relu')\n",
    "        self.d10 = Dense(512, activation='relu')\n",
    "        self.d11 = Dense(1024, activation='relu')\n",
    "        self.d12 = Dense(729, activation='sigmoid')\n",
    "        self.re = Reshape((27,27))\n",
    "    \n",
    "    def call(self,x):\n",
    "        x = self.d7(x)\n",
    "        x = self.d8(x)\n",
    "        x = self.d9(x)\n",
    "        x = self.d10(x)\n",
    "        x = self.d11(x)\n",
    "        x = self.d12(x)\n",
    "        return  self.re(x)\n",
    "        \n",
    "class Autoencoder(Model):\n",
    "    def __init__(self):\n",
    "        super(Autoencoder, self).__init__()\n",
    "        self.encoder = Encoder()\n",
    "        self.decoder = Decoder()\n",
    "        \n",
    "    def call(self,x):\n",
    "        x = self.encoder(x)\n",
    "        x = self.decoder(x)\n",
    "        return x"
   ]
  },
  {
   "cell_type": "code",
   "execution_count": 8,
   "id": "1f4c3088-5702-42e3-914c-ea1fbed8e37c",
   "metadata": {},
   "outputs": [],
   "source": [
    "model = Autoencoder()"
   ]
  },
  {
   "cell_type": "code",
   "execution_count": 10,
   "id": "2cb8ad35-5986-4c1d-90ea-0a18b1d19aa9",
   "metadata": {
    "collapsed": true,
    "jupyter": {
     "outputs_hidden": true
    },
    "tags": []
   },
   "outputs": [
    {
     "name": "stdout",
     "output_type": "stream",
     "text": [
      "Epoch 1/100\n",
      "2523/2523 [==============================] - 20s 8ms/step - loss: 0.1504\n",
      "Epoch 2/100\n",
      "2523/2523 [==============================] - 18s 7ms/step - loss: 0.1221\n",
      "Epoch 3/100\n",
      "2523/2523 [==============================] - 18s 7ms/step - loss: 0.1148\n",
      "Epoch 4/100\n",
      "2523/2523 [==============================] - 18s 7ms/step - loss: 0.1108\n",
      "Epoch 5/100\n",
      "2523/2523 [==============================] - 18s 7ms/step - loss: 0.1081\n",
      "Epoch 6/100\n",
      "2523/2523 [==============================] - 18s 7ms/step - loss: 0.1061\n",
      "Epoch 7/100\n",
      "2523/2523 [==============================] - 17s 7ms/step - loss: 0.1044\n",
      "Epoch 8/100\n",
      "2523/2523 [==============================] - 18s 7ms/step - loss: 0.1031\n",
      "Epoch 9/100\n",
      "2523/2523 [==============================] - 18s 7ms/step - loss: 0.1020\n",
      "Epoch 10/100\n",
      "2523/2523 [==============================] - 17s 7ms/step - loss: 0.1010\n",
      "Epoch 11/100\n",
      "2523/2523 [==============================] - 18s 7ms/step - loss: 0.1004\n",
      "Epoch 12/100\n",
      "2523/2523 [==============================] - 18s 7ms/step - loss: 0.0998\n",
      "Epoch 13/100\n",
      "2523/2523 [==============================] - 18s 7ms/step - loss: 0.0992\n",
      "Epoch 14/100\n",
      "2523/2523 [==============================] - 18s 7ms/step - loss: 0.0983\n",
      "Epoch 15/100\n",
      "2523/2523 [==============================] - 18s 7ms/step - loss: 0.0977\n",
      "Epoch 16/100\n",
      "2523/2523 [==============================] - 18s 7ms/step - loss: 0.0974\n",
      "Epoch 17/100\n",
      "2523/2523 [==============================] - 17s 7ms/step - loss: 0.0970\n",
      "Epoch 18/100\n",
      "2523/2523 [==============================] - 18s 7ms/step - loss: 0.0965\n",
      "Epoch 19/100\n",
      "2523/2523 [==============================] - 18s 7ms/step - loss: 0.0963\n",
      "Epoch 20/100\n",
      "2523/2523 [==============================] - 18s 7ms/step - loss: 0.0959\n",
      "Epoch 21/100\n",
      "2523/2523 [==============================] - 17s 7ms/step - loss: 0.0958\n",
      "Epoch 22/100\n",
      "2523/2523 [==============================] - 18s 7ms/step - loss: 0.0952\n",
      "Epoch 23/100\n",
      "2523/2523 [==============================] - 18s 7ms/step - loss: 0.0949\n",
      "Epoch 24/100\n",
      "2523/2523 [==============================] - 18s 7ms/step - loss: 0.0947\n",
      "Epoch 25/100\n",
      "2523/2523 [==============================] - 18s 7ms/step - loss: 0.0947\n",
      "Epoch 26/100\n",
      "2523/2523 [==============================] - 18s 7ms/step - loss: 0.0940\n",
      "Epoch 27/100\n",
      "2523/2523 [==============================] - 17s 7ms/step - loss: 0.0939\n",
      "Epoch 28/100\n",
      "2523/2523 [==============================] - 18s 7ms/step - loss: 0.0933\n",
      "Epoch 29/100\n",
      "2523/2523 [==============================] - 17s 7ms/step - loss: 0.0933\n",
      "Epoch 30/100\n",
      "2523/2523 [==============================] - 18s 7ms/step - loss: 0.0931\n",
      "Epoch 31/100\n",
      "2523/2523 [==============================] - 18s 7ms/step - loss: 0.0928\n",
      "Epoch 32/100\n",
      "2523/2523 [==============================] - 18s 7ms/step - loss: 0.0924\n",
      "Epoch 33/100\n",
      "2523/2523 [==============================] - 18s 7ms/step - loss: 0.0922\n",
      "Epoch 34/100\n",
      "2523/2523 [==============================] - 18s 7ms/step - loss: 0.0922\n",
      "Epoch 35/100\n",
      "2523/2523 [==============================] - 17s 7ms/step - loss: 0.0917\n",
      "Epoch 36/100\n",
      "2523/2523 [==============================] - 18s 7ms/step - loss: 0.0919\n",
      "Epoch 37/100\n",
      "2523/2523 [==============================] - 18s 7ms/step - loss: 0.0916\n",
      "Epoch 38/100\n",
      "2523/2523 [==============================] - 18s 7ms/step - loss: 0.0915\n",
      "Epoch 39/100\n",
      "2523/2523 [==============================] - 18s 7ms/step - loss: 0.0918\n",
      "Epoch 40/100\n",
      "2523/2523 [==============================] - 17s 7ms/step - loss: 0.0913\n",
      "Epoch 41/100\n",
      "2523/2523 [==============================] - 18s 7ms/step - loss: 0.0913\n",
      "Epoch 42/100\n",
      "2523/2523 [==============================] - 18s 7ms/step - loss: 0.0909\n",
      "Epoch 43/100\n",
      "2523/2523 [==============================] - 17s 7ms/step - loss: 0.0910\n",
      "Epoch 44/100\n",
      "2523/2523 [==============================] - 18s 7ms/step - loss: 0.0917\n",
      "Epoch 45/100\n",
      "2523/2523 [==============================] - 18s 7ms/step - loss: 0.0915\n",
      "Epoch 46/100\n",
      "2523/2523 [==============================] - 18s 7ms/step - loss: 0.0910\n",
      "Epoch 47/100\n",
      "2523/2523 [==============================] - 18s 7ms/step - loss: 0.0907\n",
      "Epoch 48/100\n",
      "2523/2523 [==============================] - 18s 7ms/step - loss: 0.0910\n",
      "Epoch 49/100\n",
      "2523/2523 [==============================] - 18s 7ms/step - loss: 0.0909\n",
      "Epoch 50/100\n",
      "2523/2523 [==============================] - 18s 7ms/step - loss: 0.0906\n",
      "Epoch 51/100\n",
      "2523/2523 [==============================] - 17s 7ms/step - loss: 0.0911\n",
      "Epoch 52/100\n",
      "2523/2523 [==============================] - 18s 7ms/step - loss: 0.0907\n",
      "Epoch 53/100\n",
      "2523/2523 [==============================] - 18s 7ms/step - loss: 0.0909\n",
      "Epoch 54/100\n",
      "2523/2523 [==============================] - 18s 7ms/step - loss: 0.0914\n",
      "Epoch 55/100\n",
      "2523/2523 [==============================] - 18s 7ms/step - loss: 0.0906\n",
      "Epoch 56/100\n",
      "2523/2523 [==============================] - 18s 7ms/step - loss: 0.0903\n",
      "Epoch 57/100\n",
      "2523/2523 [==============================] - 18s 7ms/step - loss: 0.0910\n",
      "Epoch 58/100\n",
      "2523/2523 [==============================] - 18s 7ms/step - loss: 0.0911\n",
      "Epoch 59/100\n",
      "2523/2523 [==============================] - 18s 7ms/step - loss: 0.0912\n",
      "Epoch 60/100\n",
      "2523/2523 [==============================] - 18s 7ms/step - loss: 0.0908\n",
      "Epoch 61/100\n",
      "2523/2523 [==============================] - 17s 7ms/step - loss: 0.0910\n",
      "Epoch 62/100\n",
      "2523/2523 [==============================] - 17s 7ms/step - loss: 0.0919\n",
      "Epoch 63/100\n",
      "2523/2523 [==============================] - 18s 7ms/step - loss: 0.0909\n",
      "Epoch 64/100\n",
      "2523/2523 [==============================] - 18s 7ms/step - loss: 0.0904\n",
      "Epoch 65/100\n",
      "2523/2523 [==============================] - 18s 7ms/step - loss: 0.0901\n",
      "Epoch 66/100\n",
      "2523/2523 [==============================] - 18s 7ms/step - loss: 0.0904\n",
      "Epoch 67/100\n",
      "2523/2523 [==============================] - 17s 7ms/step - loss: 0.0898\n",
      "Epoch 68/100\n",
      "2523/2523 [==============================] - 18s 7ms/step - loss: 0.0902\n",
      "Epoch 69/100\n",
      "2523/2523 [==============================] - 18s 7ms/step - loss: 0.0902\n",
      "Epoch 70/100\n",
      "2523/2523 [==============================] - 18s 7ms/step - loss: 0.0936\n",
      "Epoch 71/100\n",
      "2523/2523 [==============================] - 17s 7ms/step - loss: 0.0905\n",
      "Epoch 72/100\n",
      "2523/2523 [==============================] - 17s 7ms/step - loss: 0.0899\n",
      "Epoch 73/100\n",
      "2523/2523 [==============================] - 18s 7ms/step - loss: 0.0905\n",
      "Epoch 74/100\n",
      "2523/2523 [==============================] - 18s 7ms/step - loss: 0.0901\n",
      "Epoch 75/100\n",
      "2523/2523 [==============================] - 18s 7ms/step - loss: 0.0896\n",
      "Epoch 76/100\n",
      "2523/2523 [==============================] - 18s 7ms/step - loss: 0.0892\n",
      "Epoch 77/100\n",
      "2523/2523 [==============================] - 18s 7ms/step - loss: 0.0898\n",
      "Epoch 78/100\n",
      "2523/2523 [==============================] - 17s 7ms/step - loss: 0.0892\n",
      "Epoch 79/100\n",
      "2523/2523 [==============================] - 18s 7ms/step - loss: 0.0887\n",
      "Epoch 80/100\n",
      "2523/2523 [==============================] - 18s 7ms/step - loss: 0.0886\n",
      "Epoch 81/100\n",
      "2523/2523 [==============================] - 18s 7ms/step - loss: 0.0885\n",
      "Epoch 82/100\n",
      "2523/2523 [==============================] - 17s 7ms/step - loss: 0.0882\n",
      "Epoch 83/100\n",
      "2523/2523 [==============================] - 18s 7ms/step - loss: 0.0887\n",
      "Epoch 84/100\n",
      "2523/2523 [==============================] - 18s 7ms/step - loss: 0.0890\n",
      "Epoch 85/100\n",
      "2523/2523 [==============================] - 17s 7ms/step - loss: 0.0895\n",
      "Epoch 86/100\n",
      "2523/2523 [==============================] - 17s 7ms/step - loss: 0.0883\n",
      "Epoch 87/100\n",
      "2523/2523 [==============================] - 18s 7ms/step - loss: 0.0882\n",
      "Epoch 88/100\n",
      "2523/2523 [==============================] - 18s 7ms/step - loss: 0.0884\n",
      "Epoch 89/100\n",
      "2523/2523 [==============================] - 17s 7ms/step - loss: 0.0883\n",
      "Epoch 90/100\n",
      "2523/2523 [==============================] - 18s 7ms/step - loss: 0.0877\n",
      "Epoch 91/100\n",
      "2523/2523 [==============================] - 17s 7ms/step - loss: 0.0876\n",
      "Epoch 92/100\n",
      "2523/2523 [==============================] - 18s 7ms/step - loss: 0.0876\n",
      "Epoch 93/100\n",
      "2523/2523 [==============================] - 18s 7ms/step - loss: 0.0878\n",
      "Epoch 94/100\n",
      "2523/2523 [==============================] - 18s 7ms/step - loss: 0.0879\n",
      "Epoch 95/100\n",
      "2523/2523 [==============================] - 17s 7ms/step - loss: 0.0880\n",
      "Epoch 96/100\n",
      "2523/2523 [==============================] - 18s 7ms/step - loss: 0.0875\n",
      "Epoch 97/100\n",
      "2523/2523 [==============================] - 18s 7ms/step - loss: 0.0883\n",
      "Epoch 98/100\n",
      "2523/2523 [==============================] - 17s 7ms/step - loss: 0.0878\n",
      "Epoch 99/100\n",
      "2523/2523 [==============================] - 17s 7ms/step - loss: 0.0884\n",
      "Epoch 100/100\n",
      "2523/2523 [==============================] - 18s 7ms/step - loss: 0.0882\n"
     ]
    }
   ],
   "source": [
    "model.compile(optimizer='Adam',loss='binary_crossentropy')\n",
    "history1 = model.fit(X1, X1, batch_size=768, epochs=100)"
   ]
  },
  {
   "cell_type": "code",
   "execution_count": 12,
   "id": "beabf264-533e-428b-91db-9fee1507c2b1",
   "metadata": {
    "collapsed": true,
    "jupyter": {
     "outputs_hidden": true
    },
    "tags": []
   },
   "outputs": [
    {
     "name": "stdout",
     "output_type": "stream",
     "text": [
      "Epoch 1/100\n",
      "2523/2523 [==============================] - 18s 7ms/step - loss: 0.0262\n",
      "Epoch 2/100\n",
      "2523/2523 [==============================] - 17s 7ms/step - loss: 0.0259\n",
      "Epoch 3/100\n",
      "2523/2523 [==============================] - 17s 7ms/step - loss: 0.0259\n",
      "Epoch 4/100\n",
      "2523/2523 [==============================] - 17s 7ms/step - loss: 0.0257\n",
      "Epoch 5/100\n",
      "2523/2523 [==============================] - 17s 7ms/step - loss: 0.0256\n",
      "Epoch 6/100\n",
      "2523/2523 [==============================] - 17s 7ms/step - loss: 0.0257\n",
      "Epoch 7/100\n",
      "2523/2523 [==============================] - 17s 7ms/step - loss: 0.0257\n",
      "Epoch 8/100\n",
      "2523/2523 [==============================] - 17s 7ms/step - loss: 0.0259\n",
      "Epoch 9/100\n",
      "2523/2523 [==============================] - 17s 7ms/step - loss: 0.0256\n",
      "Epoch 10/100\n",
      "2523/2523 [==============================] - 17s 7ms/step - loss: 0.0255\n",
      "Epoch 11/100\n",
      "2523/2523 [==============================] - 17s 7ms/step - loss: 0.0257\n",
      "Epoch 12/100\n",
      "2523/2523 [==============================] - 17s 7ms/step - loss: 0.0258\n",
      "Epoch 13/100\n",
      "2523/2523 [==============================] - 17s 7ms/step - loss: 0.0256\n",
      "Epoch 14/100\n",
      "2523/2523 [==============================] - 17s 7ms/step - loss: 0.0257\n",
      "Epoch 15/100\n",
      "2523/2523 [==============================] - 17s 7ms/step - loss: 0.0255\n",
      "Epoch 16/100\n",
      "2523/2523 [==============================] - 17s 7ms/step - loss: 0.0256\n",
      "Epoch 17/100\n",
      "2523/2523 [==============================] - 17s 7ms/step - loss: 0.0256\n",
      "Epoch 18/100\n",
      "2523/2523 [==============================] - 17s 7ms/step - loss: 0.0255\n",
      "Epoch 19/100\n",
      "2523/2523 [==============================] - 17s 7ms/step - loss: 0.0255\n",
      "Epoch 20/100\n",
      "2523/2523 [==============================] - 17s 7ms/step - loss: 0.0254\n",
      "Epoch 21/100\n",
      "2523/2523 [==============================] - 17s 7ms/step - loss: 0.0259\n",
      "Epoch 22/100\n",
      "2523/2523 [==============================] - 17s 7ms/step - loss: 0.0260\n",
      "Epoch 23/100\n",
      "2523/2523 [==============================] - 17s 7ms/step - loss: 0.0260\n",
      "Epoch 24/100\n",
      "2523/2523 [==============================] - 17s 7ms/step - loss: 0.0258\n",
      "Epoch 25/100\n",
      "2523/2523 [==============================] - 17s 7ms/step - loss: 0.0255\n",
      "Epoch 26/100\n",
      "2523/2523 [==============================] - 16s 7ms/step - loss: 0.0254\n",
      "Epoch 27/100\n",
      "2523/2523 [==============================] - 17s 7ms/step - loss: 0.0254\n",
      "Epoch 28/100\n",
      "2523/2523 [==============================] - 17s 7ms/step - loss: 0.0255\n",
      "Epoch 29/100\n",
      "2523/2523 [==============================] - 17s 7ms/step - loss: 0.0257\n",
      "Epoch 30/100\n",
      "2523/2523 [==============================] - 17s 7ms/step - loss: 0.0254\n",
      "Epoch 31/100\n",
      "2523/2523 [==============================] - 17s 7ms/step - loss: 0.0253\n",
      "Epoch 32/100\n",
      "2523/2523 [==============================] - 16s 7ms/step - loss: 0.0254\n",
      "Epoch 33/100\n",
      "2523/2523 [==============================] - 17s 7ms/step - loss: 0.0253\n",
      "Epoch 34/100\n",
      "2523/2523 [==============================] - 16s 7ms/step - loss: 0.0253\n",
      "Epoch 35/100\n",
      "2523/2523 [==============================] - 17s 7ms/step - loss: 0.0253\n",
      "Epoch 36/100\n",
      "2523/2523 [==============================] - 17s 7ms/step - loss: 0.0251\n",
      "Epoch 37/100\n",
      "2523/2523 [==============================] - 17s 7ms/step - loss: 0.0252\n",
      "Epoch 38/100\n",
      "2523/2523 [==============================] - 16s 7ms/step - loss: 0.0252\n",
      "Epoch 39/100\n",
      "2523/2523 [==============================] - 16s 7ms/step - loss: 0.0252\n",
      "Epoch 40/100\n",
      "2523/2523 [==============================] - 16s 7ms/step - loss: 0.0251\n",
      "Epoch 41/100\n",
      "2523/2523 [==============================] - 17s 7ms/step - loss: 0.0252\n",
      "Epoch 42/100\n",
      "2523/2523 [==============================] - 17s 7ms/step - loss: 0.0251\n",
      "Epoch 43/100\n",
      "2523/2523 [==============================] - 17s 7ms/step - loss: 0.0252\n",
      "Epoch 44/100\n",
      "2523/2523 [==============================] - 16s 7ms/step - loss: 0.0253\n",
      "Epoch 45/100\n",
      "2523/2523 [==============================] - 17s 7ms/step - loss: 0.0257\n",
      "Epoch 46/100\n",
      "2523/2523 [==============================] - 16s 7ms/step - loss: 0.0254\n",
      "Epoch 47/100\n",
      "2523/2523 [==============================] - 17s 7ms/step - loss: 0.0253\n",
      "Epoch 48/100\n",
      "2523/2523 [==============================] - 17s 7ms/step - loss: 0.0252\n",
      "Epoch 49/100\n",
      "2523/2523 [==============================] - 17s 7ms/step - loss: 0.0252\n",
      "Epoch 50/100\n",
      "2523/2523 [==============================] - 17s 7ms/step - loss: 0.0253\n",
      "Epoch 51/100\n",
      "2523/2523 [==============================] - 17s 7ms/step - loss: 0.0252\n",
      "Epoch 52/100\n",
      "2523/2523 [==============================] - 17s 7ms/step - loss: 0.0252\n",
      "Epoch 53/100\n",
      "2523/2523 [==============================] - 17s 7ms/step - loss: 0.0252\n",
      "Epoch 54/100\n",
      "2523/2523 [==============================] - 16s 7ms/step - loss: 0.0250\n",
      "Epoch 55/100\n",
      "2523/2523 [==============================] - 16s 7ms/step - loss: 0.0250\n",
      "Epoch 56/100\n",
      "2523/2523 [==============================] - 17s 7ms/step - loss: 0.0250\n",
      "Epoch 57/100\n",
      "2523/2523 [==============================] - 17s 7ms/step - loss: 0.0254\n",
      "Epoch 58/100\n",
      "2523/2523 [==============================] - 16s 7ms/step - loss: 0.0259\n",
      "Epoch 59/100\n",
      "2523/2523 [==============================] - 17s 7ms/step - loss: 0.0257\n",
      "Epoch 60/100\n",
      "2523/2523 [==============================] - 17s 7ms/step - loss: 0.0252\n",
      "Epoch 61/100\n",
      "2523/2523 [==============================] - 16s 6ms/step - loss: 0.0252\n",
      "Epoch 62/100\n",
      "2523/2523 [==============================] - 17s 7ms/step - loss: 0.0252\n",
      "Epoch 63/100\n",
      "2523/2523 [==============================] - 17s 7ms/step - loss: 0.0251\n",
      "Epoch 64/100\n",
      "2523/2523 [==============================] - 17s 7ms/step - loss: 0.0250\n",
      "Epoch 65/100\n",
      "2523/2523 [==============================] - 17s 7ms/step - loss: 0.0249\n",
      "Epoch 66/100\n",
      "2523/2523 [==============================] - 17s 7ms/step - loss: 0.0249\n",
      "Epoch 67/100\n",
      "2523/2523 [==============================] - 17s 7ms/step - loss: 0.0249\n",
      "Epoch 68/100\n",
      "2523/2523 [==============================] - 17s 7ms/step - loss: 0.0249\n",
      "Epoch 69/100\n",
      "2523/2523 [==============================] - 16s 7ms/step - loss: 0.0249\n",
      "Epoch 70/100\n",
      "2523/2523 [==============================] - 17s 7ms/step - loss: 0.0249\n",
      "Epoch 71/100\n",
      "2523/2523 [==============================] - 17s 7ms/step - loss: 0.0249\n",
      "Epoch 72/100\n",
      "2523/2523 [==============================] - 17s 7ms/step - loss: 0.0249\n",
      "Epoch 73/100\n",
      "2523/2523 [==============================] - 17s 7ms/step - loss: 0.0248\n",
      "Epoch 74/100\n",
      "2523/2523 [==============================] - 17s 7ms/step - loss: 0.0248\n",
      "Epoch 75/100\n",
      "2523/2523 [==============================] - 16s 7ms/step - loss: 0.0248\n",
      "Epoch 76/100\n",
      "2523/2523 [==============================] - 17s 7ms/step - loss: 0.0247\n",
      "Epoch 77/100\n",
      "2523/2523 [==============================] - 17s 7ms/step - loss: 0.0247\n",
      "Epoch 78/100\n",
      "2523/2523 [==============================] - 17s 7ms/step - loss: 0.0246\n",
      "Epoch 79/100\n",
      "2523/2523 [==============================] - 17s 7ms/step - loss: 0.0247\n",
      "Epoch 80/100\n",
      "2523/2523 [==============================] - 17s 7ms/step - loss: 0.0246\n",
      "Epoch 81/100\n",
      "2523/2523 [==============================] - 17s 7ms/step - loss: 0.0246\n",
      "Epoch 82/100\n",
      "2523/2523 [==============================] - 17s 7ms/step - loss: 0.0245\n",
      "Epoch 83/100\n",
      "2523/2523 [==============================] - 17s 7ms/step - loss: 0.0245\n",
      "Epoch 84/100\n",
      "2523/2523 [==============================] - 17s 7ms/step - loss: 0.0245\n",
      "Epoch 85/100\n",
      "2523/2523 [==============================] - 17s 7ms/step - loss: 0.0246\n",
      "Epoch 86/100\n",
      "2523/2523 [==============================] - 17s 7ms/step - loss: 0.0245\n",
      "Epoch 87/100\n",
      "2523/2523 [==============================] - 17s 7ms/step - loss: 0.0245\n",
      "Epoch 88/100\n",
      "2523/2523 [==============================] - 17s 7ms/step - loss: 0.0245\n",
      "Epoch 89/100\n",
      "2523/2523 [==============================] - 17s 7ms/step - loss: 0.0245\n",
      "Epoch 90/100\n",
      "2523/2523 [==============================] - 17s 7ms/step - loss: 0.0247\n",
      "Epoch 91/100\n",
      "2523/2523 [==============================] - 17s 7ms/step - loss: 0.0246\n",
      "Epoch 92/100\n",
      "2523/2523 [==============================] - 17s 7ms/step - loss: 0.0245\n",
      "Epoch 93/100\n",
      "2523/2523 [==============================] - 17s 7ms/step - loss: 0.0245\n",
      "Epoch 94/100\n",
      "2523/2523 [==============================] - 17s 7ms/step - loss: 0.0245\n",
      "Epoch 95/100\n",
      "2523/2523 [==============================] - 17s 7ms/step - loss: 0.0246\n",
      "Epoch 96/100\n",
      "2523/2523 [==============================] - 17s 7ms/step - loss: 0.0245\n",
      "Epoch 97/100\n",
      "2523/2523 [==============================] - 17s 7ms/step - loss: 0.0246\n",
      "Epoch 98/100\n",
      "2523/2523 [==============================] - 17s 7ms/step - loss: 0.0248\n",
      "Epoch 99/100\n",
      "2523/2523 [==============================] - 17s 7ms/step - loss: 0.0247\n",
      "Epoch 100/100\n",
      "2523/2523 [==============================] - 17s 7ms/step - loss: 0.0247\n"
     ]
    }
   ],
   "source": [
    "model.compile(optimizer='Adam',loss='mse')\n",
    "history2 = model.fit(X1, X1, batch_size=768, epochs=100)"
   ]
  },
  {
   "cell_type": "code",
   "execution_count": 13,
   "id": "507ddb38-2328-4335-956e-d1cf59cf94eb",
   "metadata": {},
   "outputs": [
    {
     "data": {
      "text/plain": [
       "<AxesSubplot:>"
      ]
     },
     "execution_count": 13,
     "metadata": {},
     "output_type": "execute_result"
    },
    {
     "data": {
      "image/png": "[encoded data removed]",
      "text/plain": [
       "<Figure size 432x288 with 1 Axes>"
      ]
     },
     "metadata": {
      "needs_background": "light"
     },
     "output_type": "display_data"
    },
    {
     "data": {
      "image/png": "[encoded data removed]",
      "text/plain": [
       "<Figure size 432x288 with 1 Axes>"
      ]
     },
     "metadata": {
      "needs_background": "light"
     },
     "output_type": "display_data"
    }
   ],
   "source": [
    "pd.DataFrame(history1.history).plot()\n",
    "pd.DataFrame(history2.history).plot()"
   ]
  },
  {
   "cell_type": "code",
   "execution_count": 21,
   "id": "b2726073-3fbf-4fcd-ae42-d5adeae0dee5",
   "metadata": {
    "tags": []
   },
   "outputs": [],
   "source": [
    "y_pre = model.predict(X1[:10])"
   ]
  },
  {
   "cell_type": "code",
   "execution_count": 22,
   "id": "f378582d-568d-4827-9fb7-3aa955e9ead6",
   "metadata": {
    "tags": []
   },
   "outputs": [
    {
     "data": {
      "image/png": "[encoded data removed]",
      "text/plain": [
       "<Figure size 1440x576 with 10 Axes>"
      ]
     },
     "metadata": {
      "needs_background": "light"
     },
     "output_type": "display_data"
    }
   ],
   "source": [
    "fig = plt.figure(figsize = (20,8))\n",
    "for i in range(10):\n",
    "    ax = plt.subplot(2,5,i+1)\n",
    "    ax.imshow(y_pre[i])"
   ]
  },
  {
   "cell_type": "code",
   "execution_count": 20,
   "id": "47370e82-eab9-4d29-841d-92f1952c2136",
   "metadata": {},
   "outputs": [],
   "source": [
    "model.save('test_1_model')"
   ]
  },
  {
   "cell_type": "code",
   "execution_count": 43,
   "id": "18837798-7b9d-45c6-9b3b-0fe1881eab3f",
   "metadata": {
    "tags": []
   },
   "outputs": [],
   "source": [
    "X3 = model.encoder(X1[:200000])"
   ]
  },
  {
   "cell_type": "code",
   "execution_count": 40,
   "id": "950376b8-3b36-4c84-a812-e9a8fe81d214",
   "metadata": {},
   "outputs": [],
   "source": [
    "from keras.backend import set_session\n",
    "from keras.backend import clear_session\n",
    "from keras.backend import get_session\n",
    "import tensorflow as tf\n",
    "import gc\n",
    " \n",
    "# Reset Keras Session\n",
    "def reset_keras():\n",
    "    sess = get_session()\n",
    "    clear_session()\n",
    "    sess.close()\n",
    "    sess = get_session()\n",
    " \n",
    "    try:\n",
    "        del classifier # this is from global space - change this as you need\n",
    "    except:\n",
    "        pass\n",
    " \n",
    "    print(gc.collect()) # if it does something you should see a number as output\n",
    " \n",
    "    # use the same config as you used to create the session\n",
    "    config = tf.compat.v1.ConfigProto()\n",
    "    config.gpu_options.per_process_gpu_memory_fraction = 1\n",
    "    config.gpu_options.visible_device_list = \"0\"\n",
    "    set_session(tf.compat.v1.Session(config=config))"
   ]
  },
  {
   "cell_type": "code",
   "execution_count": 45,
   "id": "a06aeaed-3631-4af8-a65e-b231fc3a933a",
   "metadata": {},
   "outputs": [
    {
     "name": "stdout",
     "output_type": "stream",
     "text": [
      "100\n"
     ]
    }
   ],
   "source": [
    "reset_keras()"
   ]
  },
  {
   "cell_type": "code",
   "execution_count": 44,
   "id": "1ce23caf-eba4-4b84-b2be-e6e9a0232fca",
   "metadata": {},
   "outputs": [
    {
     "data": {
      "text/plain": [
       "<tf.Tensor: shape=(200000, 3), dtype=float32, numpy=\n",
       "array([[16.913223 ,  9.003444 , 16.801203 ],\n",
       "       [17.327446 , 12.183651 , 26.989477 ],\n",
       "       [55.04035  , 15.95218  , 18.561796 ],\n",
       "       ...,\n",
       "       [28.930975 ,  3.7196262,  2.9373443],\n",
       "       [76.32137  , 28.849741 , 48.899048 ],\n",
       "       [42.104656 , 34.952377 , 40.65241  ]], dtype=float32)>"
      ]
     },
     "execution_count": 44,
     "metadata": {},
     "output_type": "execute_result"
    }
   ],
   "source": [
    "X3"
   ]
  },
  {
   "cell_type": "code",
   "execution_count": 47,
   "id": "3e344033-aa84-4e67-a40a-3716971e4013",
   "metadata": {},
   "outputs": [
    {
     "name": "stdout",
     "output_type": "stream",
     "text": [
      "162\n",
      "100\n",
      "100\n",
      "100\n",
      "100\n",
      "100\n",
      "100\n",
      "100\n"
     ]
    }
   ],
   "source": [
    "X6 = model.encoder(X1[200000:400000])\n",
    "reset_keras()\n",
    "X7 = model.encoder(X1[400000:600000])\n",
    "reset_keras()\n",
    "X8 = model.encoder(X1[600000:800000])\n",
    "reset_keras()\n",
    "X9 = model.encoder(X1[800000:1000000])\n",
    "reset_keras()\n",
    "X10 = model.encoder(X1[1000000:1200000])\n",
    "reset_keras()\n",
    "X11 = model.encoder(X1[1200000:1400000])\n",
    "reset_keras()\n",
    "X12 = model.encoder(X1[1400000:1600000])\n",
    "reset_keras()\n",
    "X13 = model.encoder(X1[1600000:1800000])\n",
    "reset_keras()\n",
    "X14 = model.encoder(X1[1800000:2000000])"
   ]
  },
  {
   "cell_type": "code",
   "execution_count": 49,
   "id": "7f6afb4f-11a1-4a8d-be01-dab5ba3aea1f",
   "metadata": {},
   "outputs": [
    {
     "data": {
      "text/plain": [
       "['/raid/wx_home/learning/2_190w_model_new/parameter_adjust/test1_data/1800000-2000000']"
      ]
     },
     "execution_count": 49,
     "metadata": {},
     "output_type": "execute_result"
    }
   ],
   "source": [
    "dump(X3, '/raid/wx_home/learning/2_190w_model_new/parameter_adjust/test1_data/1-200000')\n",
    "dump(X6, '/raid/wx_home/learning/2_190w_model_new/parameter_adjust/test1_data/200000-400000')\n",
    "dump(X7, '/raid/wx_home/learning/2_190w_model_new/parameter_adjust/test1_data/400000-600000')\n",
    "dump(X8, '/raid/wx_home/learning/2_190w_model_new/parameter_adjust/test1_data/600000-800000')\n",
    "dump(X9, '/raid/wx_home/learning/2_190w_model_new/parameter_adjust/test1_data/800000-1000000')\n",
    "dump(X10, '/raid/wx_home/learning/2_190w_model_new/parameter_adjust/test1_data/1000000-1200000')\n",
    "dump(X11, '/raid/wx_home/learning/2_190w_model_new/parameter_adjust/test1_data/1200000-1400000')\n",
    "dump(X12, '/raid/wx_home/learning/2_190w_model_new/parameter_adjust/test1_data/1400000-1600000')\n",
    "dump(X13, '/raid/wx_home/learning/2_190w_model_new/parameter_adjust/test1_data/1600000-1800000')\n",
    "dump(X14, '/raid/wx_home/learning/2_190w_model_new/parameter_adjust/test1_data/1800000-2000000')"
   ]
  },
  {
   "cell_type": "code",
   "execution_count": null,
   "id": "6d92b7d9-51a8-44e1-858c-250017b21adf",
   "metadata": {},
   "outputs": [],
   "source": []
  }
 ],
 "metadata": {
  "kernelspec": {
   "display_name": "tensorflow",
   "language": "python",
   "name": "tensorflow"
  },
  "language_info": {
   "codemirror_mode": {
    "name": "ipython",
    "version": 3
   },
   "file_extension": ".py",
   "mimetype": "text/x-python",
   "name": "python",
   "nbconvert_exporter": "python",
   "pygments_lexer": "ipython3",
   "version": "3.6.15"
  }
 },
 "nbformat": 4,
 "nbformat_minor": 5
}
