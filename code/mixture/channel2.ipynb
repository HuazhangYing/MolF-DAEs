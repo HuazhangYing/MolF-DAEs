{
 "cells": [
  {
   "cell_type": "code",
   "execution_count": 1,
   "id": "49a3ca2e-fed6-4387-bd23-9b94d3d85ea2",
   "metadata": {},
   "outputs": [],
   "source": [
    "from molmap.model import RegressionEstimator, MultiClassEstimator, MultiLabelEstimator\n",
    "from sklearn.preprocessing import StandardScaler, MinMaxScaler\n",
    "from molmap import dataset\n",
    "from sklearn.utils import shuffle \n",
    "import matplotlib.pyplot as plt\n",
    "import numpy as np\n",
    "import pandas as pd\n",
    "from molmap import MolMap\n",
    "from molmap import feature\n",
    "# 打开molmap的环境，molmap.model;molmap等宏包会自动导入到这个环境中。\n",
    "# from tensorflow.keras.datasets import mnist\n",
    "import tensorflow as tf\n",
    "import os\n",
    "from tensorflow.keras.layers import Input,Dense, Conv2D, Conv2DTranspose, MaxPooling2D, Flatten, UpSampling2D, Reshape\n",
    "from tensorflow.keras.models import Model,Sequential\n",
    "from joblib import load,dump #导入模型 \n",
    "import matplotlib.pyplot as plt\n",
    "%matplotlib inline"
   ]
  },
  {
   "cell_type": "code",
   "execution_count": 2,
   "id": "a61911b8-5437-48bb-894d-61961784d177",
   "metadata": {},
   "outputs": [],
   "source": [
    "gpuid = \"1\"\n",
    "os.environ[\"CUDA_VISIBLE_DEVICES\"] = gpuid\n",
    "physical_gpus = tf.config.list_physical_devices('GPU')\n",
    "tf.config.experimental.set_memory_growth(physical_gpus[0], True)"
   ]
  },
  {
   "cell_type": "code",
   "execution_count": 3,
   "id": "719bd480-7ae6-4ad3-8fff-79bdb312974f",
   "metadata": {},
   "outputs": [],
   "source": [
    "X2 = load('/raid/wx_home/learning/2_190w_model_new/melucule2.data2')"
   ]
  },
  {
   "cell_type": "code",
   "execution_count": 4,
   "id": "577f9a7b-1388-4e1c-8af8-7b9e504553ea",
   "metadata": {},
   "outputs": [
    {
     "data": {
      "text/plain": [
       "(1937109, 37, 36, 3)"
      ]
     },
     "execution_count": 4,
     "metadata": {},
     "output_type": "execute_result"
    }
   ],
   "source": [
    "X2.shape"
   ]
  },
  {
   "cell_type": "code",
   "execution_count": 5,
   "id": "8f36ded7-d820-4332-a934-14e5d86176a9",
   "metadata": {},
   "outputs": [],
   "source": [
    "X2_new2 = X2[:,:,:,1]"
   ]
  },
  {
   "cell_type": "code",
   "execution_count": 6,
   "id": "11437c6d-ae16-47fb-aa6f-bf7cac18313e",
   "metadata": {},
   "outputs": [],
   "source": [
    "X3 = X2_new2[:10]"
   ]
  },
  {
   "cell_type": "code",
   "execution_count": 7,
   "id": "787148c2-4e78-40eb-b7a1-f3f68595b808",
   "metadata": {},
   "outputs": [
    {
     "data": {
      "image/png": "[encoded data removed]",
      "text/plain": [
       "<Figure size 1440x576 with 10 Axes>"
      ]
     },
     "metadata": {
      "needs_background": "light"
     },
     "output_type": "display_data"
    }
   ],
   "source": [
    "fig = plt.figure(figsize = (20,8))\n",
    "for i in range(10):\n",
    "    ax = plt.subplot(2,5,i+1)\n",
    "    ax.imshow(X3[i])"
   ]
  },
  {
   "cell_type": "code",
   "execution_count": 8,
   "id": "e9189328-52c3-4653-8151-d1af29bd5749",
   "metadata": {},
   "outputs": [],
   "source": [
    "class Encoder(Model):\n",
    "    def __init__(self):\n",
    "        super().__init__()\n",
    "        self.flatten = Flatten()\n",
    "        self.d1 = Dense(1024, activation='relu')\n",
    "        self.d2 = Dense(512, activation='relu')\n",
    "        self.d3 = Dense(128, activation='relu')\n",
    "        self.d4 = Dense(64, activation='relu')\n",
    "        self.d5 = Dense(3, activation='relu')\n",
    "        \n",
    "    def call(self,x):\n",
    "        x = self.flatten(x)\n",
    "        x = self.d1(x)\n",
    "        x = self.d2(x)\n",
    "        x = self.d3(x)\n",
    "        x = self.d4(x)\n",
    "        return self.d5(x)       \n",
    "    \n",
    "    \n",
    "class Decoder(Model):\n",
    "    def __init__(self):\n",
    "        super().__init__()\n",
    "        self.d6 = Dense(64, activation='relu')\n",
    "        self.d7 = Dense(128, activation='relu')\n",
    "        self.d8 = Dense(512, activation='relu')\n",
    "        self.d9 = Dense(1024, activation='relu')\n",
    "        self.d10 = Dense(1332, activation='sigmoid')\n",
    "        self.re = Reshape((37,36))\n",
    "    \n",
    "    def call(self,x):\n",
    "        x = self.d6(x)\n",
    "        x = self.d7(x)\n",
    "        x = self.d8(x)\n",
    "        x = self.d9(x)\n",
    "        x = self.d10(x)\n",
    "        return  self.re(x)\n",
    "        \n",
    "class Autoencoder(Model):\n",
    "    def __init__(self):\n",
    "        super(Autoencoder, self).__init__()\n",
    "        self.encoder = Encoder()\n",
    "        self.decoder = Decoder()\n",
    "        \n",
    "    def call(self,x):\n",
    "        x = self.encoder(x)\n",
    "        x = self.decoder(x)\n",
    "        return x"
   ]
  },
  {
   "cell_type": "code",
   "execution_count": 9,
   "id": "3ced1b81-b5de-41f5-86c5-0450d502cfeb",
   "metadata": {
    "collapsed": true,
    "jupyter": {
     "outputs_hidden": true
    },
    "tags": []
   },
   "outputs": [
    {
     "name": "stdout",
     "output_type": "stream",
     "text": [
      "Epoch 1/100\n",
      "2523/2523 [==============================] - 21s 8ms/step - loss: 0.0496\n",
      "Epoch 2/100\n",
      "2523/2523 [==============================] - 20s 8ms/step - loss: 0.0360\n",
      "Epoch 3/100\n",
      "2523/2523 [==============================] - 19s 8ms/step - loss: 0.0327\n",
      "Epoch 4/100\n",
      "2523/2523 [==============================] - 19s 8ms/step - loss: 0.0316\n",
      "Epoch 5/100\n",
      "2523/2523 [==============================] - 20s 8ms/step - loss: 0.0309\n",
      "Epoch 6/100\n",
      "2523/2523 [==============================] - 19s 8ms/step - loss: 0.0306\n",
      "Epoch 7/100\n",
      "2523/2523 [==============================] - 19s 8ms/step - loss: 0.0302\n",
      "Epoch 8/100\n",
      "2523/2523 [==============================] - 19s 8ms/step - loss: 0.0300\n",
      "Epoch 9/100\n",
      "2523/2523 [==============================] - 19s 8ms/step - loss: 0.0296\n",
      "Epoch 10/100\n",
      "2523/2523 [==============================] - 20s 8ms/step - loss: 0.0296\n",
      "Epoch 11/100\n",
      "2523/2523 [==============================] - 19s 8ms/step - loss: 0.0295\n",
      "Epoch 12/100\n",
      "2523/2523 [==============================] - 19s 8ms/step - loss: 0.0292\n",
      "Epoch 13/100\n",
      "2523/2523 [==============================] - 19s 8ms/step - loss: 0.0290\n",
      "Epoch 14/100\n",
      "2523/2523 [==============================] - 19s 8ms/step - loss: 0.0289\n",
      "Epoch 15/100\n",
      "2523/2523 [==============================] - 19s 8ms/step - loss: 0.0287\n",
      "Epoch 16/100\n",
      "2523/2523 [==============================] - 19s 8ms/step - loss: 0.0291\n",
      "Epoch 17/100\n",
      "2523/2523 [==============================] - 19s 8ms/step - loss: 0.0287\n",
      "Epoch 18/100\n",
      "2523/2523 [==============================] - 19s 8ms/step - loss: 0.0283\n",
      "Epoch 19/100\n",
      "2523/2523 [==============================] - 19s 8ms/step - loss: 0.0283\n",
      "Epoch 20/100\n",
      "2523/2523 [==============================] - 19s 8ms/step - loss: 0.0285\n",
      "Epoch 21/100\n",
      "2523/2523 [==============================] - 19s 8ms/step - loss: 0.0287\n",
      "Epoch 22/100\n",
      "2523/2523 [==============================] - 19s 8ms/step - loss: 0.0284\n",
      "Epoch 23/100\n",
      "2523/2523 [==============================] - 19s 8ms/step - loss: 0.0283\n",
      "Epoch 24/100\n",
      "2523/2523 [==============================] - 19s 8ms/step - loss: 0.0282\n",
      "Epoch 25/100\n",
      "2523/2523 [==============================] - 19s 8ms/step - loss: 0.0280\n",
      "Epoch 26/100\n",
      "2523/2523 [==============================] - 19s 8ms/step - loss: 0.0283\n",
      "Epoch 27/100\n",
      "2523/2523 [==============================] - 19s 8ms/step - loss: 0.0281\n",
      "Epoch 28/100\n",
      "2523/2523 [==============================] - 19s 8ms/step - loss: 0.0285\n",
      "Epoch 29/100\n",
      "2523/2523 [==============================] - 19s 8ms/step - loss: 0.0283\n",
      "Epoch 30/100\n",
      "2523/2523 [==============================] - 19s 7ms/step - loss: 0.0280\n",
      "Epoch 31/100\n",
      "2523/2523 [==============================] - 19s 8ms/step - loss: 0.0277\n",
      "Epoch 32/100\n",
      "2523/2523 [==============================] - 19s 8ms/step - loss: 0.0278\n",
      "Epoch 33/100\n",
      "2523/2523 [==============================] - 19s 8ms/step - loss: 0.0278\n",
      "Epoch 34/100\n",
      "2523/2523 [==============================] - 19s 8ms/step - loss: 0.0275\n",
      "Epoch 35/100\n",
      "2523/2523 [==============================] - 19s 8ms/step - loss: 0.0275\n",
      "Epoch 36/100\n",
      "2523/2523 [==============================] - 19s 8ms/step - loss: 0.0273\n",
      "Epoch 37/100\n",
      "2523/2523 [==============================] - 19s 8ms/step - loss: 0.0273\n",
      "Epoch 38/100\n",
      "2523/2523 [==============================] - 19s 8ms/step - loss: 0.0275\n",
      "Epoch 39/100\n",
      "2523/2523 [==============================] - 19s 8ms/step - loss: 0.0273\n",
      "Epoch 40/100\n",
      "2523/2523 [==============================] - 19s 8ms/step - loss: 0.0281\n",
      "Epoch 41/100\n",
      "2523/2523 [==============================] - 19s 8ms/step - loss: 0.0275\n",
      "Epoch 42/100\n",
      "2523/2523 [==============================] - 19s 8ms/step - loss: 0.0272\n",
      "Epoch 43/100\n",
      "2523/2523 [==============================] - 19s 8ms/step - loss: 0.0272\n",
      "Epoch 44/100\n",
      "2523/2523 [==============================] - 19s 8ms/step - loss: 0.0272\n",
      "Epoch 45/100\n",
      "2523/2523 [==============================] - 19s 8ms/step - loss: 0.0276\n",
      "Epoch 46/100\n",
      "2523/2523 [==============================] - 19s 8ms/step - loss: 0.0274\n",
      "Epoch 47/100\n",
      "2523/2523 [==============================] - 19s 8ms/step - loss: 0.0279\n",
      "Epoch 48/100\n",
      "2523/2523 [==============================] - 19s 8ms/step - loss: 0.0276\n",
      "Epoch 49/100\n",
      "2523/2523 [==============================] - 19s 8ms/step - loss: 0.0277\n",
      "Epoch 50/100\n",
      "2523/2523 [==============================] - 19s 8ms/step - loss: 0.0275\n",
      "Epoch 51/100\n",
      "2523/2523 [==============================] - 19s 8ms/step - loss: 0.0276\n",
      "Epoch 52/100\n",
      "2523/2523 [==============================] - 19s 8ms/step - loss: 0.0275\n",
      "Epoch 53/100\n",
      "2523/2523 [==============================] - 19s 8ms/step - loss: 0.0275\n",
      "Epoch 54/100\n",
      "2523/2523 [==============================] - 19s 8ms/step - loss: 0.0274\n",
      "Epoch 55/100\n",
      "2523/2523 [==============================] - 19s 8ms/step - loss: 0.0271\n",
      "Epoch 56/100\n",
      "2523/2523 [==============================] - 19s 8ms/step - loss: 0.0271\n",
      "Epoch 57/100\n",
      "2523/2523 [==============================] - 20s 8ms/step - loss: 0.0273\n",
      "Epoch 58/100\n",
      "2523/2523 [==============================] - 19s 8ms/step - loss: 0.0273\n",
      "Epoch 59/100\n",
      "2523/2523 [==============================] - 19s 8ms/step - loss: 0.0271\n",
      "Epoch 60/100\n",
      "2523/2523 [==============================] - 19s 8ms/step - loss: 0.0273\n",
      "Epoch 61/100\n",
      "2523/2523 [==============================] - 19s 8ms/step - loss: 0.0271\n",
      "Epoch 62/100\n",
      "2523/2523 [==============================] - 19s 8ms/step - loss: 0.0270\n",
      "Epoch 63/100\n",
      "2523/2523 [==============================] - 19s 8ms/step - loss: 0.0269\n",
      "Epoch 64/100\n",
      "2523/2523 [==============================] - 19s 8ms/step - loss: 0.0270\n",
      "Epoch 65/100\n",
      "2523/2523 [==============================] - 19s 8ms/step - loss: 0.0270\n",
      "Epoch 66/100\n",
      "2523/2523 [==============================] - 19s 8ms/step - loss: 0.0272\n",
      "Epoch 67/100\n",
      "2523/2523 [==============================] - 19s 8ms/step - loss: 0.0271\n",
      "Epoch 68/100\n",
      "2523/2523 [==============================] - 19s 8ms/step - loss: 0.0279\n",
      "Epoch 69/100\n",
      "2523/2523 [==============================] - 19s 8ms/step - loss: 0.0282\n",
      "Epoch 70/100\n",
      "2523/2523 [==============================] - 19s 8ms/step - loss: 0.0280\n",
      "Epoch 71/100\n",
      "2523/2523 [==============================] - 20s 8ms/step - loss: 0.0286\n",
      "Epoch 72/100\n",
      "2523/2523 [==============================] - 19s 8ms/step - loss: 0.0281\n",
      "Epoch 73/100\n",
      "2523/2523 [==============================] - 19s 8ms/step - loss: 0.0278\n",
      "Epoch 74/100\n",
      "2523/2523 [==============================] - 19s 8ms/step - loss: 0.0274\n",
      "Epoch 75/100\n",
      "2523/2523 [==============================] - 19s 8ms/step - loss: 0.0274\n",
      "Epoch 76/100\n",
      "2523/2523 [==============================] - 19s 8ms/step - loss: 0.0272\n",
      "Epoch 77/100\n",
      "2523/2523 [==============================] - 19s 8ms/step - loss: 0.0270\n",
      "Epoch 78/100\n",
      "2523/2523 [==============================] - 19s 8ms/step - loss: 0.0270\n",
      "Epoch 79/100\n",
      "2523/2523 [==============================] - 19s 8ms/step - loss: 0.0273\n",
      "Epoch 80/100\n",
      "2523/2523 [==============================] - 19s 8ms/step - loss: 0.0269\n",
      "Epoch 81/100\n",
      "2523/2523 [==============================] - 19s 8ms/step - loss: 0.0269\n",
      "Epoch 82/100\n",
      "2523/2523 [==============================] - 19s 8ms/step - loss: 0.0270\n",
      "Epoch 83/100\n",
      "2523/2523 [==============================] - 19s 8ms/step - loss: 0.0268\n",
      "Epoch 84/100\n",
      "2523/2523 [==============================] - 19s 8ms/step - loss: 0.0267\n",
      "Epoch 85/100\n",
      "2523/2523 [==============================] - 19s 8ms/step - loss: 0.0275\n",
      "Epoch 86/100\n",
      "2523/2523 [==============================] - 19s 8ms/step - loss: 0.0285\n",
      "Epoch 87/100\n",
      "2523/2523 [==============================] - 19s 8ms/step - loss: 0.0284\n",
      "Epoch 88/100\n",
      "2523/2523 [==============================] - 19s 8ms/step - loss: 0.0282\n",
      "Epoch 89/100\n",
      "2523/2523 [==============================] - 19s 8ms/step - loss: 0.0276\n",
      "Epoch 90/100\n",
      "2523/2523 [==============================] - 19s 8ms/step - loss: 0.0271\n",
      "Epoch 91/100\n",
      "2523/2523 [==============================] - 19s 8ms/step - loss: 0.0270\n",
      "Epoch 92/100\n",
      "2523/2523 [==============================] - 19s 8ms/step - loss: 0.0270\n",
      "Epoch 93/100\n",
      "2523/2523 [==============================] - 19s 8ms/step - loss: 0.0267\n",
      "Epoch 94/100\n",
      "2523/2523 [==============================] - 19s 8ms/step - loss: 0.0267\n",
      "Epoch 95/100\n",
      "2523/2523 [==============================] - 19s 8ms/step - loss: 0.0266\n",
      "Epoch 96/100\n",
      "2523/2523 [==============================] - 19s 8ms/step - loss: 0.0268\n",
      "Epoch 97/100\n",
      "2523/2523 [==============================] - 19s 8ms/step - loss: 0.0266\n",
      "Epoch 98/100\n",
      "2523/2523 [==============================] - 19s 8ms/step - loss: 0.0269\n",
      "Epoch 99/100\n",
      "2523/2523 [==============================] - 19s 8ms/step - loss: 0.0268\n",
      "Epoch 100/100\n",
      "2523/2523 [==============================] - 19s 8ms/step - loss: 0.0269\n"
     ]
    }
   ],
   "source": [
    "model = Autoencoder()\n",
    "model.compile(optimizer='Adam',loss='binary_crossentropy')\n",
    "history1 = model.fit(X2_new2, X2_new2, batch_size=768, epochs=100)"
   ]
  },
  {
   "cell_type": "code",
   "execution_count": 10,
   "id": "971bc029-6497-448a-8530-8ee979ecbfca",
   "metadata": {
    "collapsed": true,
    "jupyter": {
     "outputs_hidden": true
    },
    "tags": []
   },
   "outputs": [
    {
     "name": "stdout",
     "output_type": "stream",
     "text": [
      "Epoch 1/100\n",
      "2523/2523 [==============================] - 19s 7ms/step - loss: 0.0083\n",
      "Epoch 2/100\n",
      "2523/2523 [==============================] - 18s 7ms/step - loss: 0.0082\n",
      "Epoch 3/100\n",
      "2523/2523 [==============================] - 18s 7ms/step - loss: 0.0081\n",
      "Epoch 4/100\n",
      "2523/2523 [==============================] - 18s 7ms/step - loss: 0.0080\n",
      "Epoch 5/100\n",
      "2523/2523 [==============================] - 18s 7ms/step - loss: 0.0080\n",
      "Epoch 6/100\n",
      "2523/2523 [==============================] - 18s 7ms/step - loss: 0.0081\n",
      "Epoch 7/100\n",
      "2523/2523 [==============================] - 19s 8ms/step - loss: 0.0080\n",
      "Epoch 8/100\n",
      "2523/2523 [==============================] - 18s 7ms/step - loss: 0.0080\n",
      "Epoch 9/100\n",
      "2523/2523 [==============================] - 18s 7ms/step - loss: 0.0079\n",
      "Epoch 10/100\n",
      "2523/2523 [==============================] - 18s 7ms/step - loss: 0.0079\n",
      "Epoch 11/100\n",
      "2523/2523 [==============================] - 18s 7ms/step - loss: 0.0079\n",
      "Epoch 12/100\n",
      "2523/2523 [==============================] - 18s 7ms/step - loss: 0.0079\n",
      "Epoch 13/100\n",
      "2523/2523 [==============================] - 18s 7ms/step - loss: 0.0079\n",
      "Epoch 14/100\n",
      "2523/2523 [==============================] - 19s 7ms/step - loss: 0.0081\n",
      "Epoch 15/100\n",
      "2523/2523 [==============================] - 19s 7ms/step - loss: 0.0081\n",
      "Epoch 16/100\n",
      "2523/2523 [==============================] - 18s 7ms/step - loss: 0.0080\n",
      "Epoch 17/100\n",
      "2523/2523 [==============================] - 18s 7ms/step - loss: 0.0079\n",
      "Epoch 18/100\n",
      "2523/2523 [==============================] - 18s 7ms/step - loss: 0.0081\n",
      "Epoch 19/100\n",
      "2523/2523 [==============================] - 18s 7ms/step - loss: 0.0082\n",
      "Epoch 20/100\n",
      "2523/2523 [==============================] - 18s 7ms/step - loss: 0.0081\n",
      "Epoch 21/100\n",
      "2523/2523 [==============================] - 18s 7ms/step - loss: 0.0080\n",
      "Epoch 22/100\n",
      "2523/2523 [==============================] - 18s 7ms/step - loss: 0.0079\n",
      "Epoch 23/100\n",
      "2523/2523 [==============================] - 19s 7ms/step - loss: 0.0078\n",
      "Epoch 24/100\n",
      "2523/2523 [==============================] - 19s 7ms/step - loss: 0.0079\n",
      "Epoch 25/100\n",
      "2523/2523 [==============================] - 18s 7ms/step - loss: 0.0078\n",
      "Epoch 26/100\n",
      "2523/2523 [==============================] - 18s 7ms/step - loss: 0.0078\n",
      "Epoch 27/100\n",
      "2523/2523 [==============================] - 18s 7ms/step - loss: 0.0078\n",
      "Epoch 28/100\n",
      "2523/2523 [==============================] - 18s 7ms/step - loss: 0.0078\n",
      "Epoch 29/100\n",
      "2523/2523 [==============================] - 18s 7ms/step - loss: 0.0079\n",
      "Epoch 30/100\n",
      "2523/2523 [==============================] - 18s 7ms/step - loss: 0.0078\n",
      "Epoch 31/100\n",
      "2523/2523 [==============================] - 18s 7ms/step - loss: 0.0079\n",
      "Epoch 32/100\n",
      "2523/2523 [==============================] - 18s 7ms/step - loss: 0.0079\n",
      "Epoch 33/100\n",
      "2523/2523 [==============================] - 19s 7ms/step - loss: 0.0079\n",
      "Epoch 34/100\n",
      "2523/2523 [==============================] - 18s 7ms/step - loss: 0.0079\n",
      "Epoch 35/100\n",
      "2523/2523 [==============================] - 19s 7ms/step - loss: 0.0078\n",
      "Epoch 36/100\n",
      "2523/2523 [==============================] - 19s 7ms/step - loss: 0.0078\n",
      "Epoch 37/100\n",
      "2523/2523 [==============================] - 18s 7ms/step - loss: 0.0078\n",
      "Epoch 38/100\n",
      "2523/2523 [==============================] - 18s 7ms/step - loss: 0.0078\n",
      "Epoch 39/100\n",
      "2523/2523 [==============================] - 19s 7ms/step - loss: 0.0078\n",
      "Epoch 40/100\n",
      "2523/2523 [==============================] - 19s 7ms/step - loss: 0.0079\n",
      "Epoch 41/100\n",
      "2523/2523 [==============================] - 19s 7ms/step - loss: 0.0078\n",
      "Epoch 42/100\n",
      "2523/2523 [==============================] - 19s 7ms/step - loss: 0.0077\n",
      "Epoch 43/100\n",
      "2523/2523 [==============================] - 19s 7ms/step - loss: 0.0077\n",
      "Epoch 44/100\n",
      "2523/2523 [==============================] - 18s 7ms/step - loss: 0.0077\n",
      "Epoch 45/100\n",
      "2523/2523 [==============================] - 18s 7ms/step - loss: 0.0077\n",
      "Epoch 46/100\n",
      "2523/2523 [==============================] - 18s 7ms/step - loss: 0.0077\n",
      "Epoch 47/100\n",
      "2523/2523 [==============================] - 19s 7ms/step - loss: 0.0077\n",
      "Epoch 48/100\n",
      "2523/2523 [==============================] - 18s 7ms/step - loss: 0.0077\n",
      "Epoch 49/100\n",
      "2523/2523 [==============================] - 18s 7ms/step - loss: 0.0077\n",
      "Epoch 50/100\n",
      "2523/2523 [==============================] - 18s 7ms/step - loss: 0.0076\n",
      "Epoch 51/100\n",
      "2523/2523 [==============================] - 18s 7ms/step - loss: 0.0077\n",
      "Epoch 52/100\n",
      "2523/2523 [==============================] - 19s 7ms/step - loss: 0.0079\n",
      "Epoch 53/100\n",
      "2523/2523 [==============================] - 18s 7ms/step - loss: 0.0080\n",
      "Epoch 54/100\n",
      "2523/2523 [==============================] - 18s 7ms/step - loss: 0.0077\n",
      "Epoch 55/100\n",
      "2523/2523 [==============================] - 18s 7ms/step - loss: 0.0077\n",
      "Epoch 56/100\n",
      "2523/2523 [==============================] - 19s 7ms/step - loss: 0.0077\n",
      "Epoch 57/100\n",
      "2523/2523 [==============================] - 18s 7ms/step - loss: 0.0077\n",
      "Epoch 58/100\n",
      "2523/2523 [==============================] - 18s 7ms/step - loss: 0.0077\n",
      "Epoch 59/100\n",
      "2523/2523 [==============================] - 18s 7ms/step - loss: 0.0077\n",
      "Epoch 60/100\n",
      "2523/2523 [==============================] - 18s 7ms/step - loss: 0.0076\n",
      "Epoch 61/100\n",
      "2523/2523 [==============================] - 18s 7ms/step - loss: 0.0076\n",
      "Epoch 62/100\n",
      "2523/2523 [==============================] - 18s 7ms/step - loss: 0.0077\n",
      "Epoch 63/100\n",
      "2523/2523 [==============================] - 19s 7ms/step - loss: 0.0076\n",
      "Epoch 64/100\n",
      "2523/2523 [==============================] - 19s 7ms/step - loss: 0.0076\n",
      "Epoch 65/100\n",
      "2523/2523 [==============================] - 19s 7ms/step - loss: 0.0076\n",
      "Epoch 66/100\n",
      "2523/2523 [==============================] - 18s 7ms/step - loss: 0.0077\n",
      "Epoch 67/100\n",
      "2523/2523 [==============================] - 18s 7ms/step - loss: 0.0076\n",
      "Epoch 68/100\n",
      "2523/2523 [==============================] - 19s 7ms/step - loss: 0.0077\n",
      "Epoch 69/100\n",
      "2523/2523 [==============================] - 19s 7ms/step - loss: 0.0076\n",
      "Epoch 70/100\n",
      "2523/2523 [==============================] - 19s 7ms/step - loss: 0.0077\n",
      "Epoch 71/100\n",
      "2523/2523 [==============================] - 19s 7ms/step - loss: 0.0077\n",
      "Epoch 72/100\n",
      "2523/2523 [==============================] - 18s 7ms/step - loss: 0.0076\n",
      "Epoch 73/100\n",
      "2523/2523 [==============================] - 19s 7ms/step - loss: 0.0077\n",
      "Epoch 74/100\n",
      "2523/2523 [==============================] - 19s 7ms/step - loss: 0.0076\n",
      "Epoch 75/100\n",
      "2523/2523 [==============================] - 18s 7ms/step - loss: 0.0077\n",
      "Epoch 76/100\n",
      "2523/2523 [==============================] - 18s 7ms/step - loss: 0.0077\n",
      "Epoch 77/100\n",
      "2523/2523 [==============================] - 18s 7ms/step - loss: 0.0077\n",
      "Epoch 78/100\n",
      "2523/2523 [==============================] - 18s 7ms/step - loss: 0.0076\n",
      "Epoch 79/100\n",
      "2523/2523 [==============================] - 18s 7ms/step - loss: 0.0076\n",
      "Epoch 80/100\n",
      "2523/2523 [==============================] - 18s 7ms/step - loss: 0.0075\n",
      "Epoch 81/100\n",
      "2523/2523 [==============================] - 18s 7ms/step - loss: 0.0075\n",
      "Epoch 82/100\n",
      "2523/2523 [==============================] - 18s 7ms/step - loss: 0.0076\n",
      "Epoch 83/100\n",
      "2523/2523 [==============================] - 19s 7ms/step - loss: 0.0075\n",
      "Epoch 84/100\n",
      "2523/2523 [==============================] - 18s 7ms/step - loss: 0.0076\n",
      "Epoch 85/100\n",
      "2523/2523 [==============================] - 18s 7ms/step - loss: 0.0076\n",
      "Epoch 86/100\n",
      "2523/2523 [==============================] - 19s 7ms/step - loss: 0.0075\n",
      "Epoch 87/100\n",
      "2523/2523 [==============================] - 18s 7ms/step - loss: 0.0075\n",
      "Epoch 88/100\n",
      "2523/2523 [==============================] - 18s 7ms/step - loss: 0.0075\n",
      "Epoch 89/100\n",
      "2523/2523 [==============================] - 18s 7ms/step - loss: 0.0075\n",
      "Epoch 90/100\n",
      "2523/2523 [==============================] - 18s 7ms/step - loss: 0.0075\n",
      "Epoch 91/100\n",
      "2523/2523 [==============================] - 18s 7ms/step - loss: 0.0075\n",
      "Epoch 92/100\n",
      "2523/2523 [==============================] - 18s 7ms/step - loss: 0.0075\n",
      "Epoch 93/100\n",
      "2523/2523 [==============================] - 18s 7ms/step - loss: 0.0075\n",
      "Epoch 94/100\n",
      "2523/2523 [==============================] - 18s 7ms/step - loss: 0.0076\n",
      "Epoch 95/100\n",
      "2523/2523 [==============================] - 18s 7ms/step - loss: 0.0077\n",
      "Epoch 96/100\n",
      "2523/2523 [==============================] - 18s 7ms/step - loss: 0.0076\n",
      "Epoch 97/100\n",
      "2523/2523 [==============================] - 18s 7ms/step - loss: 0.0077\n",
      "Epoch 98/100\n",
      "2523/2523 [==============================] - 18s 7ms/step - loss: 0.0076\n",
      "Epoch 99/100\n",
      "2523/2523 [==============================] - 19s 7ms/step - loss: 0.0076\n",
      "Epoch 100/100\n",
      "2523/2523 [==============================] - 18s 7ms/step - loss: 0.0076\n"
     ]
    }
   ],
   "source": [
    "model.compile(optimizer='Adam',loss='mse')\n",
    "history2 = model.fit(X2_new2, X2_new2, batch_size=768, epochs=100)"
   ]
  },
  {
   "cell_type": "code",
   "execution_count": 11,
   "id": "a7ad29b0-16e1-4a59-8216-d92fc6ac8316",
   "metadata": {},
   "outputs": [
    {
     "data": {
      "text/plain": [
       "<AxesSubplot:>"
      ]
     },
     "execution_count": 11,
     "metadata": {},
     "output_type": "execute_result"
    },
    {
     "data": {
      "image/png": "[encoded data removed]",
      "text/plain": [
       "<Figure size 432x288 with 1 Axes>"
      ]
     },
     "metadata": {
      "needs_background": "light"
     },
     "output_type": "display_data"
    },
    {
     "data": {
      "image/png": "[encoded data removed]",
      "text/plain": [
       "<Figure size 432x288 with 1 Axes>"
      ]
     },
     "metadata": {
      "needs_background": "light"
     },
     "output_type": "display_data"
    }
   ],
   "source": [
    "pd.DataFrame(history1.history).plot()\n",
    "pd.DataFrame(history2.history).plot()"
   ]
  },
  {
   "cell_type": "code",
   "execution_count": 16,
   "id": "cd5d4376-ba20-425d-b19a-30610bf41da3",
   "metadata": {},
   "outputs": [],
   "source": [
    "model.save('9_2_model')"
   ]
  },
  {
   "cell_type": "code",
   "execution_count": 12,
   "id": "bb59f846-7dca-4ac1-9103-7f1fc3b83635",
   "metadata": {},
   "outputs": [],
   "source": [
    "y_pre = model.predict(X2_new2[:10])"
   ]
  },
  {
   "cell_type": "code",
   "execution_count": 13,
   "id": "452efa24-b2f5-4c3e-8ee9-7568f13b8492",
   "metadata": {},
   "outputs": [
    {
     "data": {
      "image/png": "[encoded data removed]",
      "text/plain": [
       "<Figure size 1440x576 with 10 Axes>"
      ]
     },
     "metadata": {
      "needs_background": "light"
     },
     "output_type": "display_data"
    }
   ],
   "source": [
    "fig = plt.figure(figsize = (20,8))\n",
    "for i in range(10):\n",
    "    ax = plt.subplot(2,5,i+1)\n",
    "    ax.imshow(y_pre[i])"
   ]
  },
  {
   "cell_type": "code",
   "execution_count": 3,
   "id": "2c67e2cc-44b6-48d1-ab62-a632197e677b",
   "metadata": {},
   "outputs": [],
   "source": [
    "model = tf.keras.models.load_model('9_2_model')"
   ]
  },
  {
   "cell_type": "code",
   "execution_count": 28,
   "id": "dac1709f-cc15-48e8-9e27-cc5697307749",
   "metadata": {},
   "outputs": [
    {
     "data": {
      "text/plain": [
       "<tf.Tensor: shape=(200000, 3), dtype=float32, numpy=\n",
       "array([[  32.114956,  209.81984 ,   82.16276 ],\n",
       "       [ 433.94882 ,   62.559498,  177.58757 ],\n",
       "       [  47.77347 ,  136.95888 ,   49.28638 ],\n",
       "       ...,\n",
       "       [ 539.86224 , 1282.4393  ,  449.61606 ],\n",
       "       [ 575.7287  ,  142.10825 ,  237.53545 ],\n",
       "       [ 387.8778  ,  119.00638 ,  271.85693 ]], dtype=float32)>"
      ]
     },
     "execution_count": 28,
     "metadata": {},
     "output_type": "execute_result"
    }
   ],
   "source": [
    "X4 = model.encoder(X2_new2[:200000])\n",
    "X4"
   ]
  },
  {
   "cell_type": "code",
   "execution_count": 24,
   "id": "cbed5515-6d24-4134-86c1-1df62ba93280",
   "metadata": {},
   "outputs": [],
   "source": [
    "from keras.backend import set_session\n",
    "from keras.backend import clear_session\n",
    "from keras.backend import get_session\n",
    "import tensorflow as tf\n",
    "import gc\n",
    " \n",
    "# Reset Keras Session\n",
    "def reset_keras():\n",
    "    sess = get_session()\n",
    "    clear_session()\n",
    "    sess.close()\n",
    "    sess = get_session()\n",
    " \n",
    "    try:\n",
    "        del classifier # this is from global space - change this as you need\n",
    "    except:\n",
    "        pass\n",
    " \n",
    "    print(gc.collect()) # if it does something you should see a number as output\n",
    " \n",
    "    # use the same config as you used to create the session\n",
    "    config = tf.compat.v1.ConfigProto()\n",
    "    config.gpu_options.per_process_gpu_memory_fraction = 1\n",
    "    config.gpu_options.visible_device_list = \"0\"\n",
    "    set_session(tf.compat.v1.Session(config=config))"
   ]
  },
  {
   "cell_type": "code",
   "execution_count": 29,
   "id": "aa17f844-efeb-42f7-9f88-8daa9a74e73d",
   "metadata": {},
   "outputs": [
    {
     "name": "stdout",
     "output_type": "stream",
     "text": [
      "100\n"
     ]
    }
   ],
   "source": [
    "reset_keras()"
   ]
  },
  {
   "cell_type": "code",
   "execution_count": 30,
   "id": "c4557fd3-9843-4fb9-af22-08d05c96c3f2",
   "metadata": {},
   "outputs": [
    {
     "name": "stdout",
     "output_type": "stream",
     "text": [
      "100\n",
      "100\n",
      "100\n",
      "100\n",
      "100\n",
      "100\n",
      "100\n",
      "100\n"
     ]
    }
   ],
   "source": [
    "X6 = model.encoder(X2_new2[200000:400000])\n",
    "reset_keras()\n",
    "X7 = model.encoder(X2_new2[400000:600000])\n",
    "reset_keras()\n",
    "X8 = model.encoder(X2_new2[600000:800000])\n",
    "reset_keras()\n",
    "X9 = model.encoder(X2_new2[800000:1000000])\n",
    "reset_keras()\n",
    "X10 = model.encoder(X2_new2[1000000:1200000])\n",
    "reset_keras()\n",
    "X11 = model.encoder(X2_new2[1200000:1400000])\n",
    "reset_keras()\n",
    "X12 = model.encoder(X2_new2[1400000:1600000])\n",
    "reset_keras()\n",
    "X13 = model.encoder(X2_new2[1600000:1800000])\n",
    "reset_keras()\n",
    "X14 = model.encoder(X2_new2[1800000:2000000])"
   ]
  },
  {
   "cell_type": "code",
   "execution_count": 31,
   "id": "731d96b1-3df8-4d0e-9a98-ef9f474ef4fe",
   "metadata": {},
   "outputs": [
    {
     "data": {
      "text/plain": [
       "<tf.Tensor: shape=(200000, 3), dtype=float32, numpy=\n",
       "array([[ 231.63687 ,  185.49014 ,   41.263206],\n",
       "       [ 410.44574 ,  741.0715  ,  164.23334 ],\n",
       "       [  98.304665,  285.49393 ,  123.034706],\n",
       "       ...,\n",
       "       [ 486.3424  , 1015.60455 ,  366.59644 ],\n",
       "       [ 417.99564 ,  890.66595 ,  452.91266 ],\n",
       "       [1065.429   , 1391.9426  ,  587.5108  ]], dtype=float32)>"
      ]
     },
     "execution_count": 31,
     "metadata": {},
     "output_type": "execute_result"
    }
   ],
   "source": [
    "X13"
   ]
  },
  {
   "cell_type": "code",
   "execution_count": 32,
   "id": "67b1deb3-2fde-476d-88e4-b4af66250f1b",
   "metadata": {},
   "outputs": [
    {
     "data": {
      "text/plain": [
       "['/raid/wx_home/learning/2_190w_model_new/3D_data2/1800000-2000000']"
      ]
     },
     "execution_count": 32,
     "metadata": {},
     "output_type": "execute_result"
    }
   ],
   "source": [
    "dump(X4, '/raid/wx_home/learning/2_190w_model_new/3D_data2/1-200000')\n",
    "dump(X6, '/raid/wx_home/learning/2_190w_model_new/3D_data2/200000-400000')\n",
    "dump(X7, '/raid/wx_home/learning/2_190w_model_new/3D_data2/400000-600000')\n",
    "dump(X8, '/raid/wx_home/learning/2_190w_model_new/3D_data2/600000-800000')\n",
    "dump(X9, '/raid/wx_home/learning/2_190w_model_new/3D_data2/800000-1000000')\n",
    "dump(X10, '/raid/wx_home/learning/2_190w_model_new/3D_data2/1000000-1200000')\n",
    "dump(X11, '/raid/wx_home/learning/2_190w_model_new/3D_data2/1200000-1400000')\n",
    "dump(X12, '/raid/wx_home/learning/2_190w_model_new/3D_data2/1400000-1600000')\n",
    "dump(X13, '/raid/wx_home/learning/2_190w_model_new/3D_data2/1600000-1800000')\n",
    "dump(X14, '/raid/wx_home/learning/2_190w_model_new/3D_data2/1800000-2000000')"
   ]
  },
  {
   "cell_type": "code",
   "execution_count": null,
   "id": "a0898027-5d87-40fe-b8e2-ce45618ac4b4",
   "metadata": {},
   "outputs": [],
   "source": []
  }
 ],
 "metadata": {
  "kernelspec": {
   "display_name": "tensorflow",
   "language": "python",
   "name": "tensorflow"
  },
  "language_info": {
   "codemirror_mode": {
    "name": "ipython",
    "version": 3
   },
   "file_extension": ".py",
   "mimetype": "text/x-python",
   "name": "python",
   "nbconvert_exporter": "python",
   "pygments_lexer": "ipython3",
   "version": "3.6.15"
  }
 },
 "nbformat": 4,
 "nbformat_minor": 5
}
