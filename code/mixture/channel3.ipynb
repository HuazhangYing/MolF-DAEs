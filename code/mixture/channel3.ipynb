{
 "cells": [
  {
   "cell_type": "code",
   "execution_count": 1,
   "id": "49a3ca2e-fed6-4387-bd23-9b94d3d85ea2",
   "metadata": {},
   "outputs": [],
   "source": [
    "from molmap.model import RegressionEstimator, MultiClassEstimator, MultiLabelEstimator\n",
    "from sklearn.preprocessing import StandardScaler, MinMaxScaler\n",
    "from molmap import dataset\n",
    "from sklearn.utils import shuffle \n",
    "import matplotlib.pyplot as plt\n",
    "import numpy as np\n",
    "import pandas as pd\n",
    "from molmap import MolMap\n",
    "from molmap import feature\n",
    "# 打开molmap的环境，molmap.model;molmap等宏包会自动导入到这个环境中。\n",
    "# from tensorflow.keras.datasets import mnist\n",
    "import tensorflow as tf\n",
    "import os\n",
    "from tensorflow.keras.layers import Input,Dense, Conv2D, Conv2DTranspose, MaxPooling2D, Flatten, UpSampling2D, Reshape\n",
    "from tensorflow.keras.models import Model,Sequential\n",
    "from joblib import load,dump #导入模型 \n",
    "import matplotlib.pyplot as plt\n",
    "%matplotlib inline"
   ]
  },
  {
   "cell_type": "code",
   "execution_count": 2,
   "id": "a61911b8-5437-48bb-894d-61961784d177",
   "metadata": {},
   "outputs": [],
   "source": [
    "gpuid = \"1\"\n",
    "os.environ[\"CUDA_VISIBLE_DEVICES\"] = gpuid\n",
    "physical_gpus = tf.config.list_physical_devices('GPU')\n",
    "tf.config.experimental.set_memory_growth(physical_gpus[0], True)"
   ]
  },
  {
   "cell_type": "code",
   "execution_count": 3,
   "id": "719bd480-7ae6-4ad3-8fff-79bdb312974f",
   "metadata": {},
   "outputs": [],
   "source": [
    "X2 = load('/raid/wx_home/learning/2_190w_model_new/melucule2.data2')"
   ]
  },
  {
   "cell_type": "code",
   "execution_count": 4,
   "id": "577f9a7b-1388-4e1c-8af8-7b9e504553ea",
   "metadata": {},
   "outputs": [
    {
     "data": {
      "text/plain": [
       "(1937109, 37, 36, 3)"
      ]
     },
     "execution_count": 4,
     "metadata": {},
     "output_type": "execute_result"
    }
   ],
   "source": [
    "X2.shape"
   ]
  },
  {
   "cell_type": "code",
   "execution_count": 5,
   "id": "8f36ded7-d820-4332-a934-14e5d86176a9",
   "metadata": {},
   "outputs": [],
   "source": [
    "X2_new2 = X2[:,:,:,2]"
   ]
  },
  {
   "cell_type": "code",
   "execution_count": 6,
   "id": "da75aacf-b8f0-45b9-b0f9-9d4710ce57e1",
   "metadata": {},
   "outputs": [
    {
     "data": {
      "text/plain": [
       "(1937109, 37, 36)"
      ]
     },
     "execution_count": 6,
     "metadata": {},
     "output_type": "execute_result"
    }
   ],
   "source": [
    "X2_new2.shape"
   ]
  },
  {
   "cell_type": "code",
   "execution_count": 7,
   "id": "a546c747-4a44-489e-93f3-6456af92e510",
   "metadata": {},
   "outputs": [
    {
     "data": {
      "text/plain": [
       "array([[     0.,      0.,      0., ..., 118647., 935657.,      0.],\n",
       "       [     0.,      0.,      0., ..., 814415., 764485., 838445.],\n",
       "       [     0.,      0.,      0., ..., 286282., 248210., 701745.],\n",
       "       ...,\n",
       "       [     0.,      0.,      0., ..., 641304., 659315., 813250.],\n",
       "       [     0.,      0.,      0., ...,      0.,      0., 210557.],\n",
       "       [     0.,      0.,      0., ...,      0.,      0.,      0.]])"
      ]
     },
     "execution_count": 7,
     "metadata": {},
     "output_type": "execute_result"
    }
   ],
   "source": [
    "sum(X2_new2)"
   ]
  },
  {
   "cell_type": "code",
   "execution_count": 8,
   "id": "11437c6d-ae16-47fb-aa6f-bf7cac18313e",
   "metadata": {},
   "outputs": [],
   "source": [
    "X3 = X2_new2[:10]"
   ]
  },
  {
   "cell_type": "code",
   "execution_count": 9,
   "id": "787148c2-4e78-40eb-b7a1-f3f68595b808",
   "metadata": {},
   "outputs": [
    {
     "data": {
      "image/png": "[encoded data removed]",
      "text/plain": [
       "<Figure size 1440x576 with 10 Axes>"
      ]
     },
     "metadata": {
      "needs_background": "light"
     },
     "output_type": "display_data"
    }
   ],
   "source": [
    "fig = plt.figure(figsize = (20,8))\n",
    "for i in range(10):\n",
    "    ax = plt.subplot(2,5,i+1)\n",
    "    ax.imshow(X3[i])"
   ]
  },
  {
   "cell_type": "code",
   "execution_count": 10,
   "id": "e9189328-52c3-4653-8151-d1af29bd5749",
   "metadata": {},
   "outputs": [],
   "source": [
    "class Encoder(Model):\n",
    "    def __init__(self):\n",
    "        super().__init__()\n",
    "        self.flatten = Flatten()\n",
    "        self.d1 = Dense(1024, activation='relu')\n",
    "        self.d2 = Dense(512, activation='relu')\n",
    "        self.d3 = Dense(128, activation='relu')\n",
    "        self.d4 = Dense(32, activation='relu')\n",
    "        self.d5 = Dense(16, activation='relu')\n",
    "        self.d6 = Dense(3, activation='relu')\n",
    "        \n",
    "    def call(self,x):\n",
    "        x = self.flatten(x)\n",
    "        x = self.d1(x)\n",
    "        x = self.d2(x)\n",
    "        x = self.d3(x)\n",
    "        x = self.d4(x)\n",
    "        x = self.d5(x)\n",
    "        return self.d6(x)       \n",
    "    \n",
    "    \n",
    "class Decoder(Model):\n",
    "    def __init__(self):\n",
    "        super().__init__()\n",
    "        self.d7 = Dense(16, activation='relu')\n",
    "        self.d8 = Dense(32, activation='relu')\n",
    "        self.d9 = Dense(128, activation='relu')\n",
    "        self.d10 = Dense(512, activation='relu')\n",
    "        self.d11 = Dense(1024, activation='relu')\n",
    "        self.d12 = Dense(1332, activation='sigmoid')\n",
    "        self.re = Reshape((37,36))\n",
    "    \n",
    "    def call(self,x):\n",
    "        x = self.d7(x)\n",
    "        x = self.d8(x)\n",
    "        x = self.d9(x)\n",
    "        x = self.d10(x)\n",
    "        x = self.d11(x)\n",
    "        x = self.d12(x)\n",
    "        return  self.re(x)\n",
    "        \n",
    "class Autoencoder(Model):\n",
    "    def __init__(self):\n",
    "        super(Autoencoder, self).__init__()\n",
    "        self.encoder = Encoder()\n",
    "        self.decoder = Decoder()\n",
    "        \n",
    "    def call(self,x):\n",
    "        x = self.encoder(x)\n",
    "        x = self.decoder(x)\n",
    "        return x"
   ]
  },
  {
   "cell_type": "code",
   "execution_count": 18,
   "id": "3ced1b81-b5de-41f5-86c5-0450d502cfeb",
   "metadata": {
    "collapsed": true,
    "jupyter": {
     "outputs_hidden": true
    },
    "tags": []
   },
   "outputs": [
    {
     "name": "stdout",
     "output_type": "stream",
     "text": [
      "Epoch 1/100\n",
      "2523/2523 [==============================] - 21s 8ms/step - loss: 0.0958\n",
      "Epoch 2/100\n",
      "2523/2523 [==============================] - 21s 8ms/step - loss: 0.0720\n",
      "Epoch 3/100\n",
      "2523/2523 [==============================] - 21s 8ms/step - loss: 0.0682\n",
      "Epoch 4/100\n",
      "2523/2523 [==============================] - 21s 8ms/step - loss: 0.0659\n",
      "Epoch 5/100\n",
      "2523/2523 [==============================] - 21s 8ms/step - loss: 0.0667\n",
      "Epoch 6/100\n",
      "2523/2523 [==============================] - 21s 8ms/step - loss: 0.0658\n",
      "Epoch 7/100\n",
      "2523/2523 [==============================] - 21s 8ms/step - loss: 0.0645\n",
      "Epoch 8/100\n",
      "2523/2523 [==============================] - 21s 8ms/step - loss: 0.0659\n",
      "Epoch 9/100\n",
      "2523/2523 [==============================] - 21s 8ms/step - loss: 0.0639\n",
      "Epoch 10/100\n",
      "2523/2523 [==============================] - 21s 8ms/step - loss: 0.0616\n",
      "Epoch 11/100\n",
      "2523/2523 [==============================] - 21s 8ms/step - loss: 0.0603\n",
      "Epoch 12/100\n",
      "2523/2523 [==============================] - 21s 8ms/step - loss: 0.0601\n",
      "Epoch 13/100\n",
      "2523/2523 [==============================] - 21s 8ms/step - loss: 0.0588\n",
      "Epoch 14/100\n",
      "2523/2523 [==============================] - 21s 8ms/step - loss: 0.0580\n",
      "Epoch 15/100\n",
      "2523/2523 [==============================] - 21s 8ms/step - loss: 0.0572\n",
      "Epoch 16/100\n",
      "2523/2523 [==============================] - 21s 8ms/step - loss: 0.0567\n",
      "Epoch 17/100\n",
      "2523/2523 [==============================] - 21s 8ms/step - loss: 0.0562\n",
      "Epoch 18/100\n",
      "2523/2523 [==============================] - 21s 8ms/step - loss: 0.0557\n",
      "Epoch 19/100\n",
      "2523/2523 [==============================] - 21s 8ms/step - loss: 0.0554\n",
      "Epoch 20/100\n",
      "2523/2523 [==============================] - 21s 8ms/step - loss: 0.0550\n",
      "Epoch 21/100\n",
      "2523/2523 [==============================] - 21s 8ms/step - loss: 0.0547\n",
      "Epoch 22/100\n",
      "2523/2523 [==============================] - 21s 8ms/step - loss: 0.0543\n",
      "Epoch 23/100\n",
      "2523/2523 [==============================] - 21s 8ms/step - loss: 0.0541\n",
      "Epoch 24/100\n",
      "2523/2523 [==============================] - 21s 8ms/step - loss: 0.0538\n",
      "Epoch 25/100\n",
      "2523/2523 [==============================] - 21s 8ms/step - loss: 0.0536\n",
      "Epoch 26/100\n",
      "2523/2523 [==============================] - 21s 8ms/step - loss: 0.0534\n",
      "Epoch 27/100\n",
      "2523/2523 [==============================] - 21s 8ms/step - loss: 0.0532\n",
      "Epoch 28/100\n",
      "2523/2523 [==============================] - 21s 8ms/step - loss: 0.0530\n",
      "Epoch 29/100\n",
      "2523/2523 [==============================] - 21s 8ms/step - loss: 0.0528\n",
      "Epoch 30/100\n",
      "2523/2523 [==============================] - 21s 8ms/step - loss: 0.0527\n",
      "Epoch 31/100\n",
      "2523/2523 [==============================] - 20s 8ms/step - loss: 0.0525\n",
      "Epoch 32/100\n",
      "2523/2523 [==============================] - 20s 8ms/step - loss: 0.0524\n",
      "Epoch 33/100\n",
      "2523/2523 [==============================] - 20s 8ms/step - loss: 0.0522\n",
      "Epoch 34/100\n",
      "2523/2523 [==============================] - 21s 8ms/step - loss: 0.0521\n",
      "Epoch 35/100\n",
      "2523/2523 [==============================] - 21s 8ms/step - loss: 0.0520\n",
      "Epoch 36/100\n",
      "2523/2523 [==============================] - 20s 8ms/step - loss: 0.0519\n",
      "Epoch 37/100\n",
      "2523/2523 [==============================] - 21s 8ms/step - loss: 0.0518\n",
      "Epoch 38/100\n",
      "2523/2523 [==============================] - 21s 8ms/step - loss: 0.0517\n",
      "Epoch 39/100\n",
      "2523/2523 [==============================] - 21s 8ms/step - loss: 0.0516\n",
      "Epoch 40/100\n",
      "2523/2523 [==============================] - 21s 8ms/step - loss: 0.0515\n",
      "Epoch 41/100\n",
      "2523/2523 [==============================] - 20s 8ms/step - loss: 0.0514\n",
      "Epoch 42/100\n",
      "2523/2523 [==============================] - 21s 8ms/step - loss: 0.0513\n",
      "Epoch 43/100\n",
      "2523/2523 [==============================] - 21s 8ms/step - loss: 0.0512\n",
      "Epoch 44/100\n",
      "2523/2523 [==============================] - 21s 8ms/step - loss: 0.0511\n",
      "Epoch 45/100\n",
      "2523/2523 [==============================] - 20s 8ms/step - loss: 0.0510\n",
      "Epoch 46/100\n",
      "2523/2523 [==============================] - 20s 8ms/step - loss: 0.0510\n",
      "Epoch 47/100\n",
      "2523/2523 [==============================] - 21s 8ms/step - loss: 0.0509\n",
      "Epoch 48/100\n",
      "2523/2523 [==============================] - 20s 8ms/step - loss: 0.0508\n",
      "Epoch 49/100\n",
      "2523/2523 [==============================] - 20s 8ms/step - loss: 0.0508\n",
      "Epoch 50/100\n",
      "2523/2523 [==============================] - 20s 8ms/step - loss: 0.0507\n",
      "Epoch 51/100\n",
      "2523/2523 [==============================] - 19s 8ms/step - loss: 0.0506\n",
      "Epoch 52/100\n",
      "2523/2523 [==============================] - 21s 8ms/step - loss: 0.0505\n",
      "Epoch 53/100\n",
      "2523/2523 [==============================] - 20s 8ms/step - loss: 0.0505\n",
      "Epoch 54/100\n",
      "2523/2523 [==============================] - 20s 8ms/step - loss: 0.0504\n",
      "Epoch 55/100\n",
      "2523/2523 [==============================] - 20s 8ms/step - loss: 0.0503\n",
      "Epoch 56/100\n",
      "2523/2523 [==============================] - 20s 8ms/step - loss: 0.0503\n",
      "Epoch 57/100\n",
      "2523/2523 [==============================] - 20s 8ms/step - loss: 0.0502\n",
      "Epoch 58/100\n",
      "2523/2523 [==============================] - 20s 8ms/step - loss: 0.0502\n",
      "Epoch 59/100\n",
      "2523/2523 [==============================] - 21s 8ms/step - loss: 0.0501\n",
      "Epoch 60/100\n",
      "2523/2523 [==============================] - 21s 8ms/step - loss: 0.0500\n",
      "Epoch 61/100\n",
      "2523/2523 [==============================] - 21s 8ms/step - loss: 0.0500\n",
      "Epoch 62/100\n",
      "2523/2523 [==============================] - 20s 8ms/step - loss: 0.0500\n",
      "Epoch 63/100\n",
      "2523/2523 [==============================] - 21s 8ms/step - loss: 0.0499\n",
      "Epoch 64/100\n",
      "2523/2523 [==============================] - 21s 8ms/step - loss: 0.0499\n",
      "Epoch 65/100\n",
      "2523/2523 [==============================] - 21s 8ms/step - loss: 0.0498\n",
      "Epoch 66/100\n",
      "2523/2523 [==============================] - 20s 8ms/step - loss: 0.0498\n",
      "Epoch 67/100\n",
      "2523/2523 [==============================] - 21s 8ms/step - loss: 0.0497\n",
      "Epoch 68/100\n",
      "2523/2523 [==============================] - 20s 8ms/step - loss: 0.0497\n",
      "Epoch 69/100\n",
      "2523/2523 [==============================] - 20s 8ms/step - loss: 0.0496\n",
      "Epoch 70/100\n",
      "2523/2523 [==============================] - 20s 8ms/step - loss: 0.0496\n",
      "Epoch 71/100\n",
      "2523/2523 [==============================] - 20s 8ms/step - loss: 0.0495\n",
      "Epoch 72/100\n",
      "2523/2523 [==============================] - 20s 8ms/step - loss: 0.0495\n",
      "Epoch 73/100\n",
      "2523/2523 [==============================] - 20s 8ms/step - loss: 0.0495\n",
      "Epoch 74/100\n",
      "2523/2523 [==============================] - 20s 8ms/step - loss: 0.0494\n",
      "Epoch 75/100\n",
      "2523/2523 [==============================] - 20s 8ms/step - loss: 0.0494\n",
      "Epoch 76/100\n",
      "2523/2523 [==============================] - 20s 8ms/step - loss: 0.0493\n",
      "Epoch 77/100\n",
      "2523/2523 [==============================] - 20s 8ms/step - loss: 0.0493\n",
      "Epoch 78/100\n",
      "2523/2523 [==============================] - 20s 8ms/step - loss: 0.0493\n",
      "Epoch 79/100\n",
      "2523/2523 [==============================] - 20s 8ms/step - loss: 0.0492\n",
      "Epoch 80/100\n",
      "2523/2523 [==============================] - 20s 8ms/step - loss: 0.0492\n",
      "Epoch 81/100\n",
      "2523/2523 [==============================] - 20s 8ms/step - loss: 0.0492\n",
      "Epoch 82/100\n",
      "2523/2523 [==============================] - 20s 8ms/step - loss: 0.0492\n",
      "Epoch 83/100\n",
      "2523/2523 [==============================] - 20s 8ms/step - loss: 0.0491\n",
      "Epoch 84/100\n",
      "2523/2523 [==============================] - 21s 8ms/step - loss: 0.0491\n",
      "Epoch 85/100\n",
      "2523/2523 [==============================] - 21s 8ms/step - loss: 0.0490\n",
      "Epoch 86/100\n",
      "2523/2523 [==============================] - 21s 8ms/step - loss: 0.0490\n",
      "Epoch 87/100\n",
      "2523/2523 [==============================] - 20s 8ms/step - loss: 0.0490\n",
      "Epoch 88/100\n",
      "2523/2523 [==============================] - 21s 8ms/step - loss: 0.0489\n",
      "Epoch 89/100\n",
      "2523/2523 [==============================] - 21s 8ms/step - loss: 0.0489\n",
      "Epoch 90/100\n",
      "2523/2523 [==============================] - 21s 8ms/step - loss: 0.0489\n",
      "Epoch 91/100\n",
      "2523/2523 [==============================] - 21s 8ms/step - loss: 0.0489\n",
      "Epoch 92/100\n",
      "2523/2523 [==============================] - 20s 8ms/step - loss: 0.0488\n",
      "Epoch 93/100\n",
      "2523/2523 [==============================] - 21s 8ms/step - loss: 0.0488\n",
      "Epoch 94/100\n",
      "2523/2523 [==============================] - 21s 8ms/step - loss: 0.0488\n",
      "Epoch 95/100\n",
      "2523/2523 [==============================] - 21s 8ms/step - loss: 0.0488\n",
      "Epoch 96/100\n",
      "2523/2523 [==============================] - 20s 8ms/step - loss: 0.0487\n",
      "Epoch 97/100\n",
      "2523/2523 [==============================] - 20s 8ms/step - loss: 0.0487\n",
      "Epoch 98/100\n",
      "2523/2523 [==============================] - 21s 8ms/step - loss: 0.0487\n",
      "Epoch 99/100\n",
      "2523/2523 [==============================] - 20s 8ms/step - loss: 0.0486\n",
      "Epoch 100/100\n",
      "2523/2523 [==============================] - 20s 8ms/step - loss: 0.0486\n"
     ]
    }
   ],
   "source": [
    "model = Autoencoder()\n",
    "model.compile(optimizer='Adam',loss='binary_crossentropy')\n",
    "history1 = model.fit(X2_new2, X2_new2, batch_size=768, epochs=100)"
   ]
  },
  {
   "cell_type": "code",
   "execution_count": 12,
   "id": "971bc029-6497-448a-8530-8ee979ecbfca",
   "metadata": {
    "collapsed": true,
    "jupyter": {
     "outputs_hidden": true
    },
    "tags": []
   },
   "outputs": [
    {
     "name": "stdout",
     "output_type": "stream",
     "text": [
      "Epoch 1/100\n",
      "2523/2523 [==============================] - 21s 8ms/step - loss: 0.0154\n",
      "Epoch 2/100\n",
      "2523/2523 [==============================] - 19s 8ms/step - loss: 0.0152\n",
      "Epoch 3/100\n",
      "2523/2523 [==============================] - 20s 8ms/step - loss: 0.0151\n",
      "Epoch 4/100\n",
      "2523/2523 [==============================] - 20s 8ms/step - loss: 0.0150\n",
      "Epoch 5/100\n",
      "2523/2523 [==============================] - 21s 8ms/step - loss: 0.0149\n",
      "Epoch 6/100\n",
      "2523/2523 [==============================] - 20s 8ms/step - loss: 0.0149\n",
      "Epoch 7/100\n",
      "2523/2523 [==============================] - 20s 8ms/step - loss: 0.0148\n",
      "Epoch 8/100\n",
      "2523/2523 [==============================] - 19s 8ms/step - loss: 0.0148\n",
      "Epoch 9/100\n",
      "2523/2523 [==============================] - 20s 8ms/step - loss: 0.0147\n",
      "Epoch 10/100\n",
      "2523/2523 [==============================] - 20s 8ms/step - loss: 0.0146\n",
      "Epoch 11/100\n",
      "2523/2523 [==============================] - 20s 8ms/step - loss: 0.0147\n",
      "Epoch 12/100\n",
      "2523/2523 [==============================] - 20s 8ms/step - loss: 0.0146\n",
      "Epoch 13/100\n",
      "2523/2523 [==============================] - 20s 8ms/step - loss: 0.0145\n",
      "Epoch 14/100\n",
      "2523/2523 [==============================] - 19s 8ms/step - loss: 0.0145\n",
      "Epoch 15/100\n",
      "2523/2523 [==============================] - 20s 8ms/step - loss: 0.0145\n",
      "Epoch 16/100\n",
      "2523/2523 [==============================] - 20s 8ms/step - loss: 0.0145\n",
      "Epoch 17/100\n",
      "2523/2523 [==============================] - 20s 8ms/step - loss: 0.0145\n",
      "Epoch 18/100\n",
      "2523/2523 [==============================] - 20s 8ms/step - loss: 0.0145\n",
      "Epoch 19/100\n",
      "2523/2523 [==============================] - 19s 8ms/step - loss: 0.0145\n",
      "Epoch 20/100\n",
      "2523/2523 [==============================] - 20s 8ms/step - loss: 0.0143\n",
      "Epoch 21/100\n",
      "2523/2523 [==============================] - 20s 8ms/step - loss: 0.0143\n",
      "Epoch 22/100\n",
      "2523/2523 [==============================] - 20s 8ms/step - loss: 0.0143\n",
      "Epoch 23/100\n",
      "2523/2523 [==============================] - 20s 8ms/step - loss: 0.0145\n",
      "Epoch 24/100\n",
      "2523/2523 [==============================] - 20s 8ms/step - loss: 0.0143\n",
      "Epoch 25/100\n",
      "2523/2523 [==============================] - 19s 8ms/step - loss: 0.0143\n",
      "Epoch 26/100\n",
      "2523/2523 [==============================] - 20s 8ms/step - loss: 0.0142\n",
      "Epoch 27/100\n",
      "2523/2523 [==============================] - 20s 8ms/step - loss: 0.0142\n",
      "Epoch 28/100\n",
      "2523/2523 [==============================] - 20s 8ms/step - loss: 0.0142\n",
      "Epoch 29/100\n",
      "2523/2523 [==============================] - 20s 8ms/step - loss: 0.0142\n",
      "Epoch 30/100\n",
      "2523/2523 [==============================] - 20s 8ms/step - loss: 0.0142\n",
      "Epoch 31/100\n",
      "2523/2523 [==============================] - 19s 8ms/step - loss: 0.0142\n",
      "Epoch 32/100\n",
      "2523/2523 [==============================] - 20s 8ms/step - loss: 0.0142\n",
      "Epoch 33/100\n",
      "2523/2523 [==============================] - 20s 8ms/step - loss: 0.0142\n",
      "Epoch 34/100\n",
      "2523/2523 [==============================] - 20s 8ms/step - loss: 0.0141\n",
      "Epoch 35/100\n",
      "2523/2523 [==============================] - 20s 8ms/step - loss: 0.0141\n",
      "Epoch 36/100\n",
      "2523/2523 [==============================] - 19s 8ms/step - loss: 0.0140\n",
      "Epoch 37/100\n",
      "2523/2523 [==============================] - 20s 8ms/step - loss: 0.0141\n",
      "Epoch 38/100\n",
      "2523/2523 [==============================] - 20s 8ms/step - loss: 0.0141\n",
      "Epoch 39/100\n",
      "2523/2523 [==============================] - 20s 8ms/step - loss: 0.0141\n",
      "Epoch 40/100\n",
      "2523/2523 [==============================] - 20s 8ms/step - loss: 0.0141\n",
      "Epoch 41/100\n",
      "2523/2523 [==============================] - 20s 8ms/step - loss: 0.0140\n",
      "Epoch 42/100\n",
      "2523/2523 [==============================] - 19s 8ms/step - loss: 0.0140\n",
      "Epoch 43/100\n",
      "2523/2523 [==============================] - 20s 8ms/step - loss: 0.0140\n",
      "Epoch 44/100\n",
      "2523/2523 [==============================] - 20s 8ms/step - loss: 0.0140\n",
      "Epoch 45/100\n",
      "2523/2523 [==============================] - 20s 8ms/step - loss: 0.0139\n",
      "Epoch 46/100\n",
      "2523/2523 [==============================] - 20s 8ms/step - loss: 0.0139\n",
      "Epoch 47/100\n",
      "2523/2523 [==============================] - 19s 8ms/step - loss: 0.0139\n",
      "Epoch 48/100\n",
      "2523/2523 [==============================] - 20s 8ms/step - loss: 0.0140\n",
      "Epoch 49/100\n",
      "2523/2523 [==============================] - 20s 8ms/step - loss: 0.0140\n",
      "Epoch 50/100\n",
      "2523/2523 [==============================] - 20s 8ms/step - loss: 0.0139\n",
      "Epoch 51/100\n",
      "2523/2523 [==============================] - 20s 8ms/step - loss: 0.0139\n",
      "Epoch 52/100\n",
      "2523/2523 [==============================] - 19s 8ms/step - loss: 0.0139\n",
      "Epoch 53/100\n",
      "2523/2523 [==============================] - 20s 8ms/step - loss: 0.0140\n",
      "Epoch 54/100\n",
      "2523/2523 [==============================] - 20s 8ms/step - loss: 0.0140\n",
      "Epoch 55/100\n",
      "2523/2523 [==============================] - 20s 8ms/step - loss: 0.0140\n",
      "Epoch 56/100\n",
      "2523/2523 [==============================] - 20s 8ms/step - loss: 0.0139\n",
      "Epoch 57/100\n",
      "2523/2523 [==============================] - 20s 8ms/step - loss: 0.0139\n",
      "Epoch 58/100\n",
      "2523/2523 [==============================] - 19s 8ms/step - loss: 0.0139\n",
      "Epoch 59/100\n",
      "2523/2523 [==============================] - 20s 8ms/step - loss: 0.0139\n",
      "Epoch 60/100\n",
      "2523/2523 [==============================] - 20s 8ms/step - loss: 0.0139\n",
      "Epoch 61/100\n",
      "2523/2523 [==============================] - 20s 8ms/step - loss: 0.0138\n",
      "Epoch 62/100\n",
      "2523/2523 [==============================] - 20s 8ms/step - loss: 0.0138\n",
      "Epoch 63/100\n",
      "2523/2523 [==============================] - 20s 8ms/step - loss: 0.0138\n",
      "Epoch 64/100\n",
      "2523/2523 [==============================] - 20s 8ms/step - loss: 0.0138\n",
      "Epoch 65/100\n",
      "2523/2523 [==============================] - 20s 8ms/step - loss: 0.0138\n",
      "Epoch 66/100\n",
      "2523/2523 [==============================] - 20s 8ms/step - loss: 0.0139\n",
      "Epoch 67/100\n",
      "2523/2523 [==============================] - 20s 8ms/step - loss: 0.0138\n",
      "Epoch 68/100\n",
      "2523/2523 [==============================] - 19s 8ms/step - loss: 0.0138\n",
      "Epoch 69/100\n",
      "2523/2523 [==============================] - 20s 8ms/step - loss: 0.0137\n",
      "Epoch 70/100\n",
      "2523/2523 [==============================] - 20s 8ms/step - loss: 0.0138\n",
      "Epoch 71/100\n",
      "2523/2523 [==============================] - 20s 8ms/step - loss: 0.0138\n",
      "Epoch 72/100\n",
      "2523/2523 [==============================] - 20s 8ms/step - loss: 0.0137\n",
      "Epoch 73/100\n",
      "2523/2523 [==============================] - 20s 8ms/step - loss: 0.0137\n",
      "Epoch 74/100\n",
      "2523/2523 [==============================] - 19s 8ms/step - loss: 0.0138\n",
      "Epoch 75/100\n",
      "2523/2523 [==============================] - 20s 8ms/step - loss: 0.0137\n",
      "Epoch 76/100\n",
      "2523/2523 [==============================] - 20s 8ms/step - loss: 0.0137\n",
      "Epoch 77/100\n",
      "2523/2523 [==============================] - 20s 8ms/step - loss: 0.0137\n",
      "Epoch 78/100\n",
      "2523/2523 [==============================] - 20s 8ms/step - loss: 0.0137\n",
      "Epoch 79/100\n",
      "2523/2523 [==============================] - 19s 8ms/step - loss: 0.0136\n",
      "Epoch 80/100\n",
      "2523/2523 [==============================] - 20s 8ms/step - loss: 0.0136\n",
      "Epoch 81/100\n",
      "2523/2523 [==============================] - 20s 8ms/step - loss: 0.0136\n",
      "Epoch 82/100\n",
      "2523/2523 [==============================] - 20s 8ms/step - loss: 0.0136\n",
      "Epoch 83/100\n",
      "2523/2523 [==============================] - 20s 8ms/step - loss: 0.0136\n",
      "Epoch 84/100\n",
      "2523/2523 [==============================] - 20s 8ms/step - loss: 0.0136\n",
      "Epoch 85/100\n",
      "2523/2523 [==============================] - 20s 8ms/step - loss: 0.0136\n",
      "Epoch 86/100\n",
      "2523/2523 [==============================] - 20s 8ms/step - loss: 0.0136\n",
      "Epoch 87/100\n",
      "2523/2523 [==============================] - 20s 8ms/step - loss: 0.0135\n",
      "Epoch 88/100\n",
      "2523/2523 [==============================] - 20s 8ms/step - loss: 0.0135\n",
      "Epoch 89/100\n",
      "2523/2523 [==============================] - 20s 8ms/step - loss: 0.0135\n",
      "Epoch 90/100\n",
      "2523/2523 [==============================] - 19s 8ms/step - loss: 0.0135\n",
      "Epoch 91/100\n",
      "2523/2523 [==============================] - 20s 8ms/step - loss: 0.0135\n",
      "Epoch 92/100\n",
      "2523/2523 [==============================] - 20s 8ms/step - loss: 0.0135\n",
      "Epoch 93/100\n",
      "2523/2523 [==============================] - 20s 8ms/step - loss: 0.0135\n",
      "Epoch 94/100\n",
      "2523/2523 [==============================] - 20s 8ms/step - loss: 0.0135\n",
      "Epoch 95/100\n",
      "2523/2523 [==============================] - 19s 8ms/step - loss: 0.0135\n",
      "Epoch 96/100\n",
      "2523/2523 [==============================] - 20s 8ms/step - loss: 0.0135\n",
      "Epoch 97/100\n",
      "2523/2523 [==============================] - 20s 8ms/step - loss: 0.0135\n",
      "Epoch 98/100\n",
      "2523/2523 [==============================] - 20s 8ms/step - loss: 0.0135\n",
      "Epoch 99/100\n",
      "2523/2523 [==============================] - 20s 8ms/step - loss: 0.0134\n",
      "Epoch 100/100\n",
      "2523/2523 [==============================] - 19s 8ms/step - loss: 0.0134\n"
     ]
    }
   ],
   "source": [
    "model.compile(optimizer='Adam',loss='mse')\n",
    "history2 = model.fit(X2_new2, X2_new2, batch_size=768, epochs=100)"
   ]
  },
  {
   "cell_type": "code",
   "execution_count": 19,
   "id": "a7ad29b0-16e1-4a59-8216-d92fc6ac8316",
   "metadata": {},
   "outputs": [
    {
     "data": {
      "text/plain": [
       "<AxesSubplot:>"
      ]
     },
     "execution_count": 19,
     "metadata": {},
     "output_type": "execute_result"
    },
    {
     "data": {
      "image/png": "[encoded data removed]",
      "text/plain": [
       "<Figure size 432x288 with 1 Axes>"
      ]
     },
     "metadata": {
      "needs_background": "light"
     },
     "output_type": "display_data"
    },
    {
     "data": {
      "image/png": "[encoded data removed]",
      "text/plain": [
       "<Figure size 432x288 with 1 Axes>"
      ]
     },
     "metadata": {
      "needs_background": "light"
     },
     "output_type": "display_data"
    }
   ],
   "source": [
    "pd.DataFrame(history1.history).plot()\n",
    "pd.DataFrame(history2.history).plot()"
   ]
  },
  {
   "cell_type": "code",
   "execution_count": 22,
   "id": "cd5d4376-ba20-425d-b19a-30610bf41da3",
   "metadata": {},
   "outputs": [],
   "source": [
    "model.save('9_3_model')"
   ]
  },
  {
   "cell_type": "code",
   "execution_count": 20,
   "id": "bb59f846-7dca-4ac1-9103-7f1fc3b83635",
   "metadata": {},
   "outputs": [],
   "source": [
    "y_pre = model.predict(X2_new2[:10])"
   ]
  },
  {
   "cell_type": "code",
   "execution_count": 21,
   "id": "452efa24-b2f5-4c3e-8ee9-7568f13b8492",
   "metadata": {},
   "outputs": [
    {
     "data": {
      "image/png": "[encoded data removed]",
      "text/plain": [
       "<Figure size 1440x576 with 10 Axes>"
      ]
     },
     "metadata": {
      "needs_background": "light"
     },
     "output_type": "display_data"
    }
   ],
   "source": [
    "fig = plt.figure(figsize = (20,8))\n",
    "for i in range(10):\n",
    "    ax = plt.subplot(2,5,i+1)\n",
    "    ax.imshow(y_pre[i])"
   ]
  },
  {
   "cell_type": "code",
   "execution_count": 3,
   "id": "2c67e2cc-44b6-48d1-ab62-a632197e677b",
   "metadata": {},
   "outputs": [],
   "source": [
    "model = tf.keras.models.load_model('9_2_model')"
   ]
  },
  {
   "cell_type": "code",
   "execution_count": 23,
   "id": "dac1709f-cc15-48e8-9e27-cc5697307749",
   "metadata": {},
   "outputs": [
    {
     "data": {
      "text/plain": [
       "<tf.Tensor: shape=(200000, 3), dtype=float32, numpy=\n",
       "array([[ 6.0789633, 23.283035 ,  7.8805227],\n",
       "       [ 3.1064074, 17.074696 ,  6.146776 ],\n",
       "       [73.99754  , 31.889252 , 70.617775 ],\n",
       "       ...,\n",
       "       [81.485695 , 25.423353 , 47.89341  ],\n",
       "       [ 4.249021 , 39.775272 , 22.57201  ],\n",
       "       [45.41106  , 60.058174 , 30.688501 ]], dtype=float32)>"
      ]
     },
     "execution_count": 23,
     "metadata": {},
     "output_type": "execute_result"
    }
   ],
   "source": [
    "X4 = model.encoder(X2_new2[:200000])\n",
    "X4"
   ]
  },
  {
   "cell_type": "code",
   "execution_count": 25,
   "id": "cbed5515-6d24-4134-86c1-1df62ba93280",
   "metadata": {},
   "outputs": [],
   "source": [
    "from keras.backend import set_session\n",
    "from keras.backend import clear_session\n",
    "from keras.backend import get_session\n",
    "import tensorflow as tf\n",
    "import gc\n",
    " \n",
    "# Reset Keras Session\n",
    "def reset_keras():\n",
    "    sess = get_session()\n",
    "    clear_session()\n",
    "    sess.close()\n",
    "    sess = get_session()\n",
    " \n",
    "    try:\n",
    "        del classifier # this is from global space - change this as you need\n",
    "    except:\n",
    "        pass\n",
    " \n",
    "    print(gc.collect()) # if it does something you should see a number as output\n",
    " \n",
    "    # use the same config as you used to create the session\n",
    "    config = tf.compat.v1.ConfigProto()\n",
    "    config.gpu_options.per_process_gpu_memory_fraction = 1\n",
    "    config.gpu_options.visible_device_list = \"0\"\n",
    "    set_session(tf.compat.v1.Session(config=config))"
   ]
  },
  {
   "cell_type": "code",
   "execution_count": 26,
   "id": "aa17f844-efeb-42f7-9f88-8daa9a74e73d",
   "metadata": {},
   "outputs": [
    {
     "name": "stdout",
     "output_type": "stream",
     "text": [
      "10290\n"
     ]
    }
   ],
   "source": [
    "reset_keras()"
   ]
  },
  {
   "cell_type": "code",
   "execution_count": 27,
   "id": "c4557fd3-9843-4fb9-af22-08d05c96c3f2",
   "metadata": {},
   "outputs": [
    {
     "name": "stdout",
     "output_type": "stream",
     "text": [
      "100\n",
      "100\n",
      "100\n",
      "100\n",
      "100\n",
      "100\n",
      "100\n",
      "100\n"
     ]
    }
   ],
   "source": [
    "X6 = model.encoder(X2_new2[200000:400000])\n",
    "reset_keras()\n",
    "X7 = model.encoder(X2_new2[400000:600000])\n",
    "reset_keras()\n",
    "X8 = model.encoder(X2_new2[600000:800000])\n",
    "reset_keras()\n",
    "X9 = model.encoder(X2_new2[800000:1000000])\n",
    "reset_keras()\n",
    "X10 = model.encoder(X2_new2[1000000:1200000])\n",
    "reset_keras()\n",
    "X11 = model.encoder(X2_new2[1200000:1400000])\n",
    "reset_keras()\n",
    "X12 = model.encoder(X2_new2[1400000:1600000])\n",
    "reset_keras()\n",
    "X13 = model.encoder(X2_new2[1600000:1800000])\n",
    "reset_keras()\n",
    "X14 = model.encoder(X2_new2[1800000:2000000])"
   ]
  },
  {
   "cell_type": "code",
   "execution_count": 30,
   "id": "731d96b1-3df8-4d0e-9a98-ef9f474ef4fe",
   "metadata": {},
   "outputs": [
    {
     "data": {
      "text/plain": [
       "<tf.Tensor: shape=(200000, 3), dtype=float32, numpy=\n",
       "array([[28.612324 , 17.473991 , 63.62921  ],\n",
       "       [11.068939 ,  7.3712363,  8.399213 ],\n",
       "       [ 2.3016233,  1.7109046,  2.0031   ],\n",
       "       ...,\n",
       "       [45.896313 , 14.374387 , 54.015575 ],\n",
       "       [ 3.0189457,  2.530596 ,  2.7631521],\n",
       "       [ 1.6426458,  2.7836478, 11.29708  ]], dtype=float32)>"
      ]
     },
     "execution_count": 30,
     "metadata": {},
     "output_type": "execute_result"
    }
   ],
   "source": [
    "X13"
   ]
  },
  {
   "cell_type": "code",
   "execution_count": 1,
   "id": "67b1deb3-2fde-476d-88e4-b4af66250f1b",
   "metadata": {},
   "outputs": [
    {
     "ename": "NameError",
     "evalue": "name 'dump' is not defined",
     "output_type": "error",
     "traceback": [
      "\u001b[0;31m---------------------------------------------------------------------------\u001b[0m",
      "\u001b[0;31mNameError\u001b[0m                                 Traceback (most recent call last)",
      "\u001b[0;32m<ipython-input-1-617528c77eb5>\u001b[0m in \u001b[0;36m<module>\u001b[0;34m\u001b[0m\n\u001b[0;32m----> 1\u001b[0;31m \u001b[0mdump\u001b[0m\u001b[0;34m(\u001b[0m\u001b[0mX4\u001b[0m\u001b[0;34m,\u001b[0m \u001b[0;34m'/raid/wx_home/learning/2_190w_model_new/3D_data1_chem/1-200000'\u001b[0m\u001b[0;34m)\u001b[0m\u001b[0;34m\u001b[0m\u001b[0;34m\u001b[0m\u001b[0m\n\u001b[0m\u001b[1;32m      2\u001b[0m \u001b[0mdump\u001b[0m\u001b[0;34m(\u001b[0m\u001b[0mX6\u001b[0m\u001b[0;34m,\u001b[0m \u001b[0;34m'/raid/wx_home/learning/2_190w_model_new/3D_data1_chem/200000-400000'\u001b[0m\u001b[0;34m)\u001b[0m\u001b[0;34m\u001b[0m\u001b[0;34m\u001b[0m\u001b[0m\n\u001b[1;32m      3\u001b[0m \u001b[0mdump\u001b[0m\u001b[0;34m(\u001b[0m\u001b[0mX7\u001b[0m\u001b[0;34m,\u001b[0m \u001b[0;34m'/raid/wx_home/learning/2_190w_model_new/3D_data1_chem/400000-600000'\u001b[0m\u001b[0;34m)\u001b[0m\u001b[0;34m\u001b[0m\u001b[0;34m\u001b[0m\u001b[0m\n\u001b[1;32m      4\u001b[0m \u001b[0mdump\u001b[0m\u001b[0;34m(\u001b[0m\u001b[0mX8\u001b[0m\u001b[0;34m,\u001b[0m \u001b[0;34m'/raid/wx_home/learning/2_190w_model_new/3D_data1_chem/600000-800000'\u001b[0m\u001b[0;34m)\u001b[0m\u001b[0;34m\u001b[0m\u001b[0;34m\u001b[0m\u001b[0m\n\u001b[1;32m      5\u001b[0m \u001b[0mdump\u001b[0m\u001b[0;34m(\u001b[0m\u001b[0mX9\u001b[0m\u001b[0;34m,\u001b[0m \u001b[0;34m'/raid/wx_home/learning/2_190w_model_new/3D_data1_chem/800000-1000000'\u001b[0m\u001b[0;34m)\u001b[0m\u001b[0;34m\u001b[0m\u001b[0;34m\u001b[0m\u001b[0m\n",
      "\u001b[0;31mNameError\u001b[0m: name 'dump' is not defined"
     ]
    }
   ],
   "source": [
    "dump(X4, '/raid/wx_home/learning/2_190w_model_new/3D_data3/1-200000')\n",
    "dump(X6, '/raid/wx_home/learning/2_190w_model_new/3D_data3/200000-400000')\n",
    "dump(X7, '/raid/wx_home/learning/2_190w_model_new/3D_data3/400000-600000')\n",
    "dump(X8, '/raid/wx_home/learning/2_190w_model_new/3D_data3/600000-800000')\n",
    "dump(X9, '/raid/wx_home/learning/2_190w_model_new/3D_data3/800000-1000000')\n",
    "dump(X10, '/raid/wx_home/learning/2_190w_model_new/3D_data3/1000000-1200000')\n",
    "dump(X11, '/raid/wx_home/learning/2_190w_model_new/3D_data3/1200000-1400000')\n",
    "dump(X12, '/raid/wx_home/learning/2_190w_model_new/3D_data3/1400000-1600000')\n",
    "dump(X13, '/raid/wx_home/learning/2_190w_model_new/3D_data3/1600000-1800000')\n",
    "dump(X14, '/raid/wx_home/learning/2_190w_model_new/3D_data3/1800000-2000000')"
   ]
  },
  {
   "cell_type": "code",
   "execution_count": 2,
   "id": "a0898027-5d87-40fe-b8e2-ce45618ac4b4",
   "metadata": {},
   "outputs": [],
   "source": [
    "from padelpy import from_smiles"
   ]
  },
  {
   "cell_type": "code",
   "execution_count": 5,
   "id": "d8e94dfb-da50-4740-8af9-a794e8f60b33",
   "metadata": {},
   "outputs": [],
   "source": [
    "smiles1 = ['CC(=O)OC1=CC=CC=C1C(O)=O', 'CC(=O)NC1=CC=CC=C1C(O)=O']"
   ]
  },
  {
   "cell_type": "code",
   "execution_count": 6,
   "id": "68328c54-d36b-42f6-b42d-4fe9613ab257",
   "metadata": {},
   "outputs": [],
   "source": [
    "fingerprints = from_smiles(smiles1, fingerprints=True, descriptors=False)"
   ]
  },
  {
   "cell_type": "code",
   "execution_count": 14,
   "id": "74dcbf23-5daa-4a73-990d-355f53d9e9a0",
   "metadata": {},
   "outputs": [
    {
     "data": {
      "text/plain": [
       "list"
      ]
     },
     "execution_count": 14,
     "metadata": {},
     "output_type": "execute_result"
    }
   ],
   "source": [
    "type(fingerprints)"
   ]
  },
  {
   "cell_type": "code",
   "execution_count": 18,
   "id": "a8fc95f9-914e-44ab-8ce9-4120912f53cb",
   "metadata": {},
   "outputs": [],
   "source": [
    "df1 = pd.DataFrame(fingerprints)"
   ]
  },
  {
   "cell_type": "code",
   "execution_count": 19,
   "id": "fdffd630-a40c-4427-b276-b9141fe8cdb6",
   "metadata": {},
   "outputs": [
    {
     "data": {
      "text/html": [
       "<div>\n",
       "<style scoped>\n",
       "    .dataframe tbody tr th:only-of-type {\n",
       "        vertical-align: middle;\n",
       "    }\n",
       "\n",
       "    .dataframe tbody tr th {\n",
       "        vertical-align: top;\n",
       "    }\n",
       "\n",
       "    .dataframe thead th {\n",
       "        text-align: right;\n",
       "    }\n",
       "</style>\n",
       "<table border=\"1\" class=\"dataframe\">\n",
       "  <thead>\n",
       "    <tr style=\"text-align: right;\">\n",
       "      <th></th>\n",
       "      <th>PubchemFP0</th>\n",
       "      <th>PubchemFP1</th>\n",
       "      <th>PubchemFP2</th>\n",
       "      <th>PubchemFP3</th>\n",
       "      <th>PubchemFP4</th>\n",
       "      <th>PubchemFP5</th>\n",
       "      <th>PubchemFP6</th>\n",
       "      <th>PubchemFP7</th>\n",
       "      <th>PubchemFP8</th>\n",
       "      <th>PubchemFP9</th>\n",
       "      <th>...</th>\n",
       "      <th>PubchemFP871</th>\n",
       "      <th>PubchemFP872</th>\n",
       "      <th>PubchemFP873</th>\n",
       "      <th>PubchemFP874</th>\n",
       "      <th>PubchemFP875</th>\n",
       "      <th>PubchemFP876</th>\n",
       "      <th>PubchemFP877</th>\n",
       "      <th>PubchemFP878</th>\n",
       "      <th>PubchemFP879</th>\n",
       "      <th>PubchemFP880</th>\n",
       "    </tr>\n",
       "  </thead>\n",
       "  <tbody>\n",
       "    <tr>\n",
       "      <td>0</td>\n",
       "      <td>1</td>\n",
       "      <td>1</td>\n",
       "      <td>0</td>\n",
       "      <td>0</td>\n",
       "      <td>0</td>\n",
       "      <td>0</td>\n",
       "      <td>0</td>\n",
       "      <td>0</td>\n",
       "      <td>0</td>\n",
       "      <td>1</td>\n",
       "      <td>...</td>\n",
       "      <td>0</td>\n",
       "      <td>0</td>\n",
       "      <td>0</td>\n",
       "      <td>0</td>\n",
       "      <td>0</td>\n",
       "      <td>0</td>\n",
       "      <td>0</td>\n",
       "      <td>0</td>\n",
       "      <td>0</td>\n",
       "      <td>0</td>\n",
       "    </tr>\n",
       "    <tr>\n",
       "      <td>1</td>\n",
       "      <td>1</td>\n",
       "      <td>1</td>\n",
       "      <td>0</td>\n",
       "      <td>0</td>\n",
       "      <td>0</td>\n",
       "      <td>0</td>\n",
       "      <td>0</td>\n",
       "      <td>0</td>\n",
       "      <td>0</td>\n",
       "      <td>1</td>\n",
       "      <td>...</td>\n",
       "      <td>0</td>\n",
       "      <td>0</td>\n",
       "      <td>0</td>\n",
       "      <td>0</td>\n",
       "      <td>0</td>\n",
       "      <td>0</td>\n",
       "      <td>0</td>\n",
       "      <td>0</td>\n",
       "      <td>0</td>\n",
       "      <td>0</td>\n",
       "    </tr>\n",
       "  </tbody>\n",
       "</table>\n",
       "<p>2 rows × 881 columns</p>\n",
       "</div>"
      ],
      "text/plain": [
       "  PubchemFP0 PubchemFP1 PubchemFP2 PubchemFP3 PubchemFP4 PubchemFP5  \\\n",
       "0          1          1          0          0          0          0   \n",
       "1          1          1          0          0          0          0   \n",
       "\n",
       "  PubchemFP6 PubchemFP7 PubchemFP8 PubchemFP9  ... PubchemFP871 PubchemFP872  \\\n",
       "0          0          0          0          1  ...            0            0   \n",
       "1          0          0          0          1  ...            0            0   \n",
       "\n",
       "  PubchemFP873 PubchemFP874 PubchemFP875 PubchemFP876 PubchemFP877  \\\n",
       "0            0            0            0            0            0   \n",
       "1            0            0            0            0            0   \n",
       "\n",
       "  PubchemFP878 PubchemFP879 PubchemFP880  \n",
       "0            0            0            0  \n",
       "1            0            0            0  \n",
       "\n",
       "[2 rows x 881 columns]"
      ]
     },
     "execution_count": 19,
     "metadata": {},
     "output_type": "execute_result"
    }
   ],
   "source": [
    "df1 "
   ]
  },
  {
   "cell_type": "code",
   "execution_count": 20,
   "id": "3d07bfb1-2102-4b1f-896a-c0edb7761d39",
   "metadata": {},
   "outputs": [
    {
     "ename": "TypeError",
     "evalue": "'DataFrame' object is not callable",
     "output_type": "error",
     "traceback": [
      "\u001b[0;31m---------------------------------------------------------------------------\u001b[0m",
      "\u001b[0;31mTypeError\u001b[0m                                 Traceback (most recent call last)",
      "\u001b[0;32m<ipython-input-20-c00137cc10a0>\u001b[0m in \u001b[0;36m<module>\u001b[0;34m\u001b[0m\n\u001b[0;32m----> 1\u001b[0;31m \u001b[0mdf1\u001b[0m\u001b[0;34m(\u001b[0m\u001b[0;34m'1'\u001b[0m\u001b[0;34m)\u001b[0m\u001b[0;34m\u001b[0m\u001b[0;34m\u001b[0m\u001b[0m\n\u001b[0m",
      "\u001b[0;31mTypeError\u001b[0m: 'DataFrame' object is not callable"
     ]
    }
   ],
   "source": [
    "df1()"
   ]
  },
  {
   "cell_type": "code",
   "execution_count": null,
   "id": "f6a019ab-1bf2-4a70-bce5-95893fbccd46",
   "metadata": {},
   "outputs": [],
   "source": []
  }
 ],
 "metadata": {
  "kernelspec": {
   "display_name": "tensorflow",
   "language": "python",
   "name": "tensorflow"
  },
  "language_info": {
   "codemirror_mode": {
    "name": "ipython",
    "version": 3
   },
   "file_extension": ".py",
   "mimetype": "text/x-python",
   "name": "python",
   "nbconvert_exporter": "python",
   "pygments_lexer": "ipython3",
   "version": "3.6.15"
  }
 },
 "nbformat": 4,
 "nbformat_minor": 5
}
