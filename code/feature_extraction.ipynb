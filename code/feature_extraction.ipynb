{
 "cells": [
  {
   "cell_type": "code",
   "execution_count": 1,
   "id": "fc1763ce-eff5-48ac-8682-adef29de4c98",
   "metadata": {},
   "outputs": [],
   "source": [
    "import molmap"
   ]
  },
  {
   "cell_type": "code",
   "execution_count": 2,
   "id": "5d4e4884-75c5-40aa-a633-e7736054552e",
   "metadata": {},
   "outputs": [],
   "source": [
    "metric = 'cosine'\n",
    "method = 'umap'\n",
    "n_neighbors = 30\n",
    "min_dist = 0.1"
   ]
  },
  {
   "cell_type": "code",
   "execution_count": 3,
   "id": "00428ffb-5207-4460-888e-6730d37c3325",
   "metadata": {},
   "outputs": [
    {
     "name": "stdout",
     "output_type": "stream",
     "text": [
      "UMAP(metric='precomputed', n_neighbors=30, random_state=1, verbose=2)\n",
      "Construct fuzzy simplicial set\n",
      "Fri Sep  8 19:33:19 2023 Finding Nearest Neighbors\n",
      "Fri Sep  8 19:33:19 2023 Finished Nearest Neighbor Search\n",
      "Fri Sep  8 19:33:21 2023 Construct embedding\n",
      "\tcompleted  0  /  500 epochs\n",
      "\tcompleted  50  /  500 epochs\n",
      "\tcompleted  100  /  500 epochs\n",
      "\tcompleted  150  /  500 epochs\n",
      "\tcompleted  200  /  500 epochs\n",
      "\tcompleted  250  /  500 epochs\n",
      "\tcompleted  300  /  500 epochs\n",
      "\tcompleted  350  /  500 epochs\n",
      "\tcompleted  400  /  500 epochs\n",
      "\tcompleted  450  /  500 epochs\n",
      "Fri Sep  8 19:33:22 2023 Finished embedding\n",
      "2023-09-08 19:33:22,941 - \u001b[32mINFO\u001b[0m - [bidd-molmap]\u001b[0m - Applying grid feature map(assignment), this may take several minutes(1~30 min)\u001b[0m\n",
      "2023-09-08 19:33:22,986 - \u001b[32mINFO\u001b[0m - [bidd-molmap]\u001b[0m - Finished\u001b[0m\n"
     ]
    },
    {
     "data": {
      "text/plain": [
       "['fingerprint.mp']"
      ]
     },
     "execution_count": 3,
     "metadata": {},
     "output_type": "execute_result"
    }
   ],
   "source": [
    "mp_name = 'fingerprint.mp'\n",
    "bitsinfo = molmap.feature.fingerprint.Extraction().bitsinfo\n",
    "flist = bitsinfo[bitsinfo.Subtypes.isin(['MACCSFP', '' , ''])].IDs.tolist()\n",
    "mp2 = molmap.MolMap(ftype = 'fingerprint', metric = metric, flist = flist)\n",
    "mp2.fit(method = method, n_neighbors = n_neighbors, min_dist = min_dist)\n",
    "mp2.save(mp_name) ## save it as a featurizer"
   ]
  },
  {
   "cell_type": "code",
   "execution_count": 4,
   "id": "2b050804-9f2b-4b1a-bdda-4e79be9332e5",
   "metadata": {},
   "outputs": [],
   "source": [
    "smiles1 = 'CC(=O)OC1=CC=CC=C1C(O)=O' #aspirin\n",
    "smiles2 = 'CC(=O)NC1=CC=CC=C1C(O)=O' #N‐acetylanthranilic acid"
   ]
  },
  {
   "cell_type": "code",
   "execution_count": 5,
   "id": "94876360-b0eb-4523-81ab-2df801e847aa",
   "metadata": {},
   "outputs": [
    {
     "name": "stderr",
     "output_type": "stream",
     "text": [
      "100%|##########| 2/2 [00:00<00:00, 30.10it/s]\n"
     ]
    }
   ],
   "source": [
    "X1 = mp2.batch_transform([smiles1, smiles2])"
   ]
  },
  {
   "cell_type": "code",
   "execution_count": 6,
   "id": "4e66bc8a-528d-47af-a131-b533dbe568ab",
   "metadata": {},
   "outputs": [
    {
     "data": {
      "text/plain": [
       "162"
      ]
     },
     "execution_count": 6,
     "metadata": {},
     "output_type": "execute_result"
    }
   ],
   "source": [
    "len(mp2.flist)"
   ]
  },
  {
   "cell_type": "code",
   "execution_count": 7,
   "id": "6d22b023-f9bc-4fbf-87ff-aad646d2d214",
   "metadata": {},
   "outputs": [
    {
     "data": {
      "text/plain": [
       "729"
      ]
     },
     "execution_count": 7,
     "metadata": {},
     "output_type": "execute_result"
    }
   ],
   "source": [
    "27*27"
   ]
  },
  {
   "cell_type": "code",
   "execution_count": 8,
   "id": "6fc9da85-dae8-4c69-801d-73a407366e30",
   "metadata": {},
   "outputs": [],
   "source": [
    "import matplotlib.pyplot as plt\n",
    "%matplotlib inline"
   ]
  },
  {
   "cell_type": "code",
   "execution_count": 9,
   "id": "3c8c7ee5-a1f2-4182-94e8-afa596c7a2ba",
   "metadata": {},
   "outputs": [
    {
     "data": {
      "text/plain": [
       "<matplotlib.image.AxesImage at 0x7fd5385875f8>"
      ]
     },
     "execution_count": 9,
     "metadata": {},
     "output_type": "execute_result"
    },
    {
     "data": {
      "image/png": "[encoded data removed]",
      "text/plain": [
       "<Figure size 432x288 with 1 Axes>"
      ]
     },
     "metadata": {
      "needs_background": "light"
     },
     "output_type": "display_data"
    }
   ],
   "source": [
    "plt.imshow(X1[0])"
   ]
  },
  {
   "cell_type": "code",
   "execution_count": 10,
   "id": "48cf1512-3dcf-499b-98cb-f9b96f6c03fb",
   "metadata": {},
   "outputs": [
    {
     "data": {
      "text/plain": [
       "(2, 13, 13, 1)"
      ]
     },
     "execution_count": 10,
     "metadata": {},
     "output_type": "execute_result"
    }
   ],
   "source": [
    "X1.shape"
   ]
  },
  {
   "cell_type": "code",
   "execution_count": 11,
   "id": "a42d22ca-a36b-40ba-8015-1e6abceaee15",
   "metadata": {},
   "outputs": [
    {
     "data": {
      "text/plain": [
       "numpy.ndarray"
      ]
     },
     "execution_count": 11,
     "metadata": {},
     "output_type": "execute_result"
    }
   ],
   "source": [
    "type(X1)"
   ]
  },
  {
   "cell_type": "code",
   "execution_count": 12,
   "id": "a0ef923c-d00c-4eb4-ab72-215f9846ce5f",
   "metadata": {},
   "outputs": [
    {
     "data": {
      "text/plain": [
       "<matplotlib.image.AxesImage at 0x7fd538434128>"
      ]
     },
     "execution_count": 12,
     "metadata": {},
     "output_type": "execute_result"
    },
    {
     "data": {
      "image/png": "[encoded data removed]",
      "text/plain": [
       "<Figure size 432x288 with 1 Axes>"
      ]
     },
     "metadata": {
      "needs_background": "light"
     },
     "output_type": "display_data"
    }
   ],
   "source": [
    "plt.imshow(X1[1])"
   ]
  },
  {
   "cell_type": "code",
   "execution_count": null,
   "id": "c8024e3a-3ba0-440e-8585-634c2fefe87b",
   "metadata": {},
   "outputs": [],
   "source": []
  },
  {
   "cell_type": "code",
   "execution_count": null,
   "id": "a904df7c-5922-4500-9eaa-390dd1373add",
   "metadata": {},
   "outputs": [],
   "source": []
  },
  {
   "cell_type": "code",
   "execution_count": 3,
   "id": "b6f4b5cc-5e8d-48fe-92c6-a2bd3d1bc7af",
   "metadata": {},
   "outputs": [],
   "source": [
    "import pandas as pd"
   ]
  },
  {
   "cell_type": "code",
   "execution_count": 4,
   "id": "e3f6cc34-6ce0-474a-b05e-05a49306ca01",
   "metadata": {},
   "outputs": [],
   "source": [
    "data1 = pd.read_csv('/raid/wx_home/learning/small molecule/190w_3D_label.csv')"
   ]
  },
  {
   "cell_type": "code",
   "execution_count": 5,
   "id": "21841b9d-04dd-458f-bca7-1044187393b9",
   "metadata": {},
   "outputs": [
    {
     "data": {
      "text/html": [
       "<div>\n",
       "<style scoped>\n",
       "    .dataframe tbody tr th:only-of-type {\n",
       "        vertical-align: middle;\n",
       "    }\n",
       "\n",
       "    .dataframe tbody tr th {\n",
       "        vertical-align: top;\n",
       "    }\n",
       "\n",
       "    .dataframe thead th {\n",
       "        text-align: right;\n",
       "    }\n",
       "</style>\n",
       "<table border=\"1\" class=\"dataframe\">\n",
       "  <thead>\n",
       "    <tr style=\"text-align: right;\">\n",
       "      <th></th>\n",
       "      <th>Unnamed: 0</th>\n",
       "      <th>ChEMBL ID</th>\n",
       "      <th>Smiles</th>\n",
       "      <th>Protease</th>\n",
       "      <th>Nuclear receptor</th>\n",
       "      <th>kinase</th>\n",
       "      <th>G-protein coupled receptor</th>\n",
       "      <th>X</th>\n",
       "      <th>Y</th>\n",
       "      <th>Z</th>\n",
       "    </tr>\n",
       "  </thead>\n",
       "  <tbody>\n",
       "    <tr>\n",
       "      <td>0</td>\n",
       "      <td>0</td>\n",
       "      <td>CHEMBL1206185</td>\n",
       "      <td>CCCCCCCCCCC#CC(N)c1ccccc1-c1ccc(Sc2ccc(OCCCC)c...</td>\n",
       "      <td>0</td>\n",
       "      <td>0</td>\n",
       "      <td>0</td>\n",
       "      <td>0</td>\n",
       "      <td>8.639874</td>\n",
       "      <td>25.302584</td>\n",
       "      <td>27.680168</td>\n",
       "    </tr>\n",
       "    <tr>\n",
       "      <td>1</td>\n",
       "      <td>1</td>\n",
       "      <td>CHEMBL539070</td>\n",
       "      <td>CCCOc1ccccc1-c1nnc(NN)s1.Cl</td>\n",
       "      <td>0</td>\n",
       "      <td>0</td>\n",
       "      <td>0</td>\n",
       "      <td>0</td>\n",
       "      <td>68.223070</td>\n",
       "      <td>45.071560</td>\n",
       "      <td>67.574005</td>\n",
       "    </tr>\n",
       "    <tr>\n",
       "      <td>2</td>\n",
       "      <td>2</td>\n",
       "      <td>CHEMBL3335528</td>\n",
       "      <td>COC(=O)[C@H](O[C@@H]1O[C@@H](C)[C@@H](O)[C@@H]...</td>\n",
       "      <td>0</td>\n",
       "      <td>0</td>\n",
       "      <td>0</td>\n",
       "      <td>0</td>\n",
       "      <td>9.401422</td>\n",
       "      <td>53.991955</td>\n",
       "      <td>15.704758</td>\n",
       "    </tr>\n",
       "    <tr>\n",
       "      <td>3</td>\n",
       "      <td>3</td>\n",
       "      <td>CHEMBL2419030</td>\n",
       "      <td>O=c1nc(NC2CCCC2)sc2c([N+](=O)[O-])cc(C(F)(F)F)...</td>\n",
       "      <td>0</td>\n",
       "      <td>0</td>\n",
       "      <td>0</td>\n",
       "      <td>0</td>\n",
       "      <td>39.407284</td>\n",
       "      <td>19.617073</td>\n",
       "      <td>8.793589</td>\n",
       "    </tr>\n",
       "    <tr>\n",
       "      <td>4</td>\n",
       "      <td>4</td>\n",
       "      <td>CHEMBL4301448</td>\n",
       "      <td>N=C(N)NCCCOc1ccc(CNc2nc3ccc(Oc4ccc(F)cc4)cc3s2...</td>\n",
       "      <td>0</td>\n",
       "      <td>0</td>\n",
       "      <td>0</td>\n",
       "      <td>0</td>\n",
       "      <td>25.241755</td>\n",
       "      <td>16.690560</td>\n",
       "      <td>31.145899</td>\n",
       "    </tr>\n",
       "    <tr>\n",
       "      <td>...</td>\n",
       "      <td>...</td>\n",
       "      <td>...</td>\n",
       "      <td>...</td>\n",
       "      <td>...</td>\n",
       "      <td>...</td>\n",
       "      <td>...</td>\n",
       "      <td>...</td>\n",
       "      <td>...</td>\n",
       "      <td>...</td>\n",
       "      <td>...</td>\n",
       "    </tr>\n",
       "    <tr>\n",
       "      <td>1943043</td>\n",
       "      <td>1943043</td>\n",
       "      <td>CHEMBL2017916</td>\n",
       "      <td>COc1ccc(-c2nnc(NC(=O)c3cccnc3)s2)cc1</td>\n",
       "      <td>0</td>\n",
       "      <td>0</td>\n",
       "      <td>0</td>\n",
       "      <td>0</td>\n",
       "      <td>49.509163</td>\n",
       "      <td>40.188408</td>\n",
       "      <td>30.180275</td>\n",
       "    </tr>\n",
       "    <tr>\n",
       "      <td>1943044</td>\n",
       "      <td>1943044</td>\n",
       "      <td>CHEMBL374652</td>\n",
       "      <td>CC(O)(CSc1ccc(F)cc1)c1cc2cc(Cl)c(C(F)(F)F)cc2[...</td>\n",
       "      <td>0</td>\n",
       "      <td>2</td>\n",
       "      <td>0</td>\n",
       "      <td>0</td>\n",
       "      <td>27.706348</td>\n",
       "      <td>32.849113</td>\n",
       "      <td>48.760990</td>\n",
       "    </tr>\n",
       "    <tr>\n",
       "      <td>1943045</td>\n",
       "      <td>1943045</td>\n",
       "      <td>CHEMBL1416264</td>\n",
       "      <td>O=C(CSc1ccc2nnc(-c3cccnc3)n2n1)Nc1ccc(F)cc1</td>\n",
       "      <td>0</td>\n",
       "      <td>0</td>\n",
       "      <td>0</td>\n",
       "      <td>0</td>\n",
       "      <td>50.994682</td>\n",
       "      <td>41.838090</td>\n",
       "      <td>14.162477</td>\n",
       "    </tr>\n",
       "    <tr>\n",
       "      <td>1943046</td>\n",
       "      <td>1943046</td>\n",
       "      <td>CHEMBL213734</td>\n",
       "      <td>O=C(COc1ccccc1)Nc1ccc([N+](=O)[O-])cc1O</td>\n",
       "      <td>0</td>\n",
       "      <td>0</td>\n",
       "      <td>0</td>\n",
       "      <td>0</td>\n",
       "      <td>33.808820</td>\n",
       "      <td>50.675800</td>\n",
       "      <td>30.621050</td>\n",
       "    </tr>\n",
       "    <tr>\n",
       "      <td>1943047</td>\n",
       "      <td>1943047</td>\n",
       "      <td>CHEMBL1531634</td>\n",
       "      <td>O=C(/C=C/Nc1ccc(F)cc1)c1ccc(Br)cc1</td>\n",
       "      <td>0</td>\n",
       "      <td>0</td>\n",
       "      <td>0</td>\n",
       "      <td>0</td>\n",
       "      <td>52.496597</td>\n",
       "      <td>79.503460</td>\n",
       "      <td>21.538387</td>\n",
       "    </tr>\n",
       "  </tbody>\n",
       "</table>\n",
       "<p>1943048 rows × 10 columns</p>\n",
       "</div>"
      ],
      "text/plain": [
       "         Unnamed: 0      ChEMBL ID  \\\n",
       "0                 0  CHEMBL1206185   \n",
       "1                 1   CHEMBL539070   \n",
       "2                 2  CHEMBL3335528   \n",
       "3                 3  CHEMBL2419030   \n",
       "4                 4  CHEMBL4301448   \n",
       "...             ...            ...   \n",
       "1943043     1943043  CHEMBL2017916   \n",
       "1943044     1943044   CHEMBL374652   \n",
       "1943045     1943045  CHEMBL1416264   \n",
       "1943046     1943046   CHEMBL213734   \n",
       "1943047     1943047  CHEMBL1531634   \n",
       "\n",
       "                                                    Smiles  Protease  \\\n",
       "0        CCCCCCCCCCC#CC(N)c1ccccc1-c1ccc(Sc2ccc(OCCCC)c...         0   \n",
       "1                              CCCOc1ccccc1-c1nnc(NN)s1.Cl         0   \n",
       "2        COC(=O)[C@H](O[C@@H]1O[C@@H](C)[C@@H](O)[C@@H]...         0   \n",
       "3        O=c1nc(NC2CCCC2)sc2c([N+](=O)[O-])cc(C(F)(F)F)...         0   \n",
       "4        N=C(N)NCCCOc1ccc(CNc2nc3ccc(Oc4ccc(F)cc4)cc3s2...         0   \n",
       "...                                                    ...       ...   \n",
       "1943043               COc1ccc(-c2nnc(NC(=O)c3cccnc3)s2)cc1         0   \n",
       "1943044  CC(O)(CSc1ccc(F)cc1)c1cc2cc(Cl)c(C(F)(F)F)cc2[...         0   \n",
       "1943045        O=C(CSc1ccc2nnc(-c3cccnc3)n2n1)Nc1ccc(F)cc1         0   \n",
       "1943046            O=C(COc1ccccc1)Nc1ccc([N+](=O)[O-])cc1O         0   \n",
       "1943047                 O=C(/C=C/Nc1ccc(F)cc1)c1ccc(Br)cc1         0   \n",
       "\n",
       "         Nuclear receptor  kinase  G-protein coupled receptor          X  \\\n",
       "0                       0       0                           0   8.639874   \n",
       "1                       0       0                           0  68.223070   \n",
       "2                       0       0                           0   9.401422   \n",
       "3                       0       0                           0  39.407284   \n",
       "4                       0       0                           0  25.241755   \n",
       "...                   ...     ...                         ...        ...   \n",
       "1943043                 0       0                           0  49.509163   \n",
       "1943044                 2       0                           0  27.706348   \n",
       "1943045                 0       0                           0  50.994682   \n",
       "1943046                 0       0                           0  33.808820   \n",
       "1943047                 0       0                           0  52.496597   \n",
       "\n",
       "                 Y          Z  \n",
       "0        25.302584  27.680168  \n",
       "1        45.071560  67.574005  \n",
       "2        53.991955  15.704758  \n",
       "3        19.617073   8.793589  \n",
       "4        16.690560  31.145899  \n",
       "...            ...        ...  \n",
       "1943043  40.188408  30.180275  \n",
       "1943044  32.849113  48.760990  \n",
       "1943045  41.838090  14.162477  \n",
       "1943046  50.675800  30.621050  \n",
       "1943047  79.503460  21.538387  \n",
       "\n",
       "[1943048 rows x 10 columns]"
      ]
     },
     "execution_count": 5,
     "metadata": {},
     "output_type": "execute_result"
    }
   ],
   "source": [
    "data1"
   ]
  },
  {
   "cell_type": "code",
   "execution_count": 6,
   "id": "dd7d26b3-b25d-49ae-a1fe-84863f464b83",
   "metadata": {},
   "outputs": [
    {
     "data": {
      "text/html": [
       "<div>\n",
       "<style scoped>\n",
       "    .dataframe tbody tr th:only-of-type {\n",
       "        vertical-align: middle;\n",
       "    }\n",
       "\n",
       "    .dataframe tbody tr th {\n",
       "        vertical-align: top;\n",
       "    }\n",
       "\n",
       "    .dataframe thead th {\n",
       "        text-align: right;\n",
       "    }\n",
       "</style>\n",
       "<table border=\"1\" class=\"dataframe\">\n",
       "  <thead>\n",
       "    <tr style=\"text-align: right;\">\n",
       "      <th></th>\n",
       "      <th>Unnamed: 0</th>\n",
       "      <th>ChEMBL ID</th>\n",
       "      <th>Smiles</th>\n",
       "      <th>Protease</th>\n",
       "      <th>Nuclear receptor</th>\n",
       "      <th>kinase</th>\n",
       "      <th>G-protein coupled receptor</th>\n",
       "      <th>X</th>\n",
       "      <th>Y</th>\n",
       "      <th>Z</th>\n",
       "    </tr>\n",
       "  </thead>\n",
       "  <tbody>\n",
       "    <tr>\n",
       "      <td>0</td>\n",
       "      <td>0</td>\n",
       "      <td>CHEMBL1206185</td>\n",
       "      <td>CCCCCCCCCCC#CC(N)c1ccccc1-c1ccc(Sc2ccc(OCCCC)c...</td>\n",
       "      <td>0</td>\n",
       "      <td>0</td>\n",
       "      <td>0</td>\n",
       "      <td>0</td>\n",
       "      <td>8.639874</td>\n",
       "      <td>25.302584</td>\n",
       "      <td>27.680168</td>\n",
       "    </tr>\n",
       "    <tr>\n",
       "      <td>1</td>\n",
       "      <td>1</td>\n",
       "      <td>CHEMBL539070</td>\n",
       "      <td>CCCOc1ccccc1-c1nnc(NN)s1.Cl</td>\n",
       "      <td>0</td>\n",
       "      <td>0</td>\n",
       "      <td>0</td>\n",
       "      <td>0</td>\n",
       "      <td>68.223070</td>\n",
       "      <td>45.071560</td>\n",
       "      <td>67.574005</td>\n",
       "    </tr>\n",
       "    <tr>\n",
       "      <td>2</td>\n",
       "      <td>2</td>\n",
       "      <td>CHEMBL3335528</td>\n",
       "      <td>COC(=O)[C@H](O[C@@H]1O[C@@H](C)[C@@H](O)[C@@H]...</td>\n",
       "      <td>0</td>\n",
       "      <td>0</td>\n",
       "      <td>0</td>\n",
       "      <td>0</td>\n",
       "      <td>9.401422</td>\n",
       "      <td>53.991955</td>\n",
       "      <td>15.704758</td>\n",
       "    </tr>\n",
       "    <tr>\n",
       "      <td>3</td>\n",
       "      <td>3</td>\n",
       "      <td>CHEMBL2419030</td>\n",
       "      <td>O=c1nc(NC2CCCC2)sc2c([N+](=O)[O-])cc(C(F)(F)F)...</td>\n",
       "      <td>0</td>\n",
       "      <td>0</td>\n",
       "      <td>0</td>\n",
       "      <td>0</td>\n",
       "      <td>39.407284</td>\n",
       "      <td>19.617073</td>\n",
       "      <td>8.793589</td>\n",
       "    </tr>\n",
       "    <tr>\n",
       "      <td>4</td>\n",
       "      <td>4</td>\n",
       "      <td>CHEMBL4301448</td>\n",
       "      <td>N=C(N)NCCCOc1ccc(CNc2nc3ccc(Oc4ccc(F)cc4)cc3s2...</td>\n",
       "      <td>0</td>\n",
       "      <td>0</td>\n",
       "      <td>0</td>\n",
       "      <td>0</td>\n",
       "      <td>25.241755</td>\n",
       "      <td>16.690560</td>\n",
       "      <td>31.145899</td>\n",
       "    </tr>\n",
       "    <tr>\n",
       "      <td>...</td>\n",
       "      <td>...</td>\n",
       "      <td>...</td>\n",
       "      <td>...</td>\n",
       "      <td>...</td>\n",
       "      <td>...</td>\n",
       "      <td>...</td>\n",
       "      <td>...</td>\n",
       "      <td>...</td>\n",
       "      <td>...</td>\n",
       "      <td>...</td>\n",
       "    </tr>\n",
       "    <tr>\n",
       "      <td>1943043</td>\n",
       "      <td>1943043</td>\n",
       "      <td>CHEMBL2017916</td>\n",
       "      <td>COc1ccc(-c2nnc(NC(=O)c3cccnc3)s2)cc1</td>\n",
       "      <td>0</td>\n",
       "      <td>0</td>\n",
       "      <td>0</td>\n",
       "      <td>0</td>\n",
       "      <td>49.509163</td>\n",
       "      <td>40.188408</td>\n",
       "      <td>30.180275</td>\n",
       "    </tr>\n",
       "    <tr>\n",
       "      <td>1943044</td>\n",
       "      <td>1943044</td>\n",
       "      <td>CHEMBL374652</td>\n",
       "      <td>CC(O)(CSc1ccc(F)cc1)c1cc2cc(Cl)c(C(F)(F)F)cc2[...</td>\n",
       "      <td>0</td>\n",
       "      <td>2</td>\n",
       "      <td>0</td>\n",
       "      <td>0</td>\n",
       "      <td>27.706348</td>\n",
       "      <td>32.849113</td>\n",
       "      <td>48.760990</td>\n",
       "    </tr>\n",
       "    <tr>\n",
       "      <td>1943045</td>\n",
       "      <td>1943045</td>\n",
       "      <td>CHEMBL1416264</td>\n",
       "      <td>O=C(CSc1ccc2nnc(-c3cccnc3)n2n1)Nc1ccc(F)cc1</td>\n",
       "      <td>0</td>\n",
       "      <td>0</td>\n",
       "      <td>0</td>\n",
       "      <td>0</td>\n",
       "      <td>50.994682</td>\n",
       "      <td>41.838090</td>\n",
       "      <td>14.162477</td>\n",
       "    </tr>\n",
       "    <tr>\n",
       "      <td>1943046</td>\n",
       "      <td>1943046</td>\n",
       "      <td>CHEMBL213734</td>\n",
       "      <td>O=C(COc1ccccc1)Nc1ccc([N+](=O)[O-])cc1O</td>\n",
       "      <td>0</td>\n",
       "      <td>0</td>\n",
       "      <td>0</td>\n",
       "      <td>0</td>\n",
       "      <td>33.808820</td>\n",
       "      <td>50.675800</td>\n",
       "      <td>30.621050</td>\n",
       "    </tr>\n",
       "    <tr>\n",
       "      <td>1943047</td>\n",
       "      <td>1943047</td>\n",
       "      <td>CHEMBL1531634</td>\n",
       "      <td>O=C(/C=C/Nc1ccc(F)cc1)c1ccc(Br)cc1</td>\n",
       "      <td>0</td>\n",
       "      <td>0</td>\n",
       "      <td>0</td>\n",
       "      <td>0</td>\n",
       "      <td>52.496597</td>\n",
       "      <td>79.503460</td>\n",
       "      <td>21.538387</td>\n",
       "    </tr>\n",
       "  </tbody>\n",
       "</table>\n",
       "<p>1937109 rows × 10 columns</p>\n",
       "</div>"
      ],
      "text/plain": [
       "         Unnamed: 0      ChEMBL ID  \\\n",
       "0                 0  CHEMBL1206185   \n",
       "1                 1   CHEMBL539070   \n",
       "2                 2  CHEMBL3335528   \n",
       "3                 3  CHEMBL2419030   \n",
       "4                 4  CHEMBL4301448   \n",
       "...             ...            ...   \n",
       "1943043     1943043  CHEMBL2017916   \n",
       "1943044     1943044   CHEMBL374652   \n",
       "1943045     1943045  CHEMBL1416264   \n",
       "1943046     1943046   CHEMBL213734   \n",
       "1943047     1943047  CHEMBL1531634   \n",
       "\n",
       "                                                    Smiles  Protease  \\\n",
       "0        CCCCCCCCCCC#CC(N)c1ccccc1-c1ccc(Sc2ccc(OCCCC)c...         0   \n",
       "1                              CCCOc1ccccc1-c1nnc(NN)s1.Cl         0   \n",
       "2        COC(=O)[C@H](O[C@@H]1O[C@@H](C)[C@@H](O)[C@@H]...         0   \n",
       "3        O=c1nc(NC2CCCC2)sc2c([N+](=O)[O-])cc(C(F)(F)F)...         0   \n",
       "4        N=C(N)NCCCOc1ccc(CNc2nc3ccc(Oc4ccc(F)cc4)cc3s2...         0   \n",
       "...                                                    ...       ...   \n",
       "1943043               COc1ccc(-c2nnc(NC(=O)c3cccnc3)s2)cc1         0   \n",
       "1943044  CC(O)(CSc1ccc(F)cc1)c1cc2cc(Cl)c(C(F)(F)F)cc2[...         0   \n",
       "1943045        O=C(CSc1ccc2nnc(-c3cccnc3)n2n1)Nc1ccc(F)cc1         0   \n",
       "1943046            O=C(COc1ccccc1)Nc1ccc([N+](=O)[O-])cc1O         0   \n",
       "1943047                 O=C(/C=C/Nc1ccc(F)cc1)c1ccc(Br)cc1         0   \n",
       "\n",
       "         Nuclear receptor  kinase  G-protein coupled receptor          X  \\\n",
       "0                       0       0                           0   8.639874   \n",
       "1                       0       0                           0  68.223070   \n",
       "2                       0       0                           0   9.401422   \n",
       "3                       0       0                           0  39.407284   \n",
       "4                       0       0                           0  25.241755   \n",
       "...                   ...     ...                         ...        ...   \n",
       "1943043                 0       0                           0  49.509163   \n",
       "1943044                 2       0                           0  27.706348   \n",
       "1943045                 0       0                           0  50.994682   \n",
       "1943046                 0       0                           0  33.808820   \n",
       "1943047                 0       0                           0  52.496597   \n",
       "\n",
       "                 Y          Z  \n",
       "0        25.302584  27.680168  \n",
       "1        45.071560  67.574005  \n",
       "2        53.991955  15.704758  \n",
       "3        19.617073   8.793589  \n",
       "4        16.690560  31.145899  \n",
       "...            ...        ...  \n",
       "1943043  40.188408  30.180275  \n",
       "1943044  32.849113  48.760990  \n",
       "1943045  41.838090  14.162477  \n",
       "1943046  50.675800  30.621050  \n",
       "1943047  79.503460  21.538387  \n",
       "\n",
       "[1937109 rows x 10 columns]"
      ]
     },
     "execution_count": 6,
     "metadata": {},
     "output_type": "execute_result"
    }
   ],
   "source": [
    "data2 = data1.dropna()\n",
    "data2"
   ]
  },
  {
   "cell_type": "code",
   "execution_count": 14,
   "id": "91d922c0-01e3-4882-94ef-106dba2f0d09",
   "metadata": {},
   "outputs": [
    {
     "data": {
      "text/plain": [
       "'CCCCCCCCCCC#CC(N)c1ccccc1-c1ccc(Sc2ccc(OCCCC)cc2)c(S(=O)(=O)O)c1'"
      ]
     },
     "execution_count": 14,
     "metadata": {},
     "output_type": "execute_result"
    }
   ],
   "source": [
    "data2['Smiles'][0]"
   ]
  },
  {
   "cell_type": "code",
   "execution_count": null,
   "id": "729b3644-bed1-4d27-b80d-a8acbf179b1f",
   "metadata": {},
   "outputs": [
    {
     "name": "stderr",
     "output_type": "stream",
     "text": [
      "  0%|          | 79/1937109 [00:06<77:31:56,  6.94it/s]"
     ]
    }
   ],
   "source": [
    "X2 = mp2.batch_transform(data2['Smiles'])"
   ]
  },
  {
   "cell_type": "code",
   "execution_count": 9,
   "id": "9232f81b-95a4-4d65-bc09-170b1d7214d3",
   "metadata": {},
   "outputs": [],
   "source": [
    "from joblib import load,dump"
   ]
  },
  {
   "cell_type": "code",
   "execution_count": null,
   "id": "d7b3b4aa-0463-45fd-af24-6c2371f609b6",
   "metadata": {},
   "outputs": [],
   "source": [
    "dump(X2, '/raid/wx_home/learning/2_190w_model_new/melucule2.data2')"
   ]
  }
 ],
 "metadata": {
  "kernelspec": {
   "display_name": "tensorflow",
   "language": "python",
   "name": "tensorflow"
  },
  "language_info": {
   "codemirror_mode": {
    "name": "ipython",
    "version": 3
   },
   "file_extension": ".py",
   "mimetype": "text/x-python",
   "name": "python",
   "nbconvert_exporter": "python",
   "pygments_lexer": "ipython3",
   "version": "3.6.15"
  }
 },
 "nbformat": 4,
 "nbformat_minor": 5
}
