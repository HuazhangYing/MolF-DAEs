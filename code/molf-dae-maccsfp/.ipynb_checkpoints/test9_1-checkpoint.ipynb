{
 "cells": [
  {
   "cell_type": "code",
   "execution_count": 1,
   "id": "4b20dc0c-6dd5-40ff-b582-f694ec06d023",
   "metadata": {},
   "outputs": [],
   "source": [
    "from molmap.model import RegressionEstimator, MultiClassEstimator, MultiLabelEstimator\n",
    "from sklearn.preprocessing import StandardScaler, MinMaxScaler\n",
    "from molmap import dataset\n",
    "from sklearn.utils import shuffle \n",
    "import matplotlib.pyplot as plt\n",
    "import numpy as np\n",
    "import pandas as pd\n",
    "from molmap import MolMap\n",
    "from molmap import feature\n",
    "# 打开molmap的环境，molmap.model;molmap等宏包会自动导入到这个环境中。\n",
    "# from tensorflow.keras.datasets import mnist\n",
    "import tensorflow as tf\n",
    "import os\n",
    "from tensorflow.keras.layers import Input,Dense, Conv2D, Conv2DTranspose, MaxPooling2D, Flatten, UpSampling2D, Reshape\n",
    "from tensorflow.keras.models import Model,Sequential\n",
    "from joblib import load,dump #导入模型 \n",
    "import matplotlib.pyplot as plt\n",
    "%matplotlib inline"
   ]
  },
  {
   "cell_type": "code",
   "execution_count": 2,
   "id": "d2984057-0790-415c-ab94-092f9996e5d1",
   "metadata": {},
   "outputs": [],
   "source": [
    "gpuid = \"5\"\n",
    "os.environ[\"CUDA_VISIBLE_DEVICES\"] = gpuid\n",
    "physical_gpus = tf.config.list_physical_devices('GPU')\n",
    "tf.config.experimental.set_memory_growth(physical_gpus[0], True)"
   ]
  },
  {
   "cell_type": "code",
   "execution_count": 3,
   "id": "b9e5d40e-007f-4bb4-a7b0-4966b8074728",
   "metadata": {},
   "outputs": [],
   "source": [
    "X1 = load('/raid/wx_home/learning/2_190w_model_new/MACCSFP_melucule3.data2')"
   ]
  },
  {
   "cell_type": "code",
   "execution_count": 4,
   "id": "39621641-5c3c-4a0d-bad7-82778a07c6f3",
   "metadata": {},
   "outputs": [],
   "source": [
    "X2 = X1[:10]"
   ]
  },
  {
   "cell_type": "code",
   "execution_count": 5,
   "id": "1024913b-6c28-4507-968c-dfd06dda1911",
   "metadata": {},
   "outputs": [
    {
     "data": {
      "image/png": "[encoded data removed]",
      "text/plain": [
       "<Figure size 1440x576 with 10 Axes>"
      ]
     },
     "metadata": {
      "needs_background": "light"
     },
     "output_type": "display_data"
    }
   ],
   "source": [
    "fig = plt.figure(figsize = (20,8))\n",
    "for i in range(10):\n",
    "    ax = plt.subplot(2,5,i+1)\n",
    "    ax.imshow(X2[i])"
   ]
  },
  {
   "cell_type": "code",
   "execution_count": 6,
   "id": "9c8c92ae-19a0-412c-8dc7-bde4b387c57b",
   "metadata": {},
   "outputs": [
    {
     "data": {
      "text/plain": [
       "(10, 13, 13, 1)"
      ]
     },
     "execution_count": 6,
     "metadata": {},
     "output_type": "execute_result"
    }
   ],
   "source": [
    "X2.shape"
   ]
  },
  {
   "cell_type": "code",
   "execution_count": 7,
   "id": "4003a0d1-d6d4-416c-ad1b-a5cc0b064c6d",
   "metadata": {},
   "outputs": [],
   "source": [
    "class Encoder(Model):\n",
    "    def __init__(self):\n",
    "        super().__init__()\n",
    "        self.flatten = Flatten()\n",
    "        self.d1 = Dense(512, activation='relu')\n",
    "        self.d2 = Dense(1024, activation='relu')\n",
    "        self.d3 = Dense(512, activation='relu')\n",
    "        self.d4 = Dense(128, activation='relu')\n",
    "        self.d5 = Dense(64, activation='relu')\n",
    "        self.d6 = Dense(32, activation='relu')\n",
    "        self.d7 = Dense(3, activation='relu')\n",
    "\n",
    "        \n",
    "    def call(self,x):\n",
    "        x = self.flatten(x)\n",
    "        x = self.d1(x)\n",
    "        x = self.d2(x)\n",
    "        x = self.d3(x)\n",
    "        x = self.d4(x)\n",
    "        x = self.d5(x)\n",
    "        x = self.d6(x)\n",
    "        return self.d7(x)       \n",
    "    \n",
    "    \n",
    "class Decoder(Model):\n",
    "    def __init__(self):\n",
    "        super().__init__()\n",
    "        self.d8 = Dense(32, activation='relu')\n",
    "        self.d9 = Dense(64, activation='relu')\n",
    "        self.d10 = Dense(128, activation='relu')\n",
    "        self.d11 = Dense(512, activation='relu')\n",
    "        self.d12 = Dense(1024, activation='relu')\n",
    "        self.d13 = Dense(512, activation='relu')\n",
    "        self.d14 = Dense(169, activation='sigmoid')\n",
    "        self.re = Reshape((13,13))\n",
    "    \n",
    "    def call(self,x):\n",
    "        x = self.d8(x)\n",
    "        x = self.d9(x)\n",
    "        x = self.d10(x)\n",
    "        x = self.d11(x)\n",
    "        x = self.d12(x)\n",
    "        x = self.d13(x)\n",
    "        x = self.d14(x)\n",
    "        return  self.re(x)\n",
    "        \n",
    "class Autoencoder(Model):\n",
    "    def __init__(self):\n",
    "        super(Autoencoder, self).__init__()\n",
    "        self.encoder = Encoder()\n",
    "        self.decoder = Decoder()\n",
    "        \n",
    "    def call(self,x):\n",
    "        x = self.encoder(x)\n",
    "        x = self.decoder(x)\n",
    "        return x"
   ]
  },
  {
   "cell_type": "code",
   "execution_count": 8,
   "id": "1f4c3088-5702-42e3-914c-ea1fbed8e37c",
   "metadata": {},
   "outputs": [],
   "source": [
    "model = Autoencoder()"
   ]
  },
  {
   "cell_type": "code",
   "execution_count": 9,
   "id": "2cb8ad35-5986-4c1d-90ea-0a18b1d19aa9",
   "metadata": {
    "tags": []
   },
   "outputs": [
    {
     "name": "stdout",
     "output_type": "stream",
     "text": [
      "Epoch 1/100\n",
      "2523/2523 [==============================] - 19s 7ms/step - loss: 0.3176\n",
      "Epoch 2/100\n",
      "2523/2523 [==============================] - 17s 7ms/step - loss: 0.2828\n",
      "Epoch 3/100\n",
      "2523/2523 [==============================] - 16s 6ms/step - loss: 0.2541\n",
      "Epoch 4/100\n",
      "2523/2523 [==============================] - 16s 6ms/step - loss: 0.2447\n",
      "Epoch 5/100\n",
      "2523/2523 [==============================] - 17s 7ms/step - loss: 0.2402\n",
      "Epoch 6/100\n",
      "2523/2523 [==============================] - 17s 7ms/step - loss: 0.2348\n",
      "Epoch 7/100\n",
      "2523/2523 [==============================] - 17s 7ms/step - loss: 0.2319\n",
      "Epoch 8/100\n",
      "2523/2523 [==============================] - 17s 7ms/step - loss: 0.2334\n",
      "Epoch 9/100\n",
      "2523/2523 [==============================] - 17s 7ms/step - loss: 0.2302\n",
      "Epoch 10/100\n",
      "2523/2523 [==============================] - 16s 6ms/step - loss: 0.2294\n",
      "Epoch 11/100\n",
      "2523/2523 [==============================] - 17s 7ms/step - loss: 0.2276\n",
      "Epoch 12/100\n",
      "2523/2523 [==============================] - 16s 6ms/step - loss: 0.2261\n",
      "Epoch 13/100\n",
      "2523/2523 [==============================] - 15s 6ms/step - loss: 0.2253\n",
      "Epoch 14/100\n",
      "2523/2523 [==============================] - 17s 7ms/step - loss: 0.2256\n",
      "Epoch 15/100\n",
      "2523/2523 [==============================] - 17s 7ms/step - loss: 0.2256\n",
      "Epoch 16/100\n",
      "2523/2523 [==============================] - 16s 6ms/step - loss: 0.2223\n",
      "Epoch 17/100\n",
      "2523/2523 [==============================] - 16s 6ms/step - loss: 0.2187\n",
      "Epoch 18/100\n",
      "2523/2523 [==============================] - 17s 7ms/step - loss: 0.2138\n",
      "Epoch 19/100\n",
      "2523/2523 [==============================] - 16s 6ms/step - loss: 0.2125\n",
      "Epoch 20/100\n",
      "2523/2523 [==============================] - 17s 7ms/step - loss: 0.2119\n",
      "Epoch 21/100\n",
      "2523/2523 [==============================] - 16s 6ms/step - loss: 0.2102\n",
      "Epoch 22/100\n",
      "2523/2523 [==============================] - 17s 7ms/step - loss: 0.2088\n",
      "Epoch 23/100\n",
      "2523/2523 [==============================] - 16s 7ms/step - loss: 0.2061\n",
      "Epoch 24/100\n",
      "2523/2523 [==============================] - 16s 6ms/step - loss: 0.2037\n",
      "Epoch 25/100\n",
      "2523/2523 [==============================] - 17s 7ms/step - loss: 0.2027\n",
      "Epoch 26/100\n",
      "2523/2523 [==============================] - 16s 6ms/step - loss: 0.2023\n",
      "Epoch 27/100\n",
      "2523/2523 [==============================] - 16s 6ms/step - loss: 0.2029\n",
      "Epoch 28/100\n",
      "2523/2523 [==============================] - 17s 7ms/step - loss: 0.2015\n",
      "Epoch 29/100\n",
      "2523/2523 [==============================] - 16s 6ms/step - loss: 0.2032\n",
      "Epoch 30/100\n",
      "2523/2523 [==============================] - 17s 7ms/step - loss: 0.2012\n",
      "Epoch 31/100\n",
      "2523/2523 [==============================] - 17s 7ms/step - loss: 0.2018\n",
      "Epoch 32/100\n",
      "2523/2523 [==============================] - 17s 7ms/step - loss: 0.1987\n",
      "Epoch 33/100\n",
      "2523/2523 [==============================] - 17s 7ms/step - loss: 0.1978\n",
      "Epoch 34/100\n",
      "2523/2523 [==============================] - 17s 7ms/step - loss: 0.1973\n",
      "Epoch 35/100\n",
      "2523/2523 [==============================] - 16s 6ms/step - loss: 0.1951\n",
      "Epoch 36/100\n",
      "2523/2523 [==============================] - 17s 7ms/step - loss: 0.1939\n",
      "Epoch 37/100\n",
      "2523/2523 [==============================] - 17s 7ms/step - loss: 0.1937\n",
      "Epoch 38/100\n",
      "2523/2523 [==============================] - 17s 7ms/step - loss: 0.1919\n",
      "Epoch 39/100\n",
      "2523/2523 [==============================] - 17s 7ms/step - loss: 0.1903\n",
      "Epoch 40/100\n",
      "2523/2523 [==============================] - 16s 6ms/step - loss: 0.1889\n",
      "Epoch 41/100\n",
      "2523/2523 [==============================] - 17s 7ms/step - loss: 0.1875\n",
      "Epoch 42/100\n",
      "2523/2523 [==============================] - 17s 7ms/step - loss: 0.1855\n",
      "Epoch 43/100\n",
      "2523/2523 [==============================] - 16s 6ms/step - loss: 0.1830\n",
      "Epoch 44/100\n",
      "2523/2523 [==============================] - 17s 7ms/step - loss: 0.1810\n",
      "Epoch 45/100\n",
      "2523/2523 [==============================] - 17s 7ms/step - loss: 0.1801\n",
      "Epoch 46/100\n",
      "2523/2523 [==============================] - 17s 7ms/step - loss: 0.1777\n",
      "Epoch 47/100\n",
      "2523/2523 [==============================] - 17s 7ms/step - loss: 0.1761\n",
      "Epoch 48/100\n",
      "2523/2523 [==============================] - 17s 7ms/step - loss: 0.1749\n",
      "Epoch 49/100\n",
      "2523/2523 [==============================] - 16s 6ms/step - loss: 0.1738\n",
      "Epoch 50/100\n",
      "2523/2523 [==============================] - 16s 6ms/step - loss: 0.1736\n",
      "Epoch 51/100\n",
      "2523/2523 [==============================] - 17s 7ms/step - loss: 0.1726\n",
      "Epoch 52/100\n",
      "2523/2523 [==============================] - 16s 6ms/step - loss: 0.1721\n",
      "Epoch 53/100\n",
      "2523/2523 [==============================] - 17s 7ms/step - loss: 0.1716\n",
      "Epoch 54/100\n",
      "2523/2523 [==============================] - 16s 6ms/step - loss: 0.1714\n",
      "Epoch 55/100\n",
      "2523/2523 [==============================] - 17s 7ms/step - loss: 0.1712\n",
      "Epoch 56/100\n",
      "2523/2523 [==============================] - 17s 7ms/step - loss: 0.1708\n",
      "Epoch 57/100\n",
      "2523/2523 [==============================] - 17s 7ms/step - loss: 0.1714\n",
      "Epoch 58/100\n",
      "2523/2523 [==============================] - 17s 7ms/step - loss: 0.1719\n",
      "Epoch 59/100\n",
      "2523/2523 [==============================] - 16s 6ms/step - loss: 0.1700\n",
      "Epoch 60/100\n",
      "2523/2523 [==============================] - 17s 7ms/step - loss: 0.1695\n",
      "Epoch 61/100\n",
      "2523/2523 [==============================] - 17s 7ms/step - loss: 0.1690\n",
      "Epoch 62/100\n",
      "2523/2523 [==============================] - 16s 6ms/step - loss: 0.1686\n",
      "Epoch 63/100\n",
      "2523/2523 [==============================] - 17s 7ms/step - loss: 0.1672\n",
      "Epoch 64/100\n",
      "2523/2523 [==============================] - 17s 7ms/step - loss: 0.1684\n",
      "Epoch 65/100\n",
      "2523/2523 [==============================] - 15s 6ms/step - loss: 0.1667\n",
      "Epoch 66/100\n",
      "2523/2523 [==============================] - 17s 7ms/step - loss: 0.1670\n",
      "Epoch 67/100\n",
      "2523/2523 [==============================] - 16s 6ms/step - loss: 0.1686\n",
      "Epoch 68/100\n",
      "2523/2523 [==============================] - 15s 6ms/step - loss: 0.1696\n",
      "Epoch 69/100\n",
      "2523/2523 [==============================] - 16s 7ms/step - loss: 0.1692\n",
      "Epoch 70/100\n",
      "2523/2523 [==============================] - 17s 7ms/step - loss: 0.1697\n",
      "Epoch 71/100\n",
      "2523/2523 [==============================] - 16s 7ms/step - loss: 0.1689\n",
      "Epoch 72/100\n",
      "2523/2523 [==============================] - 16s 7ms/step - loss: 0.1686\n",
      "Epoch 73/100\n",
      "2523/2523 [==============================] - 17s 7ms/step - loss: 0.1677\n",
      "Epoch 74/100\n",
      "2523/2523 [==============================] - 16s 6ms/step - loss: 0.1678\n",
      "Epoch 75/100\n",
      "2523/2523 [==============================] - 17s 7ms/step - loss: 0.1675\n",
      "Epoch 76/100\n",
      "2523/2523 [==============================] - 15s 6ms/step - loss: 0.1675\n",
      "Epoch 77/100\n",
      "2523/2523 [==============================] - 17s 7ms/step - loss: 0.1680\n",
      "Epoch 78/100\n",
      "2523/2523 [==============================] - 16s 6ms/step - loss: 0.1685\n",
      "Epoch 79/100\n",
      "2523/2523 [==============================] - 17s 7ms/step - loss: 0.1675\n",
      "Epoch 80/100\n",
      "2523/2523 [==============================] - 15s 6ms/step - loss: 0.1664\n",
      "Epoch 81/100\n",
      "2523/2523 [==============================] - 16s 6ms/step - loss: 0.1659\n",
      "Epoch 82/100\n",
      "2523/2523 [==============================] - 16s 6ms/step - loss: 0.1658\n",
      "Epoch 83/100\n",
      "2523/2523 [==============================] - 16s 7ms/step - loss: 0.1663\n",
      "Epoch 84/100\n",
      "2523/2523 [==============================] - 16s 6ms/step - loss: 0.1653\n",
      "Epoch 85/100\n",
      "2523/2523 [==============================] - 16s 6ms/step - loss: 0.1650\n",
      "Epoch 86/100\n",
      "2523/2523 [==============================] - 17s 7ms/step - loss: 0.1644\n",
      "Epoch 87/100\n",
      "2523/2523 [==============================] - 17s 7ms/step - loss: 0.1644\n",
      "Epoch 88/100\n",
      "2523/2523 [==============================] - 16s 6ms/step - loss: 0.1638\n",
      "Epoch 89/100\n",
      "2523/2523 [==============================] - 16s 6ms/step - loss: 0.1634\n",
      "Epoch 90/100\n",
      "2523/2523 [==============================] - 17s 7ms/step - loss: 0.1637\n",
      "Epoch 91/100\n",
      "2523/2523 [==============================] - 16s 6ms/step - loss: 0.1653\n",
      "Epoch 92/100\n",
      "2523/2523 [==============================] - 16s 6ms/step - loss: 0.1643\n",
      "Epoch 93/100\n",
      "2523/2523 [==============================] - 16s 6ms/step - loss: 0.1632\n",
      "Epoch 94/100\n",
      "2523/2523 [==============================] - 16s 6ms/step - loss: 0.1631\n",
      "Epoch 95/100\n",
      "2523/2523 [==============================] - 15s 6ms/step - loss: 0.1624\n",
      "Epoch 96/100\n",
      "2523/2523 [==============================] - 16s 6ms/step - loss: 0.1620\n",
      "Epoch 97/100\n",
      "2523/2523 [==============================] - 16s 7ms/step - loss: 0.1620\n",
      "Epoch 98/100\n",
      "2523/2523 [==============================] - 16s 6ms/step - loss: 0.1623\n",
      "Epoch 99/100\n",
      "2523/2523 [==============================] - 16s 6ms/step - loss: 0.1619\n",
      "Epoch 100/100\n",
      "2523/2523 [==============================] - 16s 6ms/step - loss: 0.1621\n"
     ]
    }
   ],
   "source": [
    "model.compile(optimizer='Adam',loss='binary_crossentropy')\n",
    "history1 = model.fit(X1, X1, batch_size=768, epochs=100)"
   ]
  },
  {
   "cell_type": "code",
   "execution_count": 10,
   "id": "beabf264-533e-428b-91db-9fee1507c2b1",
   "metadata": {
    "tags": []
   },
   "outputs": [
    {
     "name": "stdout",
     "output_type": "stream",
     "text": [
      "Epoch 1/100\n",
      "2523/2523 [==============================] - 16s 6ms/step - loss: 0.0503\n",
      "Epoch 2/100\n",
      "2523/2523 [==============================] - 16s 6ms/step - loss: 0.0502\n",
      "Epoch 3/100\n",
      "2523/2523 [==============================] - 15s 6ms/step - loss: 0.0500\n",
      "Epoch 4/100\n",
      "2523/2523 [==============================] - 15s 6ms/step - loss: 0.0501\n",
      "Epoch 5/100\n",
      "2523/2523 [==============================] - 16s 6ms/step - loss: 0.0498\n",
      "Epoch 6/100\n",
      "2523/2523 [==============================] - 15s 6ms/step - loss: 0.0497\n",
      "Epoch 7/100\n",
      "2523/2523 [==============================] - 14s 6ms/step - loss: 0.0496\n",
      "Epoch 8/100\n",
      "2523/2523 [==============================] - 15s 6ms/step - loss: 0.0496\n",
      "Epoch 9/100\n",
      "2523/2523 [==============================] - 15s 6ms/step - loss: 0.0494\n",
      "Epoch 10/100\n",
      "2523/2523 [==============================] - 15s 6ms/step - loss: 0.0495\n",
      "Epoch 11/100\n",
      "2523/2523 [==============================] - 15s 6ms/step - loss: 0.0491\n",
      "Epoch 12/100\n",
      "2523/2523 [==============================] - 15s 6ms/step - loss: 0.0491\n",
      "Epoch 13/100\n",
      "2523/2523 [==============================] - 16s 6ms/step - loss: 0.0489\n",
      "Epoch 14/100\n",
      "2523/2523 [==============================] - 16s 6ms/step - loss: 0.0492\n",
      "Epoch 15/100\n",
      "2523/2523 [==============================] - 15s 6ms/step - loss: 0.0489\n",
      "Epoch 16/100\n",
      "2523/2523 [==============================] - 16s 6ms/step - loss: 0.0488\n",
      "Epoch 17/100\n",
      "2523/2523 [==============================] - 15s 6ms/step - loss: 0.0488\n",
      "Epoch 18/100\n",
      "2523/2523 [==============================] - 15s 6ms/step - loss: 0.0488\n",
      "Epoch 19/100\n",
      "2523/2523 [==============================] - 16s 6ms/step - loss: 0.0487\n",
      "Epoch 20/100\n",
      "2523/2523 [==============================] - 14s 6ms/step - loss: 0.0485\n",
      "Epoch 21/100\n",
      "2523/2523 [==============================] - 15s 6ms/step - loss: 0.0484\n",
      "Epoch 22/100\n",
      "2523/2523 [==============================] - 15s 6ms/step - loss: 0.0485\n",
      "Epoch 23/100\n",
      "2523/2523 [==============================] - 15s 6ms/step - loss: 0.0485\n",
      "Epoch 24/100\n",
      "2523/2523 [==============================] - 15s 6ms/step - loss: 0.0486\n",
      "Epoch 25/100\n",
      "2523/2523 [==============================] - 15s 6ms/step - loss: 0.0484\n",
      "Epoch 26/100\n",
      "2523/2523 [==============================] - 16s 6ms/step - loss: 0.0484\n",
      "Epoch 27/100\n",
      "2523/2523 [==============================] - 15s 6ms/step - loss: 0.0486\n",
      "Epoch 28/100\n",
      "2523/2523 [==============================] - 15s 6ms/step - loss: 0.0484\n",
      "Epoch 29/100\n",
      "2523/2523 [==============================] - 16s 6ms/step - loss: 0.0483\n",
      "Epoch 30/100\n",
      "2523/2523 [==============================] - 15s 6ms/step - loss: 0.0481\n",
      "Epoch 31/100\n",
      "2523/2523 [==============================] - 14s 6ms/step - loss: 0.0482\n",
      "Epoch 32/100\n",
      "2523/2523 [==============================] - 15s 6ms/step - loss: 0.0482\n",
      "Epoch 33/100\n",
      "2523/2523 [==============================] - 15s 6ms/step - loss: 0.0482\n",
      "Epoch 34/100\n",
      "2523/2523 [==============================] - 16s 6ms/step - loss: 0.0481\n",
      "Epoch 35/100\n",
      "2523/2523 [==============================] - 15s 6ms/step - loss: 0.0481\n",
      "Epoch 36/100\n",
      "2523/2523 [==============================] - 14s 6ms/step - loss: 0.0480\n",
      "Epoch 37/100\n",
      "2523/2523 [==============================] - 15s 6ms/step - loss: 0.0480\n",
      "Epoch 38/100\n",
      "2523/2523 [==============================] - 16s 6ms/step - loss: 0.0478\n",
      "Epoch 39/100\n",
      "2523/2523 [==============================] - 15s 6ms/step - loss: 0.0479\n",
      "Epoch 40/100\n",
      "2523/2523 [==============================] - 16s 6ms/step - loss: 0.0478\n",
      "Epoch 41/100\n",
      "2523/2523 [==============================] - 16s 6ms/step - loss: 0.0478\n",
      "Epoch 42/100\n",
      "2523/2523 [==============================] - 16s 6ms/step - loss: 0.0477\n",
      "Epoch 43/100\n",
      "2523/2523 [==============================] - 16s 6ms/step - loss: 0.0477\n",
      "Epoch 44/100\n",
      "2523/2523 [==============================] - 16s 6ms/step - loss: 0.0476\n",
      "Epoch 45/100\n",
      "2523/2523 [==============================] - 14s 6ms/step - loss: 0.0477\n",
      "Epoch 46/100\n",
      "2523/2523 [==============================] - 15s 6ms/step - loss: 0.0478\n",
      "Epoch 47/100\n",
      "2523/2523 [==============================] - 16s 6ms/step - loss: 0.0477\n",
      "Epoch 48/100\n",
      "2523/2523 [==============================] - 16s 6ms/step - loss: 0.0480\n",
      "Epoch 49/100\n",
      "2523/2523 [==============================] - 15s 6ms/step - loss: 0.0480\n",
      "Epoch 50/100\n",
      "2523/2523 [==============================] - 15s 6ms/step - loss: 0.0478\n",
      "Epoch 51/100\n",
      "2523/2523 [==============================] - 15s 6ms/step - loss: 0.0476\n",
      "Epoch 52/100\n",
      "2523/2523 [==============================] - 15s 6ms/step - loss: 0.0475\n",
      "Epoch 53/100\n",
      "2523/2523 [==============================] - 15s 6ms/step - loss: 0.0476\n",
      "Epoch 54/100\n",
      "2523/2523 [==============================] - 15s 6ms/step - loss: 0.0474\n",
      "Epoch 55/100\n",
      "2523/2523 [==============================] - 15s 6ms/step - loss: 0.0472\n",
      "Epoch 56/100\n",
      "2523/2523 [==============================] - 15s 6ms/step - loss: 0.0476\n",
      "Epoch 57/100\n",
      "2523/2523 [==============================] - 15s 6ms/step - loss: 0.0472\n",
      "Epoch 58/100\n",
      "2523/2523 [==============================] - 15s 6ms/step - loss: 0.0471\n",
      "Epoch 59/100\n",
      "2523/2523 [==============================] - 16s 6ms/step - loss: 0.0471\n",
      "Epoch 60/100\n",
      "2523/2523 [==============================] - 16s 6ms/step - loss: 0.0470\n",
      "Epoch 61/100\n",
      "2523/2523 [==============================] - 15s 6ms/step - loss: 0.0476\n",
      "Epoch 62/100\n",
      "2523/2523 [==============================] - 16s 6ms/step - loss: 0.0473\n",
      "Epoch 63/100\n",
      "2523/2523 [==============================] - 15s 6ms/step - loss: 0.0472\n",
      "Epoch 64/100\n",
      "2523/2523 [==============================] - 15s 6ms/step - loss: 0.0471\n",
      "Epoch 65/100\n",
      "2523/2523 [==============================] - 15s 6ms/step - loss: 0.0472\n",
      "Epoch 66/100\n",
      "2523/2523 [==============================] - ETA: 0s - loss: 0.047 - 14s 6ms/step - loss: 0.0471\n",
      "Epoch 67/100\n",
      "2523/2523 [==============================] - 15s 6ms/step - loss: 0.0469\n",
      "Epoch 68/100\n",
      "2523/2523 [==============================] - 15s 6ms/step - loss: 0.0469\n",
      "Epoch 69/100\n",
      "2523/2523 [==============================] - 15s 6ms/step - loss: 0.0469\n",
      "Epoch 70/100\n",
      "2523/2523 [==============================] - 16s 6ms/step - loss: 0.0469\n",
      "Epoch 71/100\n",
      "2523/2523 [==============================] - 15s 6ms/step - loss: 0.0467\n",
      "Epoch 72/100\n",
      "2523/2523 [==============================] - 16s 6ms/step - loss: 0.0467\n",
      "Epoch 73/100\n",
      "2523/2523 [==============================] - 15s 6ms/step - loss: 0.0466\n",
      "Epoch 74/100\n",
      "2523/2523 [==============================] - 15s 6ms/step - loss: 0.0466\n",
      "Epoch 75/100\n",
      "2523/2523 [==============================] - 16s 6ms/step - loss: 0.0466\n",
      "Epoch 76/100\n",
      "2523/2523 [==============================] - 15s 6ms/step - loss: 0.0470\n",
      "Epoch 77/100\n",
      "2523/2523 [==============================] - 15s 6ms/step - loss: 0.0469\n",
      "Epoch 78/100\n",
      "2523/2523 [==============================] - 15s 6ms/step - loss: 0.0467\n",
      "Epoch 79/100\n",
      "2523/2523 [==============================] - 16s 6ms/step - loss: 0.0466\n",
      "Epoch 80/100\n",
      "2523/2523 [==============================] - 16s 6ms/step - loss: 0.0467\n",
      "Epoch 81/100\n",
      "2523/2523 [==============================] - 15s 6ms/step - loss: 0.0464\n",
      "Epoch 82/100\n",
      "2523/2523 [==============================] - 15s 6ms/step - loss: 0.0465\n",
      "Epoch 83/100\n",
      "2523/2523 [==============================] - 15s 6ms/step - loss: 0.0464\n",
      "Epoch 84/100\n",
      "2523/2523 [==============================] - 16s 6ms/step - loss: 0.0466\n",
      "Epoch 85/100\n",
      "2523/2523 [==============================] - 15s 6ms/step - loss: 0.0464\n",
      "Epoch 86/100\n",
      "2523/2523 [==============================] - 15s 6ms/step - loss: 0.0464\n",
      "Epoch 87/100\n",
      "2523/2523 [==============================] - 15s 6ms/step - loss: 0.0462\n",
      "Epoch 88/100\n",
      "2523/2523 [==============================] - 15s 6ms/step - loss: 0.0465\n",
      "Epoch 89/100\n",
      "2523/2523 [==============================] - 14s 6ms/step - loss: 0.0464\n",
      "Epoch 90/100\n",
      "2523/2523 [==============================] - 15s 6ms/step - loss: 0.0463\n",
      "Epoch 91/100\n",
      "2523/2523 [==============================] - 16s 6ms/step - loss: 0.0464\n",
      "Epoch 92/100\n",
      "2523/2523 [==============================] - 15s 6ms/step - loss: 0.0463\n",
      "Epoch 93/100\n",
      "2523/2523 [==============================] - 14s 6ms/step - loss: 0.0461\n",
      "Epoch 94/100\n",
      "2523/2523 [==============================] - 15s 6ms/step - loss: 0.0464\n",
      "Epoch 95/100\n",
      "2523/2523 [==============================] - 16s 6ms/step - loss: 0.0462\n",
      "Epoch 96/100\n",
      "2523/2523 [==============================] - 15s 6ms/step - loss: 0.0464\n",
      "Epoch 97/100\n",
      "2523/2523 [==============================] - 15s 6ms/step - loss: 0.0463\n",
      "Epoch 98/100\n",
      "2523/2523 [==============================] - 15s 6ms/step - loss: 0.0465\n",
      "Epoch 99/100\n",
      "2523/2523 [==============================] - 15s 6ms/step - loss: 0.0465\n",
      "Epoch 100/100\n",
      "2523/2523 [==============================] - 14s 6ms/step - loss: 0.0468\n"
     ]
    }
   ],
   "source": [
    "model.compile(optimizer='Adam',loss='mse')\n",
    "history2 = model.fit(X1, X1, batch_size=768, epochs=100)"
   ]
  },
  {
   "cell_type": "code",
   "execution_count": 11,
   "id": "507ddb38-2328-4335-956e-d1cf59cf94eb",
   "metadata": {},
   "outputs": [
    {
     "data": {
      "text/plain": [
       "<AxesSubplot:>"
      ]
     },
     "execution_count": 11,
     "metadata": {},
     "output_type": "execute_result"
    },
    {
     "data": {
      "image/png": "[encoded data removed]",
      "text/plain": [
       "<Figure size 432x288 with 1 Axes>"
      ]
     },
     "metadata": {
      "needs_background": "light"
     },
     "output_type": "display_data"
    },
    {
     "data": {
      "image/png": "[encoded data removed]",
      "text/plain": [
       "<Figure size 432x288 with 1 Axes>"
      ]
     },
     "metadata": {
      "needs_background": "light"
     },
     "output_type": "display_data"
    }
   ],
   "source": [
    "pd.DataFrame(history1.history).plot()\n",
    "pd.DataFrame(history2.history).plot()"
   ]
  },
  {
   "cell_type": "code",
   "execution_count": 12,
   "id": "b2726073-3fbf-4fcd-ae42-d5adeae0dee5",
   "metadata": {
    "tags": []
   },
   "outputs": [],
   "source": [
    "y_pre = model.predict(X1[:10])"
   ]
  },
  {
   "cell_type": "code",
   "execution_count": 13,
   "id": "f378582d-568d-4827-9fb7-3aa955e9ead6",
   "metadata": {
    "tags": []
   },
   "outputs": [
    {
     "data": {
      "image/png": "[encoded data removed]",
      "text/plain": [
       "<Figure size 1440x576 with 10 Axes>"
      ]
     },
     "metadata": {
      "needs_background": "light"
     },
     "output_type": "display_data"
    }
   ],
   "source": [
    "fig = plt.figure(figsize = (20,8))\n",
    "for i in range(10):\n",
    "    ax = plt.subplot(2,5,i+1)\n",
    "    ax.imshow(y_pre[i])"
   ]
  },
  {
   "cell_type": "code",
   "execution_count": 14,
   "id": "47370e82-eab9-4d29-841d-92f1952c2136",
   "metadata": {},
   "outputs": [],
   "source": [
    "model.save('test_7_model')"
   ]
  },
  {
   "cell_type": "code",
   "execution_count": 15,
   "id": "18837798-7b9d-45c6-9b3b-0fe1881eab3f",
   "metadata": {
    "tags": []
   },
   "outputs": [],
   "source": [
    "X3 = model.encoder(X1[:200000])"
   ]
  },
  {
   "cell_type": "code",
   "execution_count": 17,
   "id": "950376b8-3b36-4c84-a812-e9a8fe81d214",
   "metadata": {},
   "outputs": [],
   "source": [
    "from keras.backend import set_session\n",
    "from keras.backend import clear_session\n",
    "from keras.backend import get_session\n",
    "import tensorflow as tf\n",
    "import gc\n",
    " \n",
    "# Reset Keras Session\n",
    "def reset_keras():\n",
    "    sess = get_session()\n",
    "    clear_session()\n",
    "    sess.close()\n",
    "    sess = get_session()\n",
    " \n",
    "    try:\n",
    "        del classifier # this is from global space - change this as you need\n",
    "    except:\n",
    "        pass\n",
    " \n",
    "    print(gc.collect()) # if it does something you should see a number as output\n",
    " \n",
    "    # use the same config as you used to create the session\n",
    "    config = tf.compat.v1.ConfigProto()\n",
    "    config.gpu_options.per_process_gpu_memory_fraction = 1\n",
    "    config.gpu_options.visible_device_list = \"0\"\n",
    "    set_session(tf.compat.v1.Session(config=config))"
   ]
  },
  {
   "cell_type": "code",
   "execution_count": 19,
   "id": "a06aeaed-3631-4af8-a65e-b231fc3a933a",
   "metadata": {},
   "outputs": [
    {
     "name": "stdout",
     "output_type": "stream",
     "text": [
      "100\n"
     ]
    }
   ],
   "source": [
    "reset_keras()"
   ]
  },
  {
   "cell_type": "code",
   "execution_count": 20,
   "id": "1ce23caf-eba4-4b84-b2be-e6e9a0232fca",
   "metadata": {},
   "outputs": [
    {
     "data": {
      "text/plain": [
       "<tf.Tensor: shape=(200000, 3), dtype=float32, numpy=\n",
       "array([[12.544128 , 15.18173  , 35.477463 ],\n",
       "       [ 3.4091554,  5.660567 ,  8.775536 ],\n",
       "       [ 7.089233 ,  8.613582 , 19.262486 ],\n",
       "       ...,\n",
       "       [ 7.634932 ,  8.97663  , 20.335802 ],\n",
       "       [ 4.5556135,  4.7761865, 17.181616 ],\n",
       "       [20.224152 , 31.19057  , 24.29108  ]], dtype=float32)>"
      ]
     },
     "execution_count": 20,
     "metadata": {},
     "output_type": "execute_result"
    }
   ],
   "source": [
    "X3"
   ]
  },
  {
   "cell_type": "code",
   "execution_count": 21,
   "id": "3e344033-aa84-4e67-a40a-3716971e4013",
   "metadata": {},
   "outputs": [
    {
     "name": "stdout",
     "output_type": "stream",
     "text": [
      "100\n",
      "100\n",
      "100\n",
      "100\n",
      "100\n",
      "100\n",
      "100\n",
      "100\n"
     ]
    }
   ],
   "source": [
    "X6 = model.encoder(X1[200000:400000])\n",
    "reset_keras()\n",
    "X7 = model.encoder(X1[400000:600000])\n",
    "reset_keras()\n",
    "X8 = model.encoder(X1[600000:800000])\n",
    "reset_keras()\n",
    "X9 = model.encoder(X1[800000:1000000])\n",
    "reset_keras()\n",
    "X10 = model.encoder(X1[1000000:1200000])\n",
    "reset_keras()\n",
    "X11 = model.encoder(X1[1200000:1400000])\n",
    "reset_keras()\n",
    "X12 = model.encoder(X1[1400000:1600000])\n",
    "reset_keras()\n",
    "X13 = model.encoder(X1[1600000:1800000])\n",
    "reset_keras()\n",
    "X14 = model.encoder(X1[1800000:2000000])"
   ]
  },
  {
   "cell_type": "code",
   "execution_count": 22,
   "id": "7f6afb4f-11a1-4a8d-be01-dab5ba3aea1f",
   "metadata": {},
   "outputs": [
    {
     "data": {
      "text/plain": [
       "['/raid/wx_home/learning/2_190w_model_new/parameter adjust macc/test5_data/1800000-2000000']"
      ]
     },
     "execution_count": 22,
     "metadata": {},
     "output_type": "execute_result"
    }
   ],
   "source": [
    "dump(X3, '/raid/wx_home/learning/2_190w_model_new/parameter adjust macc/test5_data/1-200000')\n",
    "dump(X6, '/raid/wx_home/learning/2_190w_model_new/parameter adjust macc/test5_data/200000-400000')\n",
    "dump(X7, '/raid/wx_home/learning/2_190w_model_new/parameter adjust macc/test5_data/400000-600000')\n",
    "dump(X8, '/raid/wx_home/learning/2_190w_model_new/parameter adjust macc/test5_data/600000-800000')\n",
    "dump(X9, '/raid/wx_home/learning/2_190w_model_new/parameter adjust macc/test5_data/800000-1000000')\n",
    "dump(X10, '/raid/wx_home/learning/2_190w_model_new/parameter adjust macc/test5_data/1000000-1200000')\n",
    "dump(X11, '/raid/wx_home/learning/2_190w_model_new/parameter adjust macc/test5_data/1200000-1400000')\n",
    "dump(X12, '/raid/wx_home/learning/2_190w_model_new/parameter adjust macc/test5_data/1400000-1600000')\n",
    "dump(X13, '/raid/wx_home/learning/2_190w_model_new/parameter adjust macc/test5_data/1600000-1800000')\n",
    "dump(X14, '/raid/wx_home/learning/2_190w_model_new/parameter adjust macc/test5_data/1800000-2000000')"
   ]
  },
  {
   "cell_type": "code",
   "execution_count": null,
   "id": "6d92b7d9-51a8-44e1-858c-250017b21adf",
   "metadata": {},
   "outputs": [],
   "source": []
  }
 ],
 "metadata": {
  "kernelspec": {
   "display_name": "tensorflow",
   "language": "python",
   "name": "tensorflow"
  },
  "language_info": {
   "codemirror_mode": {
    "name": "ipython",
    "version": 3
   },
   "file_extension": ".py",
   "mimetype": "text/x-python",
   "name": "python",
   "nbconvert_exporter": "python",
   "pygments_lexer": "ipython3",
   "version": "3.6.15"
  }
 },
 "nbformat": 4,
 "nbformat_minor": 5
}
