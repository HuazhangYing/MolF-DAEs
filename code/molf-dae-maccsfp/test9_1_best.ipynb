{
 "cells": [
  {
   "cell_type": "code",
   "execution_count": 1,
   "id": "4b20dc0c-6dd5-40ff-b582-f694ec06d023",
   "metadata": {},
   "outputs": [],
   "source": [
    "from molmap.model import RegressionEstimator, MultiClassEstimator, MultiLabelEstimator\n",
    "from sklearn.preprocessing import StandardScaler, MinMaxScaler\n",
    "from molmap import dataset\n",
    "from sklearn.utils import shuffle \n",
    "import matplotlib.pyplot as plt\n",
    "import numpy as np\n",
    "import pandas as pd\n",
    "from molmap import MolMap\n",
    "from molmap import feature\n",
    "# 打开molmap的环境，molmap.model;molmap等宏包会自动导入到这个环境中。\n",
    "# from tensorflow.keras.datasets import mnist\n",
    "import tensorflow as tf\n",
    "import os\n",
    "from tensorflow.keras.layers import Input,Dense, Conv2D, Conv2DTranspose, MaxPooling2D, Flatten, UpSampling2D, Reshape\n",
    "from tensorflow.keras.models import Model,Sequential\n",
    "from joblib import load,dump #导入模型 \n",
    "import matplotlib.pyplot as plt\n",
    "%matplotlib inline"
   ]
  },
  {
   "cell_type": "code",
   "execution_count": 2,
   "id": "d2984057-0790-415c-ab94-092f9996e5d1",
   "metadata": {},
   "outputs": [],
   "source": [
    "gpuid = \"4\"\n",
    "os.environ[\"CUDA_VISIBLE_DEVICES\"] = gpuid\n",
    "physical_gpus = tf.config.list_physical_devices('GPU')\n",
    "tf.config.experimental.set_memory_growth(physical_gpus[0], True)"
   ]
  },
  {
   "cell_type": "code",
   "execution_count": 3,
   "id": "b9e5d40e-007f-4bb4-a7b0-4966b8074728",
   "metadata": {},
   "outputs": [],
   "source": [
    "X1 = load('/raid/wx_home/learning/2_190w_model_new/MACCSFP_melucule3.data2')"
   ]
  },
  {
   "cell_type": "code",
   "execution_count": 4,
   "id": "39621641-5c3c-4a0d-bad7-82778a07c6f3",
   "metadata": {},
   "outputs": [],
   "source": [
    "X2 = X1[:10]"
   ]
  },
  {
   "cell_type": "code",
   "execution_count": 5,
   "id": "1024913b-6c28-4507-968c-dfd06dda1911",
   "metadata": {
    "jupyter": {
     "source_hidden": true
    },
    "tags": []
   },
   "outputs": [
    {
     "data": {
      "image/png": "[encoded data removed]",
      "text/plain": [
       "<Figure size 1440x576 with 10 Axes>"
      ]
     },
     "metadata": {
      "needs_background": "light"
     },
     "output_type": "display_data"
    }
   ],
   "source": [
    "fig = plt.figure(figsize = (20,8))\n",
    "for i in range(10):\n",
    "    ax = plt.subplot(2,5,i+1)\n",
    "    ax.imshow(X2[i])"
   ]
  },
  {
   "cell_type": "code",
   "execution_count": 6,
   "id": "9c8c92ae-19a0-412c-8dc7-bde4b387c57b",
   "metadata": {},
   "outputs": [
    {
     "data": {
      "text/plain": [
       "(10, 13, 13, 1)"
      ]
     },
     "execution_count": 6,
     "metadata": {},
     "output_type": "execute_result"
    }
   ],
   "source": [
    "X2.shape"
   ]
  },
  {
   "cell_type": "code",
   "execution_count": 7,
   "id": "4003a0d1-d6d4-416c-ad1b-a5cc0b064c6d",
   "metadata": {},
   "outputs": [],
   "source": [
    "class Encoder(Model):\n",
    "    def __init__(self):\n",
    "        super().__init__()\n",
    "        self.flatten = Flatten()\n",
    "        self.d1 = Dense(512, activation='relu')\n",
    "        self.d2 = Dense(1024, activation='relu')\n",
    "        self.d3 = Dense(512, activation='relu')\n",
    "        self.d4 = Dense(256, activation='relu')\n",
    "        self.d5 = Dense(64, activation='relu')\n",
    "        self.d6 = Dense(32, activation='relu')\n",
    "        self.d7 = Dense(3, activation='relu')\n",
    "\n",
    "        \n",
    "    def call(self,x):\n",
    "        x = self.flatten(x)\n",
    "        x = self.d1(x)\n",
    "        x = self.d2(x)\n",
    "        x = self.d3(x)\n",
    "        x = self.d4(x)\n",
    "        x = self.d5(x)\n",
    "        x = self.d6(x)\n",
    "        return self.d7(x)       \n",
    "    \n",
    "    \n",
    "class Decoder(Model):\n",
    "    def __init__(self):\n",
    "        super().__init__()\n",
    "        self.d8 = Dense(32, activation='relu')\n",
    "        self.d9 = Dense(64, activation='relu')\n",
    "        self.d10 = Dense(256, activation='relu')\n",
    "        self.d11 = Dense(512, activation='relu')\n",
    "        self.d12 = Dense(1024, activation='relu')\n",
    "        self.d13 = Dense(512, activation='relu')\n",
    "        self.d14 = Dense(169, activation='sigmoid')\n",
    "        self.re = Reshape((13,13))\n",
    "    \n",
    "    def call(self,x):\n",
    "        x = self.d8(x)\n",
    "        x = self.d9(x)\n",
    "        x = self.d10(x)\n",
    "        x = self.d11(x)\n",
    "        x = self.d12(x)\n",
    "        x = self.d13(x)\n",
    "        x = self.d14(x)\n",
    "        return  self.re(x)\n",
    "        \n",
    "class Autoencoder(Model):\n",
    "    def __init__(self):\n",
    "        super(Autoencoder, self).__init__()\n",
    "        self.encoder = Encoder()\n",
    "        self.decoder = Decoder()\n",
    "        \n",
    "    def call(self,x):\n",
    "        x = self.encoder(x)\n",
    "        x = self.decoder(x)\n",
    "        return x"
   ]
  },
  {
   "cell_type": "code",
   "execution_count": 8,
   "id": "1f4c3088-5702-42e3-914c-ea1fbed8e37c",
   "metadata": {},
   "outputs": [],
   "source": [
    "model = Autoencoder()"
   ]
  },
  {
   "cell_type": "code",
   "execution_count": 9,
   "id": "2cb8ad35-5986-4c1d-90ea-0a18b1d19aa9",
   "metadata": {
    "collapsed": true,
    "jupyter": {
     "outputs_hidden": true
    },
    "tags": []
   },
   "outputs": [
    {
     "name": "stdout",
     "output_type": "stream",
     "text": [
      "Epoch 1/100\n",
      "2523/2523 [==============================] - 19s 7ms/step - loss: 0.2531\n",
      "Epoch 2/100\n",
      "2523/2523 [==============================] - 17s 7ms/step - loss: 0.2106\n",
      "Epoch 3/100\n",
      "2523/2523 [==============================] - 16s 6ms/step - loss: 0.1989\n",
      "Epoch 4/100\n",
      "2523/2523 [==============================] - 17s 7ms/step - loss: 0.1906\n",
      "Epoch 5/100\n",
      "2523/2523 [==============================] - 16s 6ms/step - loss: 0.1884\n",
      "Epoch 6/100\n",
      "2523/2523 [==============================] - 16s 6ms/step - loss: 0.1844\n",
      "Epoch 7/100\n",
      "2523/2523 [==============================] - 16s 6ms/step - loss: 0.1819\n",
      "Epoch 8/100\n",
      "2523/2523 [==============================] - 17s 7ms/step - loss: 0.1776\n",
      "Epoch 9/100\n",
      "2523/2523 [==============================] - 17s 7ms/step - loss: 0.1766\n",
      "Epoch 10/100\n",
      "2523/2523 [==============================] - 16s 6ms/step - loss: 0.1769\n",
      "Epoch 11/100\n",
      "2523/2523 [==============================] - 17s 7ms/step - loss: 0.1768\n",
      "Epoch 12/100\n",
      "2523/2523 [==============================] - 16s 6ms/step - loss: 0.1758\n",
      "Epoch 13/100\n",
      "2523/2523 [==============================] - 17s 7ms/step - loss: 0.1767\n",
      "Epoch 14/100\n",
      "2523/2523 [==============================] - 17s 7ms/step - loss: 0.1777\n",
      "Epoch 15/100\n",
      "2523/2523 [==============================] - 17s 7ms/step - loss: 0.1754\n",
      "Epoch 16/100\n",
      "2523/2523 [==============================] - 17s 7ms/step - loss: 0.1758\n",
      "Epoch 17/100\n",
      "2523/2523 [==============================] - 17s 7ms/step - loss: 0.1749\n",
      "Epoch 18/100\n",
      "2523/2523 [==============================] - 16s 6ms/step - loss: 0.1764\n",
      "Epoch 19/100\n",
      "2523/2523 [==============================] - 17s 7ms/step - loss: 0.1756\n",
      "Epoch 20/100\n",
      "2523/2523 [==============================] - 17s 7ms/step - loss: 0.1758\n",
      "Epoch 21/100\n",
      "2523/2523 [==============================] - 16s 6ms/step - loss: 0.1713\n",
      "Epoch 22/100\n",
      "2523/2523 [==============================] - 16s 6ms/step - loss: 0.1663\n",
      "Epoch 23/100\n",
      "2523/2523 [==============================] - 17s 7ms/step - loss: 0.1629\n",
      "Epoch 24/100\n",
      "2523/2523 [==============================] - 17s 7ms/step - loss: 0.1608\n",
      "Epoch 25/100\n",
      "2523/2523 [==============================] - 16s 7ms/step - loss: 0.1592\n",
      "Epoch 26/100\n",
      "2523/2523 [==============================] - 17s 7ms/step - loss: 0.1583\n",
      "Epoch 27/100\n",
      "2523/2523 [==============================] - 16s 6ms/step - loss: 0.1570\n",
      "Epoch 28/100\n",
      "2523/2523 [==============================] - 17s 7ms/step - loss: 0.1562\n",
      "Epoch 29/100\n",
      "2523/2523 [==============================] - 17s 7ms/step - loss: 0.1551\n",
      "Epoch 30/100\n",
      "2523/2523 [==============================] - 17s 7ms/step - loss: 0.1539\n",
      "Epoch 31/100\n",
      "2523/2523 [==============================] - 16s 6ms/step - loss: 0.1531\n",
      "Epoch 32/100\n",
      "2523/2523 [==============================] - 16s 6ms/step - loss: 0.1529\n",
      "Epoch 33/100\n",
      "2523/2523 [==============================] - 17s 7ms/step - loss: 0.1523\n",
      "Epoch 34/100\n",
      "2523/2523 [==============================] - 16s 6ms/step - loss: 0.1518\n",
      "Epoch 35/100\n",
      "2523/2523 [==============================] - 17s 7ms/step - loss: 0.1514\n",
      "Epoch 36/100\n",
      "2523/2523 [==============================] - 17s 7ms/step - loss: 0.1503\n",
      "Epoch 37/100\n",
      "2523/2523 [==============================] - 16s 6ms/step - loss: 0.1496\n",
      "Epoch 38/100\n",
      "2523/2523 [==============================] - 17s 7ms/step - loss: 0.1495\n",
      "Epoch 39/100\n",
      "2523/2523 [==============================] - 17s 7ms/step - loss: 0.1489\n",
      "Epoch 40/100\n",
      "2523/2523 [==============================] - 17s 7ms/step - loss: 0.1481\n",
      "Epoch 41/100\n",
      "2523/2523 [==============================] - 17s 7ms/step - loss: 0.1478\n",
      "Epoch 42/100\n",
      "2523/2523 [==============================] - 17s 7ms/step - loss: 0.1478\n",
      "Epoch 43/100\n",
      "2523/2523 [==============================] - 16s 6ms/step - loss: 0.1471\n",
      "Epoch 44/100\n",
      "2523/2523 [==============================] - 16s 7ms/step - loss: 0.1462\n",
      "Epoch 45/100\n",
      "2523/2523 [==============================] - 17s 7ms/step - loss: 0.1458\n",
      "Epoch 46/100\n",
      "2523/2523 [==============================] - 16s 6ms/step - loss: 0.1472\n",
      "Epoch 47/100\n",
      "2523/2523 [==============================] - 16s 6ms/step - loss: 0.1462\n",
      "Epoch 48/100\n",
      "2523/2523 [==============================] - 17s 7ms/step - loss: 0.1463\n",
      "Epoch 49/100\n",
      "2523/2523 [==============================] - 17s 7ms/step - loss: 0.1460\n",
      "Epoch 50/100\n",
      "2523/2523 [==============================] - 17s 7ms/step - loss: 0.1454\n",
      "Epoch 51/100\n",
      "2523/2523 [==============================] - 17s 7ms/step - loss: 0.1455\n",
      "Epoch 52/100\n",
      "2523/2523 [==============================] - 17s 7ms/step - loss: 0.1444\n",
      "Epoch 53/100\n",
      "2523/2523 [==============================] - 16s 7ms/step - loss: 0.1450\n",
      "Epoch 54/100\n",
      "2523/2523 [==============================] - 16s 7ms/step - loss: 0.1467\n",
      "Epoch 55/100\n",
      "2523/2523 [==============================] - 16s 6ms/step - loss: 0.1453\n",
      "Epoch 56/100\n",
      "2523/2523 [==============================] - 16s 6ms/step - loss: 0.1449\n",
      "Epoch 57/100\n",
      "2523/2523 [==============================] - 18s 7ms/step - loss: 0.1444\n",
      "Epoch 58/100\n",
      "2523/2523 [==============================] - 17s 7ms/step - loss: 0.1442\n",
      "Epoch 59/100\n",
      "2523/2523 [==============================] - 16s 6ms/step - loss: 0.1437\n",
      "Epoch 60/100\n",
      "2523/2523 [==============================] - 16s 6ms/step - loss: 0.1433\n",
      "Epoch 61/100\n",
      "2523/2523 [==============================] - 16s 6ms/step - loss: 0.1435\n",
      "Epoch 62/100\n",
      "2523/2523 [==============================] - 17s 7ms/step - loss: 0.1433\n",
      "Epoch 63/100\n",
      "2523/2523 [==============================] - 18s 7ms/step - loss: 0.1427\n",
      "Epoch 64/100\n",
      "2523/2523 [==============================] - 17s 7ms/step - loss: 0.1423\n",
      "Epoch 65/100\n",
      "2523/2523 [==============================] - 16s 7ms/step - loss: 0.1420\n",
      "Epoch 66/100\n",
      "2523/2523 [==============================] - 17s 7ms/step - loss: 0.1420\n",
      "Epoch 67/100\n",
      "2523/2523 [==============================] - 16s 7ms/step - loss: 0.1414\n",
      "Epoch 68/100\n",
      "2523/2523 [==============================] - 15s 6ms/step - loss: 0.1414\n",
      "Epoch 69/100\n",
      "2523/2523 [==============================] - 16s 6ms/step - loss: 0.1437\n",
      "Epoch 70/100\n",
      "2523/2523 [==============================] - 17s 7ms/step - loss: 0.1430\n",
      "Epoch 71/100\n",
      "2523/2523 [==============================] - 15s 6ms/step - loss: 0.1425\n",
      "Epoch 72/100\n",
      "2523/2523 [==============================] - 17s 7ms/step - loss: 0.1416\n",
      "Epoch 73/100\n",
      "2523/2523 [==============================] - 17s 7ms/step - loss: 0.1414\n",
      "Epoch 74/100\n",
      "2523/2523 [==============================] - 17s 7ms/step - loss: 0.1403\n",
      "Epoch 75/100\n",
      "2523/2523 [==============================] - 17s 7ms/step - loss: 0.1410\n",
      "Epoch 76/100\n",
      "2523/2523 [==============================] - 16s 6ms/step - loss: 0.1407\n",
      "Epoch 77/100\n",
      "2523/2523 [==============================] - 17s 7ms/step - loss: 0.1397\n",
      "Epoch 78/100\n",
      "2523/2523 [==============================] - 16s 6ms/step - loss: 0.1401\n",
      "Epoch 79/100\n",
      "2523/2523 [==============================] - 16s 6ms/step - loss: 0.1413\n",
      "Epoch 80/100\n",
      "2523/2523 [==============================] - 17s 7ms/step - loss: 0.1416\n",
      "Epoch 81/100\n",
      "2523/2523 [==============================] - 16s 6ms/step - loss: 0.1402\n",
      "Epoch 82/100\n",
      "2523/2523 [==============================] - 17s 7ms/step - loss: 0.1410\n",
      "Epoch 83/100\n",
      "2523/2523 [==============================] - 17s 7ms/step - loss: 0.1408\n",
      "Epoch 84/100\n",
      "2523/2523 [==============================] - 17s 7ms/step - loss: 0.1405\n",
      "Epoch 85/100\n",
      "2523/2523 [==============================] - 17s 7ms/step - loss: 0.1396\n",
      "Epoch 86/100\n",
      "2523/2523 [==============================] - 16s 6ms/step - loss: 0.1393\n",
      "Epoch 87/100\n",
      "2523/2523 [==============================] - 17s 7ms/step - loss: 0.1391\n",
      "Epoch 88/100\n",
      "2523/2523 [==============================] - 17s 7ms/step - loss: 0.1393\n",
      "Epoch 89/100\n",
      "2523/2523 [==============================] - 17s 7ms/step - loss: 0.1396\n",
      "Epoch 90/100\n",
      "2523/2523 [==============================] - 16s 6ms/step - loss: 0.1410\n",
      "Epoch 91/100\n",
      "2523/2523 [==============================] - 18s 7ms/step - loss: 0.1421\n",
      "Epoch 92/100\n",
      "2523/2523 [==============================] - 15s 6ms/step - loss: 0.1409\n",
      "Epoch 93/100\n",
      "2523/2523 [==============================] - 16s 6ms/step - loss: 0.1394\n",
      "Epoch 94/100\n",
      "2523/2523 [==============================] - 17s 7ms/step - loss: 0.1388\n",
      "Epoch 95/100\n",
      "2523/2523 [==============================] - 16s 6ms/step - loss: 0.1402\n",
      "Epoch 96/100\n",
      "2523/2523 [==============================] - 17s 7ms/step - loss: 0.1393\n",
      "Epoch 97/100\n",
      "2523/2523 [==============================] - 17s 7ms/step - loss: 0.1390\n",
      "Epoch 98/100\n",
      "2523/2523 [==============================] - 17s 7ms/step - loss: 0.1387\n",
      "Epoch 99/100\n",
      "2523/2523 [==============================] - 17s 7ms/step - loss: 0.1394\n",
      "Epoch 100/100\n",
      "2523/2523 [==============================] - 17s 7ms/step - loss: 0.1388\n"
     ]
    }
   ],
   "source": [
    "model.compile(optimizer='Adam',loss='binary_crossentropy')\n",
    "history1 = model.fit(X1, X1, batch_size=768, epochs=100)"
   ]
  },
  {
   "cell_type": "code",
   "execution_count": 10,
   "id": "beabf264-533e-428b-91db-9fee1507c2b1",
   "metadata": {
    "collapsed": true,
    "jupyter": {
     "outputs_hidden": true
    },
    "tags": []
   },
   "outputs": [
    {
     "name": "stdout",
     "output_type": "stream",
     "text": [
      "Epoch 1/100\n",
      "2523/2523 [==============================] - 17s 6ms/step - loss: 0.0430\n",
      "Epoch 2/100\n",
      "2523/2523 [==============================] - 17s 7ms/step - loss: 0.0424\n",
      "Epoch 3/100\n",
      "2523/2523 [==============================] - 16s 6ms/step - loss: 0.0422\n",
      "Epoch 4/100\n",
      "2523/2523 [==============================] - 16s 6ms/step - loss: 0.0422\n",
      "Epoch 5/100\n",
      "2523/2523 [==============================] - 16s 6ms/step - loss: 0.0421\n",
      "Epoch 6/100\n",
      "2523/2523 [==============================] - 16s 6ms/step - loss: 0.0425\n",
      "Epoch 7/100\n",
      "2523/2523 [==============================] - 16s 6ms/step - loss: 0.0422\n",
      "Epoch 8/100\n",
      "2523/2523 [==============================] - 16s 6ms/step - loss: 0.0424\n",
      "Epoch 9/100\n",
      "2523/2523 [==============================] - 16s 6ms/step - loss: 0.0420\n",
      "Epoch 10/100\n",
      "2523/2523 [==============================] - 16s 6ms/step - loss: 0.0418\n",
      "Epoch 11/100\n",
      "2523/2523 [==============================] - 16s 6ms/step - loss: 0.0417\n",
      "Epoch 12/100\n",
      "2523/2523 [==============================] - 15s 6ms/step - loss: 0.0416\n",
      "Epoch 13/100\n",
      "2523/2523 [==============================] - 16s 6ms/step - loss: 0.0415\n",
      "Epoch 14/100\n",
      "2523/2523 [==============================] - 15s 6ms/step - loss: 0.0414\n",
      "Epoch 15/100\n",
      "2523/2523 [==============================] - 16s 6ms/step - loss: 0.0414\n",
      "Epoch 16/100\n",
      "2523/2523 [==============================] - 16s 6ms/step - loss: 0.0413\n",
      "Epoch 17/100\n",
      "2523/2523 [==============================] - 15s 6ms/step - loss: 0.0412\n",
      "Epoch 18/100\n",
      "2523/2523 [==============================] - 16s 6ms/step - loss: 0.0412\n",
      "Epoch 19/100\n",
      "2523/2523 [==============================] - 16s 6ms/step - loss: 0.0411\n",
      "Epoch 20/100\n",
      "2523/2523 [==============================] - 15s 6ms/step - loss: 0.0411\n",
      "Epoch 21/100\n",
      "2523/2523 [==============================] - 16s 7ms/step - loss: 0.0410\n",
      "Epoch 22/100\n",
      "2523/2523 [==============================] - 16s 6ms/step - loss: 0.0411\n",
      "Epoch 23/100\n",
      "2523/2523 [==============================] - 16s 6ms/step - loss: 0.0409\n",
      "Epoch 24/100\n",
      "2523/2523 [==============================] - 16s 6ms/step - loss: 0.0408\n",
      "Epoch 25/100\n",
      "2523/2523 [==============================] - 15s 6ms/step - loss: 0.0408\n",
      "Epoch 26/100\n",
      "2523/2523 [==============================] - 16s 6ms/step - loss: 0.0408\n",
      "Epoch 27/100\n",
      "2523/2523 [==============================] - 15s 6ms/step - loss: 0.0407\n",
      "Epoch 28/100\n",
      "2523/2523 [==============================] - 16s 6ms/step - loss: 0.0407\n",
      "Epoch 29/100\n",
      "2523/2523 [==============================] - 16s 6ms/step - loss: 0.0406\n",
      "Epoch 30/100\n",
      "2523/2523 [==============================] - 16s 6ms/step - loss: 0.0406\n",
      "Epoch 31/100\n",
      "2523/2523 [==============================] - 15s 6ms/step - loss: 0.0405\n",
      "Epoch 32/100\n",
      "2523/2523 [==============================] - 16s 6ms/step - loss: 0.0405\n",
      "Epoch 33/100\n",
      "2523/2523 [==============================] - 15s 6ms/step - loss: 0.0405\n",
      "Epoch 34/100\n",
      "2523/2523 [==============================] - 15s 6ms/step - loss: 0.0404\n",
      "Epoch 35/100\n",
      "2523/2523 [==============================] - 15s 6ms/step - loss: 0.0404\n",
      "Epoch 36/100\n",
      "2523/2523 [==============================] - 14s 6ms/step - loss: 0.0405\n",
      "Epoch 37/100\n",
      "2523/2523 [==============================] - 16s 6ms/step - loss: 0.0404\n",
      "Epoch 38/100\n",
      "2523/2523 [==============================] - 16s 6ms/step - loss: 0.0403\n",
      "Epoch 39/100\n",
      "2523/2523 [==============================] - 16s 6ms/step - loss: 0.0403\n",
      "Epoch 40/100\n",
      "2523/2523 [==============================] - 16s 6ms/step - loss: 0.0402\n",
      "Epoch 41/100\n",
      "2523/2523 [==============================] - 16s 6ms/step - loss: 0.0402\n",
      "Epoch 42/100\n",
      "2523/2523 [==============================] - 16s 6ms/step - loss: 0.0402\n",
      "Epoch 43/100\n",
      "2523/2523 [==============================] - 15s 6ms/step - loss: 0.0401\n",
      "Epoch 44/100\n",
      "2523/2523 [==============================] - 15s 6ms/step - loss: 0.0401\n",
      "Epoch 45/100\n",
      "2523/2523 [==============================] - 16s 6ms/step - loss: 0.0401\n",
      "Epoch 46/100\n",
      "2523/2523 [==============================] - 15s 6ms/step - loss: 0.0401\n",
      "Epoch 47/100\n",
      "2523/2523 [==============================] - 16s 6ms/step - loss: 0.0401\n",
      "Epoch 48/100\n",
      "2523/2523 [==============================] - 15s 6ms/step - loss: 0.0401\n",
      "Epoch 49/100\n",
      "2523/2523 [==============================] - 16s 6ms/step - loss: 0.0400\n",
      "Epoch 50/100\n",
      "2523/2523 [==============================] - 16s 6ms/step - loss: 0.0400\n",
      "Epoch 51/100\n",
      "2523/2523 [==============================] - 15s 6ms/step - loss: 0.0399\n",
      "Epoch 52/100\n",
      "2523/2523 [==============================] - 16s 6ms/step - loss: 0.0399\n",
      "Epoch 53/100\n",
      "2523/2523 [==============================] - 16s 6ms/step - loss: 0.0399\n",
      "Epoch 54/100\n",
      "2523/2523 [==============================] - 15s 6ms/step - loss: 0.0399\n",
      "Epoch 55/100\n",
      "2523/2523 [==============================] - 15s 6ms/step - loss: 0.0400\n",
      "Epoch 56/100\n",
      "2523/2523 [==============================] - 15s 6ms/step - loss: 0.0399\n",
      "Epoch 57/100\n",
      "2523/2523 [==============================] - 16s 6ms/step - loss: 0.0398\n",
      "Epoch 58/100\n",
      "2523/2523 [==============================] - 16s 6ms/step - loss: 0.0398\n",
      "Epoch 59/100\n",
      "2523/2523 [==============================] - 15s 6ms/step - loss: 0.0397\n",
      "Epoch 60/100\n",
      "2523/2523 [==============================] - 16s 6ms/step - loss: 0.0397\n",
      "Epoch 61/100\n",
      "2523/2523 [==============================] - 16s 6ms/step - loss: 0.0397\n",
      "Epoch 62/100\n",
      "2523/2523 [==============================] - 16s 6ms/step - loss: 0.0396\n",
      "Epoch 63/100\n",
      "2523/2523 [==============================] - 15s 6ms/step - loss: 0.0397\n",
      "Epoch 64/100\n",
      "2523/2523 [==============================] - 15s 6ms/step - loss: 0.0396\n",
      "Epoch 65/100\n",
      "2523/2523 [==============================] - 15s 6ms/step - loss: 0.0396\n",
      "Epoch 66/100\n",
      "2523/2523 [==============================] - 16s 6ms/step - loss: 0.0396\n",
      "Epoch 67/100\n",
      "2523/2523 [==============================] - 16s 6ms/step - loss: 0.0396\n",
      "Epoch 68/100\n",
      "2523/2523 [==============================] - 15s 6ms/step - loss: 0.0395\n",
      "Epoch 69/100\n",
      "2523/2523 [==============================] - 16s 6ms/step - loss: 0.0395\n",
      "Epoch 70/100\n",
      "2523/2523 [==============================] - 15s 6ms/step - loss: 0.0394\n",
      "Epoch 71/100\n",
      "2523/2523 [==============================] - 16s 6ms/step - loss: 0.0395\n",
      "Epoch 72/100\n",
      "2523/2523 [==============================] - 16s 6ms/step - loss: 0.0395\n",
      "Epoch 73/100\n",
      "2523/2523 [==============================] - 16s 6ms/step - loss: 0.0394\n",
      "Epoch 74/100\n",
      "2523/2523 [==============================] - 15s 6ms/step - loss: 0.0394\n",
      "Epoch 75/100\n",
      "2523/2523 [==============================] - 14s 6ms/step - loss: 0.0394\n",
      "Epoch 76/100\n",
      "2523/2523 [==============================] - 15s 6ms/step - loss: 0.0394\n",
      "Epoch 77/100\n",
      "2523/2523 [==============================] - 16s 6ms/step - loss: 0.0394\n",
      "Epoch 78/100\n",
      "2523/2523 [==============================] - 16s 6ms/step - loss: 0.0395\n",
      "Epoch 79/100\n",
      "2523/2523 [==============================] - 15s 6ms/step - loss: 0.0394\n",
      "Epoch 80/100\n",
      "2523/2523 [==============================] - 16s 6ms/step - loss: 0.0393\n",
      "Epoch 81/100\n",
      "2523/2523 [==============================] - 16s 6ms/step - loss: 0.0394\n",
      "Epoch 82/100\n",
      "2523/2523 [==============================] - 16s 6ms/step - loss: 0.0393\n",
      "Epoch 83/100\n",
      "2523/2523 [==============================] - 15s 6ms/step - loss: 0.0392\n",
      "Epoch 84/100\n",
      "2523/2523 [==============================] - 15s 6ms/step - loss: 0.0393\n",
      "Epoch 85/100\n",
      "2523/2523 [==============================] - 15s 6ms/step - loss: 0.0394\n",
      "Epoch 86/100\n",
      "2523/2523 [==============================] - 15s 6ms/step - loss: 0.0393\n",
      "Epoch 87/100\n",
      "2523/2523 [==============================] - 16s 6ms/step - loss: 0.0393\n",
      "Epoch 88/100\n",
      "2523/2523 [==============================] - 16s 6ms/step - loss: 0.0393\n",
      "Epoch 89/100\n",
      "2523/2523 [==============================] - 15s 6ms/step - loss: 0.0392\n",
      "Epoch 90/100\n",
      "2523/2523 [==============================] - 16s 6ms/step - loss: 0.0392\n",
      "Epoch 91/100\n",
      "2523/2523 [==============================] - 15s 6ms/step - loss: 0.0392\n",
      "Epoch 92/100\n",
      "2523/2523 [==============================] - 14s 6ms/step - loss: 0.0393\n",
      "Epoch 93/100\n",
      "2523/2523 [==============================] - 16s 6ms/step - loss: 0.0393\n",
      "Epoch 94/100\n",
      "2523/2523 [==============================] - 16s 6ms/step - loss: 0.0392\n",
      "Epoch 95/100\n",
      "2523/2523 [==============================] - 15s 6ms/step - loss: 0.0393\n",
      "Epoch 96/100\n",
      "2523/2523 [==============================] - 15s 6ms/step - loss: 0.0392\n",
      "Epoch 97/100\n",
      "2523/2523 [==============================] - 16s 6ms/step - loss: 0.0391\n",
      "Epoch 98/100\n",
      "2523/2523 [==============================] - 16s 6ms/step - loss: 0.0391\n",
      "Epoch 99/100\n",
      "2523/2523 [==============================] - 16s 6ms/step - loss: 0.0392\n",
      "Epoch 100/100\n",
      "2523/2523 [==============================] - 15s 6ms/step - loss: 0.0391\n"
     ]
    }
   ],
   "source": [
    "model.compile(optimizer='Adam',loss='mse')\n",
    "history2 = model.fit(X1, X1, batch_size=768, epochs=100)"
   ]
  },
  {
   "cell_type": "code",
   "execution_count": 11,
   "id": "507ddb38-2328-4335-956e-d1cf59cf94eb",
   "metadata": {},
   "outputs": [
    {
     "data": {
      "text/plain": [
       "<AxesSubplot:>"
      ]
     },
     "execution_count": 11,
     "metadata": {},
     "output_type": "execute_result"
    },
    {
     "data": {
      "image/png": "[encoded data removed]",
      "text/plain": [
       "<Figure size 432x288 with 1 Axes>"
      ]
     },
     "metadata": {
      "needs_background": "light"
     },
     "output_type": "display_data"
    },
    {
     "data": {
      "image/png": "[encoded data removed]",
      "text/plain": [
       "<Figure size 432x288 with 1 Axes>"
      ]
     },
     "metadata": {
      "needs_background": "light"
     },
     "output_type": "display_data"
    }
   ],
   "source": [
    "pd.DataFrame(history1.history).plot()\n",
    "pd.DataFrame(history2.history).plot()"
   ]
  },
  {
   "cell_type": "code",
   "execution_count": 12,
   "id": "b2726073-3fbf-4fcd-ae42-d5adeae0dee5",
   "metadata": {
    "tags": []
   },
   "outputs": [],
   "source": [
    "y_pre = model.predict(X1[:10])"
   ]
  },
  {
   "cell_type": "code",
   "execution_count": 13,
   "id": "f378582d-568d-4827-9fb7-3aa955e9ead6",
   "metadata": {
    "tags": []
   },
   "outputs": [
    {
     "data": {
      "image/png": "[encoded data removed]",
      "text/plain": [
       "<Figure size 1440x576 with 10 Axes>"
      ]
     },
     "metadata": {
      "needs_background": "light"
     },
     "output_type": "display_data"
    }
   ],
   "source": [
    "fig = plt.figure(figsize = (20,8))\n",
    "for i in range(10):\n",
    "    ax = plt.subplot(2,5,i+1)\n",
    "    ax.imshow(y_pre[i])"
   ]
  },
  {
   "cell_type": "code",
   "execution_count": 14,
   "id": "47370e82-eab9-4d29-841d-92f1952c2136",
   "metadata": {},
   "outputs": [],
   "source": [
    "model.save('test_9_model')"
   ]
  },
  {
   "cell_type": "code",
   "execution_count": 15,
   "id": "18837798-7b9d-45c6-9b3b-0fe1881eab3f",
   "metadata": {
    "tags": []
   },
   "outputs": [],
   "source": [
    "X3 = model.encoder(X1[:200000])"
   ]
  },
  {
   "cell_type": "code",
   "execution_count": 17,
   "id": "950376b8-3b36-4c84-a812-e9a8fe81d214",
   "metadata": {},
   "outputs": [],
   "source": [
    "from keras.backend import set_session\n",
    "from keras.backend import clear_session\n",
    "from keras.backend import get_session\n",
    "import tensorflow as tf\n",
    "import gc\n",
    " \n",
    "# Reset Keras Session\n",
    "def reset_keras():\n",
    "    sess = get_session()\n",
    "    clear_session()\n",
    "    sess.close()\n",
    "    sess = get_session()\n",
    " \n",
    "    try:\n",
    "        del classifier # this is from global space - change this as you need\n",
    "    except:\n",
    "        pass\n",
    " \n",
    "    print(gc.collect()) # if it does something you should see a number as output\n",
    " \n",
    "    # use the same config as you used to create the session\n",
    "    config = tf.compat.v1.ConfigProto()\n",
    "    config.gpu_options.per_process_gpu_memory_fraction = 1\n",
    "    config.gpu_options.visible_device_list = \"0\"\n",
    "    set_session(tf.compat.v1.Session(config=config))"
   ]
  },
  {
   "cell_type": "code",
   "execution_count": 19,
   "id": "a06aeaed-3631-4af8-a65e-b231fc3a933a",
   "metadata": {},
   "outputs": [
    {
     "name": "stdout",
     "output_type": "stream",
     "text": [
      "100\n"
     ]
    }
   ],
   "source": [
    "reset_keras()"
   ]
  },
  {
   "cell_type": "code",
   "execution_count": 20,
   "id": "1ce23caf-eba4-4b84-b2be-e6e9a0232fca",
   "metadata": {},
   "outputs": [
    {
     "data": {
      "text/plain": [
       "<tf.Tensor: shape=(200000, 3), dtype=float32, numpy=\n",
       "array([[1.2115654e+01, 5.0497422e+00, 1.1191215e+01],\n",
       "       [2.6091139e+00, 1.8482869e+00, 5.1918697e-01],\n",
       "       [1.0033178e+02, 6.0496723e+01, 4.7451448e+00],\n",
       "       ...,\n",
       "       [8.6147308e+01, 5.4017223e+01, 9.5831901e-02],\n",
       "       [1.5475987e+02, 8.2500389e+01, 8.7359070e+01],\n",
       "       [5.6842422e+01, 6.3645092e+01, 6.4506210e+01]], dtype=float32)>"
      ]
     },
     "execution_count": 20,
     "metadata": {},
     "output_type": "execute_result"
    }
   ],
   "source": [
    "X3"
   ]
  },
  {
   "cell_type": "code",
   "execution_count": 21,
   "id": "3e344033-aa84-4e67-a40a-3716971e4013",
   "metadata": {},
   "outputs": [
    {
     "name": "stdout",
     "output_type": "stream",
     "text": [
      "100\n",
      "100\n",
      "100\n",
      "100\n",
      "100\n",
      "100\n",
      "100\n",
      "100\n"
     ]
    }
   ],
   "source": [
    "X6 = model.encoder(X1[200000:400000])\n",
    "reset_keras()\n",
    "X7 = model.encoder(X1[400000:600000])\n",
    "reset_keras()\n",
    "X8 = model.encoder(X1[600000:800000])\n",
    "reset_keras()\n",
    "X9 = model.encoder(X1[800000:1000000])\n",
    "reset_keras()\n",
    "X10 = model.encoder(X1[1000000:1200000])\n",
    "reset_keras()\n",
    "X11 = model.encoder(X1[1200000:1400000])\n",
    "reset_keras()\n",
    "X12 = model.encoder(X1[1400000:1600000])\n",
    "reset_keras()\n",
    "X13 = model.encoder(X1[1600000:1800000])\n",
    "reset_keras()\n",
    "X14 = model.encoder(X1[1800000:2000000])"
   ]
  },
  {
   "cell_type": "code",
   "execution_count": 22,
   "id": "7f6afb4f-11a1-4a8d-be01-dab5ba3aea1f",
   "metadata": {},
   "outputs": [
    {
     "data": {
      "text/plain": [
       "['/raid/wx_home/learning/2_190w_model_new/parameter adjust macc/test9_data/1800000-2000000']"
      ]
     },
     "execution_count": 22,
     "metadata": {},
     "output_type": "execute_result"
    }
   ],
   "source": [
    "dump(X3, '/raid/wx_home/learning/2_190w_model_new/parameter adjust macc/test9_data/1-200000')\n",
    "dump(X6, '/raid/wx_home/learning/2_190w_model_new/parameter adjust macc/test9_data/200000-400000')\n",
    "dump(X7, '/raid/wx_home/learning/2_190w_model_new/parameter adjust macc/test9_data/400000-600000')\n",
    "dump(X8, '/raid/wx_home/learning/2_190w_model_new/parameter adjust macc/test9_data/600000-800000')\n",
    "dump(X9, '/raid/wx_home/learning/2_190w_model_new/parameter adjust macc/test9_data/800000-1000000')\n",
    "dump(X10, '/raid/wx_home/learning/2_190w_model_new/parameter adjust macc/test9_data/1000000-1200000')\n",
    "dump(X11, '/raid/wx_home/learning/2_190w_model_new/parameter adjust macc/test9_data/1200000-1400000')\n",
    "dump(X12, '/raid/wx_home/learning/2_190w_model_new/parameter adjust macc/test9_data/1400000-1600000')\n",
    "dump(X13, '/raid/wx_home/learning/2_190w_model_new/parameter adjust macc/test9_data/1600000-1800000')\n",
    "dump(X14, '/raid/wx_home/learning/2_190w_model_new/parameter adjust macc/test9_data/1800000-2000000')"
   ]
  },
  {
   "cell_type": "code",
   "execution_count": null,
   "id": "6d92b7d9-51a8-44e1-858c-250017b21adf",
   "metadata": {},
   "outputs": [],
   "source": []
  }
 ],
 "metadata": {
  "kernelspec": {
   "display_name": "tensorflow",
   "language": "python",
   "name": "tensorflow"
  },
  "language_info": {
   "codemirror_mode": {
    "name": "ipython",
    "version": 3
   },
   "file_extension": ".py",
   "mimetype": "text/x-python",
   "name": "python",
   "nbconvert_exporter": "python",
   "pygments_lexer": "ipython3",
   "version": "3.6.15"
  }
 },
 "nbformat": 4,
 "nbformat_minor": 5
}
